{
 "cells": [
  {
   "cell_type": "markdown",
   "metadata": {},
   "source": [
    "# **Airbnb**\n",
    "\n",
    "Airbnb es un mercado en línea y servicio de hospitalidad, que permite a las personas arrendar o alquilar alojamiento a corto plazo. Para que Airbnb brinde una experiencia personalizada a sus clientes, busca explorar la posibilidad de predecir el país de destino en el que un usuario realizará una reserva. Con esta información, Airbnb puede crear contenido más personalizado con su comunidad, disminuir el tiempo promedio para la primera reserva y mejorar la previsión de la demanda. Estos objetivos proporcionan beneficios mutuos para Airbnb y sus clientes: las recomendaciones personales pueden mejorar el compromiso de los clientes con la plataforma, lo que fomenta las reservas repetidas y las referencias a Airbnb para aquellos los amigos cercanos y familiares. En este ejercicio tenemos los datos de los clientes de Airbnb y se busca predecir el primer destino de reserva para los nuevos clientes de Airbnb que viajan desde los Estados Unidos. La variable de respuesta es el destino donde se realiza la reserva.\n",
    "\n",
    "# Predicción de destinos de Airbnb\n",
    "\n",
    "\n",
    "Este notebook demuestra todo el proceso de construcción de un modelo predictivo para sugerir el primer destino de los nuevos usuarios de Airbnb. Todos los procesos involucrados, tales como la ordenación de datos, el análisis exploratorio de datos, las estadísticas inferenciales y el aprendizaje automático, se han dividido en secciones principales.\n",
    "\n",
    "**CONJUNTO DE DATOS**\n",
    "\n",
    "Para este ejercicio se contara con el siguiente conjuntos de datos:\n",
    "\n",
    "Una lista de usuarios junto con sus datos demográficos. Registros de sesiones web y algunas estadísticas de resumen. Debemos predecir en qué país será el primer destino de la reserva de un nuevo usuario. Todos los usuarios en el conjunto de datos son de los Estados Unidos.\n",
    "\n",
    "Hay 12 resultados posibles del país de destino: ' US ',' FR ',' CA ',' GB ',' ES ',' IT ',' PT ',' NL ',' DE ',' AU ', 'NDF' (no se encontró destino), y 'otro'. 'otro' significa que hubo una reserva, pero es para un país que no está incluido en la lista, mientras que 'NDF' significa que no había una reserva.\n",
    "\n",
    "Los conjuntos de entrenamiento y prueba están divididos por fechas. El conjunto de pruebas contiene nuevos usuarios con primeras actividades después del 07/01/2014. En el conjunto de datos de las sesiones, los datos solo se remontan al 01/01/2014, mientras que el conjunto de datos de los usuarios se remonta a 2010."
   ]
  },
  {
   "cell_type": "markdown",
   "metadata": {},
   "source": [
    "## Preprocesamiento de Datos\n",
    "En este paso vamos a limpiar los datos. \n",
    "Todo el Preprocesamiento de datos se realizará utilizando la biblioteca de Python Pandas.\n"
   ]
  },
  {
   "cell_type": "code",
   "execution_count": 1,
   "metadata": {},
   "outputs": [],
   "source": [
    "%matplotlib inline\n",
    "import pandas as pd\n",
    "import numpy as np\n",
    "from scipy import stats\n",
    "import seaborn as sns\n",
    "import matplotlib.pyplot as plt\n",
    "from sklearn.ensemble import RandomForestClassifier, VotingClassifier\n",
    "from sklearn.neighbors import KNeighborsClassifier\n",
    "from sklearn.model_selection import train_test_split, GridSearchCV\n",
    "from sklearn.feature_selection import RFE\n",
    "from sklearn.preprocessing import StandardScaler\n",
    "from sklearn.ensemble import GradientBoostingClassifier\n",
    "from sklearn.linear_model import LogisticRegression"
   ]
  },
  {
   "cell_type": "markdown",
   "metadata": {},
   "source": [
    "El primer paso es cargar todos los datos disponibles para nosotros en un Pandas Dataframe y extraer información básica como el número de muestras, el número de filas de valores nulos, el número de funciones, etc. \n",
    "El siguiente paso sería tratar los valores faltantes usando un método adecuado (eliminación, interpolación, etc.) y convertir ciertas características en una forma más adecuada para aplicar estadísticas inferenciales y machine learning algorithms."
   ]
  },
  {
   "cell_type": "markdown",
   "metadata": {},
   "source": [
    "### Estadística de edad, género y población\n"
   ]
  },
  {
   "cell_type": "code",
   "execution_count": 2,
   "metadata": {},
   "outputs": [
    {
     "data": {
      "text/html": [
       "<div>\n",
       "<style scoped>\n",
       "    .dataframe tbody tr th:only-of-type {\n",
       "        vertical-align: middle;\n",
       "    }\n",
       "\n",
       "    .dataframe tbody tr th {\n",
       "        vertical-align: top;\n",
       "    }\n",
       "\n",
       "    .dataframe thead th {\n",
       "        text-align: right;\n",
       "    }\n",
       "</style>\n",
       "<table border=\"1\" class=\"dataframe\">\n",
       "  <thead>\n",
       "    <tr style=\"text-align: right;\">\n",
       "      <th></th>\n",
       "      <th>age_bucket</th>\n",
       "      <th>country_destination</th>\n",
       "      <th>gender</th>\n",
       "      <th>population_in_thousands</th>\n",
       "      <th>year</th>\n",
       "    </tr>\n",
       "  </thead>\n",
       "  <tbody>\n",
       "    <tr>\n",
       "      <th>0</th>\n",
       "      <td>100+</td>\n",
       "      <td>AU</td>\n",
       "      <td>male</td>\n",
       "      <td>1.0</td>\n",
       "      <td>2015.0</td>\n",
       "    </tr>\n",
       "    <tr>\n",
       "      <th>1</th>\n",
       "      <td>95-99</td>\n",
       "      <td>AU</td>\n",
       "      <td>male</td>\n",
       "      <td>9.0</td>\n",
       "      <td>2015.0</td>\n",
       "    </tr>\n",
       "    <tr>\n",
       "      <th>2</th>\n",
       "      <td>90-94</td>\n",
       "      <td>AU</td>\n",
       "      <td>male</td>\n",
       "      <td>47.0</td>\n",
       "      <td>2015.0</td>\n",
       "    </tr>\n",
       "    <tr>\n",
       "      <th>3</th>\n",
       "      <td>85-89</td>\n",
       "      <td>AU</td>\n",
       "      <td>male</td>\n",
       "      <td>118.0</td>\n",
       "      <td>2015.0</td>\n",
       "    </tr>\n",
       "    <tr>\n",
       "      <th>4</th>\n",
       "      <td>80-84</td>\n",
       "      <td>AU</td>\n",
       "      <td>male</td>\n",
       "      <td>199.0</td>\n",
       "      <td>2015.0</td>\n",
       "    </tr>\n",
       "  </tbody>\n",
       "</table>\n",
       "</div>"
      ],
      "text/plain": [
       "  age_bucket country_destination gender  population_in_thousands    year\n",
       "0       100+                  AU   male                      1.0  2015.0\n",
       "1      95-99                  AU   male                      9.0  2015.0\n",
       "2      90-94                  AU   male                     47.0  2015.0\n",
       "3      85-89                  AU   male                    118.0  2015.0\n",
       "4      80-84                  AU   male                    199.0  2015.0"
      ]
     },
     "execution_count": 2,
     "metadata": {},
     "output_type": "execute_result"
    }
   ],
   "source": [
    "df_agb = pd.read_csv('../input/age_gender_bkts.csv')\n",
    "df_agb.head()"
   ]
  },
  {
   "cell_type": "code",
   "execution_count": 3,
   "metadata": {},
   "outputs": [
    {
     "data": {
      "text/plain": [
       "False"
      ]
     },
     "execution_count": 3,
     "metadata": {},
     "output_type": "execute_result"
    }
   ],
   "source": [
    "df_agb.isnull().values.any()"
   ]
  },
  {
   "cell_type": "markdown",
   "metadata": {},
   "source": [
    "Este Dataset no tiene valores nulos entre sus características.\n",
    "\n",
    "Como primer paso, tratemos el dato de la edad. Las edades se indican en bloques de tamaño 5. Convertiremos esto en un valor numérico para que podamos aumentar su versatilidad si fuera necesario (es decir, se puede usar tanto como una característica categórica como continua). Como el tamaño del bloque es razonablemente pequeño, podemos definir una nueva función, **mean_age** que puede representar edades sin demasiada pérdida de información. El campo **mean_age** será el promedio del rango superior e inferior para ese bloque en particular."
   ]
  },
  {
   "cell_type": "code",
   "execution_count": 4,
   "metadata": {},
   "outputs": [
    {
     "data": {
      "text/html": [
       "<div>\n",
       "<style scoped>\n",
       "    .dataframe tbody tr th:only-of-type {\n",
       "        vertical-align: middle;\n",
       "    }\n",
       "\n",
       "    .dataframe tbody tr th {\n",
       "        vertical-align: top;\n",
       "    }\n",
       "\n",
       "    .dataframe thead th {\n",
       "        text-align: right;\n",
       "    }\n",
       "</style>\n",
       "<table border=\"1\" class=\"dataframe\">\n",
       "  <thead>\n",
       "    <tr style=\"text-align: right;\">\n",
       "      <th></th>\n",
       "      <th>country_destination</th>\n",
       "      <th>gender</th>\n",
       "      <th>population_in_thousands</th>\n",
       "      <th>year</th>\n",
       "      <th>mean_age</th>\n",
       "    </tr>\n",
       "  </thead>\n",
       "  <tbody>\n",
       "    <tr>\n",
       "      <th>0</th>\n",
       "      <td>AU</td>\n",
       "      <td>male</td>\n",
       "      <td>1.0</td>\n",
       "      <td>2015.0</td>\n",
       "      <td>102.0</td>\n",
       "    </tr>\n",
       "    <tr>\n",
       "      <th>1</th>\n",
       "      <td>AU</td>\n",
       "      <td>male</td>\n",
       "      <td>9.0</td>\n",
       "      <td>2015.0</td>\n",
       "      <td>97.0</td>\n",
       "    </tr>\n",
       "    <tr>\n",
       "      <th>2</th>\n",
       "      <td>AU</td>\n",
       "      <td>male</td>\n",
       "      <td>47.0</td>\n",
       "      <td>2015.0</td>\n",
       "      <td>92.0</td>\n",
       "    </tr>\n",
       "    <tr>\n",
       "      <th>3</th>\n",
       "      <td>AU</td>\n",
       "      <td>male</td>\n",
       "      <td>118.0</td>\n",
       "      <td>2015.0</td>\n",
       "      <td>87.0</td>\n",
       "    </tr>\n",
       "    <tr>\n",
       "      <th>4</th>\n",
       "      <td>AU</td>\n",
       "      <td>male</td>\n",
       "      <td>199.0</td>\n",
       "      <td>2015.0</td>\n",
       "      <td>82.0</td>\n",
       "    </tr>\n",
       "  </tbody>\n",
       "</table>\n",
       "</div>"
      ],
      "text/plain": [
       "  country_destination gender    ...       year  mean_age\n",
       "0                  AU   male    ...     2015.0     102.0\n",
       "1                  AU   male    ...     2015.0      97.0\n",
       "2                  AU   male    ...     2015.0      92.0\n",
       "3                  AU   male    ...     2015.0      87.0\n",
       "4                  AU   male    ...     2015.0      82.0\n",
       "\n",
       "[5 rows x 5 columns]"
      ]
     },
     "execution_count": 4,
     "metadata": {},
     "output_type": "execute_result"
    }
   ],
   "source": [
    "#Convert 100+ into a bin.\n",
    "df_agb['age_bucket'] = df_agb['age_bucket'].apply(lambda x: '100-104' if x == '100+' else x)\n",
    "#Define mean_age feature\n",
    "df_agb['mean_age'] = df_agb['age_bucket'].apply(lambda x: (int(x.split('-')[0]) + int(x.split('-')[1]))/2)\n",
    "df_agb = df_agb.drop('age_bucket', axis=1)\n",
    "df_agb.head()"
   ]
  },
  {
   "cell_type": "code",
   "execution_count": 5,
   "metadata": {},
   "outputs": [
    {
     "data": {
      "text/plain": [
       "CA    42\n",
       "GB    42\n",
       "IT    42\n",
       "US    42\n",
       "DE    42\n",
       "NL    42\n",
       "FR    42\n",
       "ES    42\n",
       "AU    42\n",
       "PT    42\n",
       "Name: country_destination, dtype: int64"
      ]
     },
     "execution_count": 5,
     "metadata": {},
     "output_type": "execute_result"
    }
   ],
   "source": [
    "df_agb['country_destination'].value_counts()"
   ]
  },
  {
   "cell_type": "markdown",
   "metadata": {},
   "source": [
    "El número de países es extremadamente pequeño. Probablemente corresponda a las clases por país disponibles en el conjunto de datos de capacitación que cubriremos más adelante en esta sección."
   ]
  },
  {
   "cell_type": "code",
   "execution_count": 6,
   "metadata": {},
   "outputs": [
    {
     "data": {
      "text/plain": [
       "male      210\n",
       "female    210\n",
       "Name: gender, dtype: int64"
      ]
     },
     "execution_count": 6,
     "metadata": {},
     "output_type": "execute_result"
    }
   ],
   "source": [
    "df_agb['gender'].value_counts()"
   ]
  },
  {
   "cell_type": "markdown",
   "metadata": {},
   "source": [
    "El género también se puede convertir en una variable binaria categórica. Representemos ** hombres con 0 y mujeres con 1. ** De nuevo, hacemos esto en caso de que necesitemos que esta variable funcione como una cantidad numérica. Debe indicarse que no hay una necesidad inmediata de ello y, por lo tanto, se puede omitir."
   ]
  },
  {
   "cell_type": "code",
   "execution_count": 7,
   "metadata": {},
   "outputs": [
    {
     "data": {
      "text/plain": [
       "1    210\n",
       "0    210\n",
       "Name: gender, dtype: int64"
      ]
     },
     "execution_count": 7,
     "metadata": {},
     "output_type": "execute_result"
    }
   ],
   "source": [
    "df_agb['gender'] = df_agb['gender'].apply(lambda x: 0 if x == 'male' else 1)\n",
    "df_agb['gender'].value_counts()"
   ]
  },
  {
   "cell_type": "code",
   "execution_count": 8,
   "metadata": {},
   "outputs": [
    {
     "data": {
      "text/plain": [
       "2015.0    420\n",
       "Name: year, dtype: int64"
      ]
     },
     "execution_count": 8,
     "metadata": {},
     "output_type": "execute_result"
    }
   ],
   "source": [
    "df_agb['year'].value_counts()"
   ]
  },
  {
   "cell_type": "markdown",
   "metadata": {},
   "source": [
    "Solo hay un valor disponible para la característica del año. Por lo tanto, no tiene sentido mantener esta función, ya que no agrega ninguna información sobre los datos disponibles para nosotros. Dejaremos caer esta característica."
   ]
  },
  {
   "cell_type": "code",
   "execution_count": 9,
   "metadata": {},
   "outputs": [
    {
     "data": {
      "text/html": [
       "<div>\n",
       "<style scoped>\n",
       "    .dataframe tbody tr th:only-of-type {\n",
       "        vertical-align: middle;\n",
       "    }\n",
       "\n",
       "    .dataframe tbody tr th {\n",
       "        vertical-align: top;\n",
       "    }\n",
       "\n",
       "    .dataframe thead th {\n",
       "        text-align: right;\n",
       "    }\n",
       "</style>\n",
       "<table border=\"1\" class=\"dataframe\">\n",
       "  <thead>\n",
       "    <tr style=\"text-align: right;\">\n",
       "      <th></th>\n",
       "      <th>country_destination</th>\n",
       "      <th>gender</th>\n",
       "      <th>population_in_thousands</th>\n",
       "      <th>mean_age</th>\n",
       "    </tr>\n",
       "  </thead>\n",
       "  <tbody>\n",
       "    <tr>\n",
       "      <th>0</th>\n",
       "      <td>AU</td>\n",
       "      <td>0</td>\n",
       "      <td>1.0</td>\n",
       "      <td>102.0</td>\n",
       "    </tr>\n",
       "    <tr>\n",
       "      <th>1</th>\n",
       "      <td>AU</td>\n",
       "      <td>0</td>\n",
       "      <td>9.0</td>\n",
       "      <td>97.0</td>\n",
       "    </tr>\n",
       "    <tr>\n",
       "      <th>2</th>\n",
       "      <td>AU</td>\n",
       "      <td>0</td>\n",
       "      <td>47.0</td>\n",
       "      <td>92.0</td>\n",
       "    </tr>\n",
       "    <tr>\n",
       "      <th>3</th>\n",
       "      <td>AU</td>\n",
       "      <td>0</td>\n",
       "      <td>118.0</td>\n",
       "      <td>87.0</td>\n",
       "    </tr>\n",
       "    <tr>\n",
       "      <th>4</th>\n",
       "      <td>AU</td>\n",
       "      <td>0</td>\n",
       "      <td>199.0</td>\n",
       "      <td>82.0</td>\n",
       "    </tr>\n",
       "  </tbody>\n",
       "</table>\n",
       "</div>"
      ],
      "text/plain": [
       "  country_destination  gender  population_in_thousands  mean_age\n",
       "0                  AU       0                      1.0     102.0\n",
       "1                  AU       0                      9.0      97.0\n",
       "2                  AU       0                     47.0      92.0\n",
       "3                  AU       0                    118.0      87.0\n",
       "4                  AU       0                    199.0      82.0"
      ]
     },
     "execution_count": 9,
     "metadata": {},
     "output_type": "execute_result"
    }
   ],
   "source": [
    "df_agb = df_agb.drop('year', axis=1)\n",
    "df_agb.head()"
   ]
  },
  {
   "cell_type": "markdown",
   "metadata": {},
   "source": [
    "### Estadisticas de País"
   ]
  },
  {
   "cell_type": "code",
   "execution_count": 10,
   "metadata": {},
   "outputs": [
    {
     "data": {
      "text/html": [
       "<div>\n",
       "<style scoped>\n",
       "    .dataframe tbody tr th:only-of-type {\n",
       "        vertical-align: middle;\n",
       "    }\n",
       "\n",
       "    .dataframe tbody tr th {\n",
       "        vertical-align: top;\n",
       "    }\n",
       "\n",
       "    .dataframe thead th {\n",
       "        text-align: right;\n",
       "    }\n",
       "</style>\n",
       "<table border=\"1\" class=\"dataframe\">\n",
       "  <thead>\n",
       "    <tr style=\"text-align: right;\">\n",
       "      <th></th>\n",
       "      <th>country_destination</th>\n",
       "      <th>lat_destination</th>\n",
       "      <th>lng_destination</th>\n",
       "      <th>distance_km</th>\n",
       "      <th>destination_km2</th>\n",
       "      <th>destination_language</th>\n",
       "      <th>language_levenshtein_distance</th>\n",
       "    </tr>\n",
       "  </thead>\n",
       "  <tbody>\n",
       "    <tr>\n",
       "      <th>0</th>\n",
       "      <td>AU</td>\n",
       "      <td>-26.853388</td>\n",
       "      <td>133.275160</td>\n",
       "      <td>15297.7440</td>\n",
       "      <td>7741220.0</td>\n",
       "      <td>eng</td>\n",
       "      <td>0.00</td>\n",
       "    </tr>\n",
       "    <tr>\n",
       "      <th>1</th>\n",
       "      <td>CA</td>\n",
       "      <td>62.393303</td>\n",
       "      <td>-96.818146</td>\n",
       "      <td>2828.1333</td>\n",
       "      <td>9984670.0</td>\n",
       "      <td>eng</td>\n",
       "      <td>0.00</td>\n",
       "    </tr>\n",
       "    <tr>\n",
       "      <th>2</th>\n",
       "      <td>DE</td>\n",
       "      <td>51.165707</td>\n",
       "      <td>10.452764</td>\n",
       "      <td>7879.5680</td>\n",
       "      <td>357022.0</td>\n",
       "      <td>deu</td>\n",
       "      <td>72.61</td>\n",
       "    </tr>\n",
       "    <tr>\n",
       "      <th>3</th>\n",
       "      <td>ES</td>\n",
       "      <td>39.896027</td>\n",
       "      <td>-2.487694</td>\n",
       "      <td>7730.7240</td>\n",
       "      <td>505370.0</td>\n",
       "      <td>spa</td>\n",
       "      <td>92.25</td>\n",
       "    </tr>\n",
       "    <tr>\n",
       "      <th>4</th>\n",
       "      <td>FR</td>\n",
       "      <td>46.232193</td>\n",
       "      <td>2.209667</td>\n",
       "      <td>7682.9450</td>\n",
       "      <td>643801.0</td>\n",
       "      <td>fra</td>\n",
       "      <td>92.06</td>\n",
       "    </tr>\n",
       "    <tr>\n",
       "      <th>5</th>\n",
       "      <td>GB</td>\n",
       "      <td>54.633220</td>\n",
       "      <td>-3.432277</td>\n",
       "      <td>6883.6590</td>\n",
       "      <td>243610.0</td>\n",
       "      <td>eng</td>\n",
       "      <td>0.00</td>\n",
       "    </tr>\n",
       "    <tr>\n",
       "      <th>6</th>\n",
       "      <td>IT</td>\n",
       "      <td>41.873990</td>\n",
       "      <td>12.564167</td>\n",
       "      <td>8636.6310</td>\n",
       "      <td>301340.0</td>\n",
       "      <td>ita</td>\n",
       "      <td>89.40</td>\n",
       "    </tr>\n",
       "    <tr>\n",
       "      <th>7</th>\n",
       "      <td>NL</td>\n",
       "      <td>52.133057</td>\n",
       "      <td>5.295250</td>\n",
       "      <td>7524.3203</td>\n",
       "      <td>41543.0</td>\n",
       "      <td>nld</td>\n",
       "      <td>63.22</td>\n",
       "    </tr>\n",
       "    <tr>\n",
       "      <th>8</th>\n",
       "      <td>PT</td>\n",
       "      <td>39.553444</td>\n",
       "      <td>-7.839319</td>\n",
       "      <td>7355.2534</td>\n",
       "      <td>92090.0</td>\n",
       "      <td>por</td>\n",
       "      <td>95.45</td>\n",
       "    </tr>\n",
       "    <tr>\n",
       "      <th>9</th>\n",
       "      <td>US</td>\n",
       "      <td>36.966427</td>\n",
       "      <td>-95.844030</td>\n",
       "      <td>0.0000</td>\n",
       "      <td>9826675.0</td>\n",
       "      <td>eng</td>\n",
       "      <td>0.00</td>\n",
       "    </tr>\n",
       "  </tbody>\n",
       "</table>\n",
       "</div>"
      ],
      "text/plain": [
       "  country_destination              ...                language_levenshtein_distance\n",
       "0                  AU              ...                                         0.00\n",
       "1                  CA              ...                                         0.00\n",
       "2                  DE              ...                                        72.61\n",
       "3                  ES              ...                                        92.25\n",
       "4                  FR              ...                                        92.06\n",
       "5                  GB              ...                                         0.00\n",
       "6                  IT              ...                                        89.40\n",
       "7                  NL              ...                                        63.22\n",
       "8                  PT              ...                                        95.45\n",
       "9                  US              ...                                         0.00\n",
       "\n",
       "[10 rows x 7 columns]"
      ]
     },
     "execution_count": 10,
     "metadata": {},
     "output_type": "execute_result"
    }
   ],
   "source": [
    "df_con = pd.read_csv('../input/countries.csv')\n",
    "df_con"
   ]
  },
  {
   "cell_type": "markdown",
   "metadata": {},
   "source": [
    "Como tal, no necesitamos realizar ninguna limpieza para este conjunto de datos. Las estadísticas que se proporcionan aquí deberán incorporarse a nuestros conjuntos de datos de capacitación y pruebas antes de capacitar a nuestro modelo y/o se tendrán que utilizar en el análisis de datos exploratorios para obtener información adicional."
   ]
  },
  {
   "cell_type": "markdown",
   "metadata": {},
   "source": [
    "### Sesiones\n"
   ]
  },
  {
   "cell_type": "code",
   "execution_count": 11,
   "metadata": {},
   "outputs": [
    {
     "data": {
      "text/html": [
       "<div>\n",
       "<style scoped>\n",
       "    .dataframe tbody tr th:only-of-type {\n",
       "        vertical-align: middle;\n",
       "    }\n",
       "\n",
       "    .dataframe tbody tr th {\n",
       "        vertical-align: top;\n",
       "    }\n",
       "\n",
       "    .dataframe thead th {\n",
       "        text-align: right;\n",
       "    }\n",
       "</style>\n",
       "<table border=\"1\" class=\"dataframe\">\n",
       "  <thead>\n",
       "    <tr style=\"text-align: right;\">\n",
       "      <th></th>\n",
       "      <th>user_id</th>\n",
       "      <th>action</th>\n",
       "      <th>action_type</th>\n",
       "      <th>action_detail</th>\n",
       "      <th>device_type</th>\n",
       "      <th>secs_elapsed</th>\n",
       "    </tr>\n",
       "  </thead>\n",
       "  <tbody>\n",
       "    <tr>\n",
       "      <th>0</th>\n",
       "      <td>d1mm9tcy42</td>\n",
       "      <td>lookup</td>\n",
       "      <td>NaN</td>\n",
       "      <td>NaN</td>\n",
       "      <td>Windows Desktop</td>\n",
       "      <td>319.0</td>\n",
       "    </tr>\n",
       "    <tr>\n",
       "      <th>1</th>\n",
       "      <td>d1mm9tcy42</td>\n",
       "      <td>search_results</td>\n",
       "      <td>click</td>\n",
       "      <td>view_search_results</td>\n",
       "      <td>Windows Desktop</td>\n",
       "      <td>67753.0</td>\n",
       "    </tr>\n",
       "    <tr>\n",
       "      <th>2</th>\n",
       "      <td>d1mm9tcy42</td>\n",
       "      <td>lookup</td>\n",
       "      <td>NaN</td>\n",
       "      <td>NaN</td>\n",
       "      <td>Windows Desktop</td>\n",
       "      <td>301.0</td>\n",
       "    </tr>\n",
       "    <tr>\n",
       "      <th>3</th>\n",
       "      <td>d1mm9tcy42</td>\n",
       "      <td>search_results</td>\n",
       "      <td>click</td>\n",
       "      <td>view_search_results</td>\n",
       "      <td>Windows Desktop</td>\n",
       "      <td>22141.0</td>\n",
       "    </tr>\n",
       "    <tr>\n",
       "      <th>4</th>\n",
       "      <td>d1mm9tcy42</td>\n",
       "      <td>lookup</td>\n",
       "      <td>NaN</td>\n",
       "      <td>NaN</td>\n",
       "      <td>Windows Desktop</td>\n",
       "      <td>435.0</td>\n",
       "    </tr>\n",
       "    <tr>\n",
       "      <th>5</th>\n",
       "      <td>d1mm9tcy42</td>\n",
       "      <td>search_results</td>\n",
       "      <td>click</td>\n",
       "      <td>view_search_results</td>\n",
       "      <td>Windows Desktop</td>\n",
       "      <td>7703.0</td>\n",
       "    </tr>\n",
       "    <tr>\n",
       "      <th>6</th>\n",
       "      <td>d1mm9tcy42</td>\n",
       "      <td>lookup</td>\n",
       "      <td>NaN</td>\n",
       "      <td>NaN</td>\n",
       "      <td>Windows Desktop</td>\n",
       "      <td>115.0</td>\n",
       "    </tr>\n",
       "    <tr>\n",
       "      <th>7</th>\n",
       "      <td>d1mm9tcy42</td>\n",
       "      <td>personalize</td>\n",
       "      <td>data</td>\n",
       "      <td>wishlist_content_update</td>\n",
       "      <td>Windows Desktop</td>\n",
       "      <td>831.0</td>\n",
       "    </tr>\n",
       "    <tr>\n",
       "      <th>8</th>\n",
       "      <td>d1mm9tcy42</td>\n",
       "      <td>index</td>\n",
       "      <td>view</td>\n",
       "      <td>view_search_results</td>\n",
       "      <td>Windows Desktop</td>\n",
       "      <td>20842.0</td>\n",
       "    </tr>\n",
       "    <tr>\n",
       "      <th>9</th>\n",
       "      <td>d1mm9tcy42</td>\n",
       "      <td>lookup</td>\n",
       "      <td>NaN</td>\n",
       "      <td>NaN</td>\n",
       "      <td>Windows Desktop</td>\n",
       "      <td>683.0</td>\n",
       "    </tr>\n",
       "    <tr>\n",
       "      <th>10</th>\n",
       "      <td>d1mm9tcy42</td>\n",
       "      <td>search_results</td>\n",
       "      <td>click</td>\n",
       "      <td>view_search_results</td>\n",
       "      <td>Windows Desktop</td>\n",
       "      <td>59274.0</td>\n",
       "    </tr>\n",
       "    <tr>\n",
       "      <th>11</th>\n",
       "      <td>d1mm9tcy42</td>\n",
       "      <td>lookup</td>\n",
       "      <td>NaN</td>\n",
       "      <td>NaN</td>\n",
       "      <td>Windows Desktop</td>\n",
       "      <td>95.0</td>\n",
       "    </tr>\n",
       "    <tr>\n",
       "      <th>12</th>\n",
       "      <td>d1mm9tcy42</td>\n",
       "      <td>personalize</td>\n",
       "      <td>data</td>\n",
       "      <td>wishlist_content_update</td>\n",
       "      <td>Windows Desktop</td>\n",
       "      <td>1399.0</td>\n",
       "    </tr>\n",
       "    <tr>\n",
       "      <th>13</th>\n",
       "      <td>d1mm9tcy42</td>\n",
       "      <td>index</td>\n",
       "      <td>view</td>\n",
       "      <td>view_search_results</td>\n",
       "      <td>Windows Desktop</td>\n",
       "      <td>74886.0</td>\n",
       "    </tr>\n",
       "    <tr>\n",
       "      <th>14</th>\n",
       "      <td>d1mm9tcy42</td>\n",
       "      <td>similar_listings</td>\n",
       "      <td>data</td>\n",
       "      <td>similar_listings</td>\n",
       "      <td>Windows Desktop</td>\n",
       "      <td>255.0</td>\n",
       "    </tr>\n",
       "  </tbody>\n",
       "</table>\n",
       "</div>"
      ],
      "text/plain": [
       "       user_id            action     ...           device_type secs_elapsed\n",
       "0   d1mm9tcy42            lookup     ...       Windows Desktop        319.0\n",
       "1   d1mm9tcy42    search_results     ...       Windows Desktop      67753.0\n",
       "2   d1mm9tcy42            lookup     ...       Windows Desktop        301.0\n",
       "3   d1mm9tcy42    search_results     ...       Windows Desktop      22141.0\n",
       "4   d1mm9tcy42            lookup     ...       Windows Desktop        435.0\n",
       "5   d1mm9tcy42    search_results     ...       Windows Desktop       7703.0\n",
       "6   d1mm9tcy42            lookup     ...       Windows Desktop        115.0\n",
       "7   d1mm9tcy42       personalize     ...       Windows Desktop        831.0\n",
       "8   d1mm9tcy42             index     ...       Windows Desktop      20842.0\n",
       "9   d1mm9tcy42            lookup     ...       Windows Desktop        683.0\n",
       "10  d1mm9tcy42    search_results     ...       Windows Desktop      59274.0\n",
       "11  d1mm9tcy42            lookup     ...       Windows Desktop         95.0\n",
       "12  d1mm9tcy42       personalize     ...       Windows Desktop       1399.0\n",
       "13  d1mm9tcy42             index     ...       Windows Desktop      74886.0\n",
       "14  d1mm9tcy42  similar_listings     ...       Windows Desktop        255.0\n",
       "\n",
       "[15 rows x 6 columns]"
      ]
     },
     "execution_count": 11,
     "metadata": {},
     "output_type": "execute_result"
    }
   ],
   "source": [
    "df_ses = pd.read_csv('../input/sessions.csv')\n",
    "df_ses.head(15)"
   ]
  },
  {
   "cell_type": "code",
   "execution_count": 12,
   "metadata": {},
   "outputs": [
    {
     "data": {
      "text/plain": [
       "(10567737, 6)"
      ]
     },
     "execution_count": 12,
     "metadata": {},
     "output_type": "execute_result"
    }
   ],
   "source": [
    "df_ses.shape"
   ]
  },
  {
   "cell_type": "markdown",
   "metadata": {},
   "source": [
    "Reemplazaremos los valores desconocidos con NaN para darle algún significado semántico esto dara lugar a mejores predicciones."
   ]
  },
  {
   "cell_type": "code",
   "execution_count": 13,
   "metadata": {},
   "outputs": [],
   "source": [
    "df_ses['action'] = df_ses['action'].replace('-unknown-', np.nan)\n",
    "df_ses['action_type'] = df_ses['action_type'].replace('-unknown-', np.nan)\n",
    "df_ses['action_detail'] = df_ses['action_detail'].replace('-unknown-', np.nan)"
   ]
  },
  {
   "cell_type": "markdown",
   "metadata": {},
   "source": [
    "Primero, revisemos la variable secs_elapsed."
   ]
  },
  {
   "cell_type": "code",
   "execution_count": 14,
   "metadata": {},
   "outputs": [
    {
     "name": "stderr",
     "output_type": "stream",
     "text": [
      "/opt/conda/lib/python3.6/site-packages/scipy/stats/stats.py:1713: FutureWarning: Using a non-tuple sequence for multidimensional indexing is deprecated; use `arr[tuple(seq)]` instead of `arr[seq]`. In the future this will be interpreted as an array index, `arr[np.array(seq)]`, which will result either in an error or a different result.\n",
      "  return np.add.reduce(sorted[indexer] * weights, axis=axis) / sumval\n"
     ]
    },
    {
     "data": {
      "text/plain": [
       "<matplotlib.axes._subplots.AxesSubplot at 0x7fa939b59080>"
      ]
     },
     "execution_count": 14,
     "metadata": {},
     "output_type": "execute_result"
    },
    {
     "data": {
      "image/png": "[encoded data removed]",
      "text/plain": [
       "<Figure size 432x288 with 1 Axes>"
      ]
     },
     "metadata": {},
     "output_type": "display_data"
    }
   ],
   "source": [
    "sns.distplot(df_ses[df_ses['secs_elapsed'].notnull()]['secs_elapsed'])"
   ]
  },
  {
   "cell_type": "code",
   "execution_count": 15,
   "metadata": {},
   "outputs": [
    {
     "data": {
      "text/plain": [
       "count    1.043171e+07\n",
       "mean     1.940581e+04\n",
       "std      8.888424e+04\n",
       "min      0.000000e+00\n",
       "25%      2.290000e+02\n",
       "50%      1.147000e+03\n",
       "75%      8.444000e+03\n",
       "max      1.799977e+06\n",
       "Name: secs_elapsed, dtype: float64"
      ]
     },
     "execution_count": 15,
     "metadata": {},
     "output_type": "execute_result"
    }
   ],
   "source": [
    "df_ses['secs_elapsed'].describe()"
   ]
  },
  {
   "cell_type": "markdown",
   "metadata": {},
   "source": [
    "El número promedio de segundos por sesión es ** 19450 segundos ** mientras que el valor de la mediana es ** 1147 segundos **. Esto sugiere un conjunto de datos muy sesgado con algunas observaciones atípicas que influyen en la media de la distribución."
   ]
  },
  {
   "cell_type": "code",
   "execution_count": 16,
   "metadata": {},
   "outputs": [
    {
     "data": {
      "text/plain": [
       "136031"
      ]
     },
     "execution_count": 16,
     "metadata": {},
     "output_type": "execute_result"
    }
   ],
   "source": [
    "len(df_ses[df_ses['secs_elapsed'].isnull()])"
   ]
  },
  {
   "cell_type": "markdown",
   "metadata": {},
   "source": [
    "Hay más de 136,000 campos para los cuales no sabemos el valor. Necesitamos descartar o interpolar estos valores. Por el momento, llenemos los valores no disponibles con la mediana de la distribución. Utilizamos la mediana ya que, como se mencionó anteriormente, esta distribución está fuertemente influenciada por valores atípicos."
   ]
  },
  {
   "cell_type": "code",
   "execution_count": 17,
   "metadata": {},
   "outputs": [],
   "source": [
    "median_secs = df_ses['secs_elapsed'].median()\n",
    "df_ses['secs_elapsed'] = df_ses['secs_elapsed'].fillna(median_secs)"
   ]
  },
  {
   "cell_type": "code",
   "execution_count": 18,
   "metadata": {},
   "outputs": [
    {
     "data": {
      "text/plain": [
       "count    1.056774e+07\n",
       "mean     1.917078e+04\n",
       "std      8.833430e+04\n",
       "min      0.000000e+00\n",
       "25%      2.370000e+02\n",
       "50%      1.147000e+03\n",
       "75%      8.193000e+03\n",
       "max      1.799977e+06\n",
       "Name: secs_elapsed, dtype: float64"
      ]
     },
     "execution_count": 18,
     "metadata": {},
     "output_type": "execute_result"
    }
   ],
   "source": [
    "df_ses['secs_elapsed'].describe()"
   ]
  },
  {
   "cell_type": "markdown",
   "metadata": {},
   "source": [
    "Como se puede ver anteriormente, la interpolación no ha alterado significativamente las estadísticas de resumen de la distribución. Esta es una buena opción para completar los valores nulos por el momento."
   ]
  },
  {
   "cell_type": "code",
   "execution_count": 19,
   "metadata": {},
   "outputs": [
    {
     "data": {
      "text/html": [
       "<div>\n",
       "<style scoped>\n",
       "    .dataframe tbody tr th:only-of-type {\n",
       "        vertical-align: middle;\n",
       "    }\n",
       "\n",
       "    .dataframe tbody tr th {\n",
       "        vertical-align: top;\n",
       "    }\n",
       "\n",
       "    .dataframe thead th {\n",
       "        text-align: right;\n",
       "    }\n",
       "</style>\n",
       "<table border=\"1\" class=\"dataframe\">\n",
       "  <thead>\n",
       "    <tr style=\"text-align: right;\">\n",
       "      <th></th>\n",
       "      <th>user_id</th>\n",
       "      <th>action</th>\n",
       "      <th>action_type</th>\n",
       "      <th>action_detail</th>\n",
       "      <th>device_type</th>\n",
       "      <th>secs_elapsed</th>\n",
       "    </tr>\n",
       "  </thead>\n",
       "  <tbody>\n",
       "    <tr>\n",
       "      <th>0</th>\n",
       "      <td>d1mm9tcy42</td>\n",
       "      <td>lookup</td>\n",
       "      <td>NaN</td>\n",
       "      <td>NaN</td>\n",
       "      <td>Windows Desktop</td>\n",
       "      <td>319.0</td>\n",
       "    </tr>\n",
       "    <tr>\n",
       "      <th>2</th>\n",
       "      <td>d1mm9tcy42</td>\n",
       "      <td>lookup</td>\n",
       "      <td>NaN</td>\n",
       "      <td>NaN</td>\n",
       "      <td>Windows Desktop</td>\n",
       "      <td>301.0</td>\n",
       "    </tr>\n",
       "    <tr>\n",
       "      <th>4</th>\n",
       "      <td>d1mm9tcy42</td>\n",
       "      <td>lookup</td>\n",
       "      <td>NaN</td>\n",
       "      <td>NaN</td>\n",
       "      <td>Windows Desktop</td>\n",
       "      <td>435.0</td>\n",
       "    </tr>\n",
       "    <tr>\n",
       "      <th>6</th>\n",
       "      <td>d1mm9tcy42</td>\n",
       "      <td>lookup</td>\n",
       "      <td>NaN</td>\n",
       "      <td>NaN</td>\n",
       "      <td>Windows Desktop</td>\n",
       "      <td>115.0</td>\n",
       "    </tr>\n",
       "    <tr>\n",
       "      <th>9</th>\n",
       "      <td>d1mm9tcy42</td>\n",
       "      <td>lookup</td>\n",
       "      <td>NaN</td>\n",
       "      <td>NaN</td>\n",
       "      <td>Windows Desktop</td>\n",
       "      <td>683.0</td>\n",
       "    </tr>\n",
       "  </tbody>\n",
       "</table>\n",
       "</div>"
      ],
      "text/plain": [
       "      user_id  action     ...           device_type secs_elapsed\n",
       "0  d1mm9tcy42  lookup     ...       Windows Desktop        319.0\n",
       "2  d1mm9tcy42  lookup     ...       Windows Desktop        301.0\n",
       "4  d1mm9tcy42  lookup     ...       Windows Desktop        435.0\n",
       "6  d1mm9tcy42  lookup     ...       Windows Desktop        115.0\n",
       "9  d1mm9tcy42  lookup     ...       Windows Desktop        683.0\n",
       "\n",
       "[5 rows x 6 columns]"
      ]
     },
     "execution_count": 19,
     "metadata": {},
     "output_type": "execute_result"
    }
   ],
   "source": [
    "null_action = df_ses[(df_ses['action_type'].isnull()) | (df_ses['action_detail'].isnull()) | (df_ses['action'].isnull()) ]\n",
    "null_action.head()"
   ]
  },
  {
   "cell_type": "code",
   "execution_count": 20,
   "metadata": {},
   "outputs": [
    {
     "data": {
      "text/plain": [
       "(2237000, 6)"
      ]
     },
     "execution_count": 20,
     "metadata": {},
     "output_type": "execute_result"
    }
   ],
   "source": [
    "null_action.shape"
   ]
  },
  {
   "cell_type": "code",
   "execution_count": 21,
   "metadata": {},
   "outputs": [
    {
     "data": {
      "text/plain": [
       "270"
      ]
     },
     "execution_count": 21,
     "metadata": {},
     "output_type": "execute_result"
    }
   ],
   "source": [
    "len(null_action['action'].drop_duplicates())"
   ]
  },
  {
   "cell_type": "markdown",
   "metadata": {},
   "source": [
    "Hay más de 2,23 millones de campos que tienen información incompleta sobre la acción, el tipo de acción o el detalle de la acción. Esto es aproximadamente el 20% de los datos que poseemos. Además, hay 270 tipos de acciones para las cuales tenemos valores nulos, por lo que examinarlos uno por uno simplemente no es posible de forma manual.\n",
    "\n",
    "Dado que este no es nuestro conjunto de datos de entrenamiento, no descartaremos los valores. Lo mantendremos porque es posible extraer información incluso de filas que tienen columnas nulas."
   ]
  },
  {
   "cell_type": "code",
   "execution_count": 22,
   "metadata": {},
   "outputs": [
    {
     "data": {
      "text/html": [
       "<div>\n",
       "<style scoped>\n",
       "    .dataframe tbody tr th:only-of-type {\n",
       "        vertical-align: middle;\n",
       "    }\n",
       "\n",
       "    .dataframe tbody tr th {\n",
       "        vertical-align: top;\n",
       "    }\n",
       "\n",
       "    .dataframe thead th {\n",
       "        text-align: right;\n",
       "    }\n",
       "</style>\n",
       "<table border=\"1\" class=\"dataframe\">\n",
       "  <thead>\n",
       "    <tr style=\"text-align: right;\">\n",
       "      <th></th>\n",
       "      <th>user_id</th>\n",
       "      <th>action</th>\n",
       "      <th>action_type</th>\n",
       "      <th>action_detail</th>\n",
       "      <th>device_type</th>\n",
       "      <th>secs_elapsed</th>\n",
       "    </tr>\n",
       "  </thead>\n",
       "  <tbody>\n",
       "  </tbody>\n",
       "</table>\n",
       "</div>"
      ],
      "text/plain": [
       "Empty DataFrame\n",
       "Columns: [user_id, action, action_type, action_detail, device_type, secs_elapsed]\n",
       "Index: []"
      ]
     },
     "execution_count": 22,
     "metadata": {},
     "output_type": "execute_result"
    }
   ],
   "source": [
    "df_ses[df_ses['device_type'].isnull()]"
   ]
  },
  {
   "cell_type": "code",
   "execution_count": 23,
   "metadata": {},
   "outputs": [],
   "source": [
    "df_ses['device_type'] = df_ses['device_type'].replace('-unknown-', np.nan)"
   ]
  },
  {
   "cell_type": "code",
   "execution_count": 24,
   "metadata": {},
   "outputs": [
    {
     "data": {
      "text/plain": [
       "Mac Desktop                         3594286\n",
       "Windows Desktop                     2658539\n",
       "iPhone                              2105031\n",
       "Android Phone                        839637\n",
       "iPad Tablet                          683414\n",
       "Android App Unknown Phone/Tablet     273652\n",
       "Tablet                               139886\n",
       "Linux Desktop                         28373\n",
       "Chromebook                            22348\n",
       "iPodtouch                              8198\n",
       "Windows Phone                          2047\n",
       "Blackberry                              979\n",
       "Opera Phone                              68\n",
       "Name: device_type, dtype: int64"
      ]
     },
     "execution_count": 24,
     "metadata": {},
     "output_type": "execute_result"
    }
   ],
   "source": [
    "df_ses['device_type'].value_counts()"
   ]
  },
  {
   "cell_type": "markdown",
   "metadata": {},
   "source": [
    "Como se puede ver arriba, hay 13 tipos de dispositivos que las personas están usando. También hay cierta actividad para la cual no tenemos datos sobre el dispositivo. Veamos cuántas instancias tiene esa cuenta."
   ]
  },
  {
   "cell_type": "code",
   "execution_count": 25,
   "metadata": {},
   "outputs": [
    {
     "data": {
      "text/plain": [
       "211279"
      ]
     },
     "execution_count": 25,
     "metadata": {},
     "output_type": "execute_result"
    }
   ],
   "source": [
    "len(df_ses[df_ses['device_type'].isnull()])"
   ]
  },
  {
   "cell_type": "markdown",
   "metadata": {},
   "source": [
    "Al igual que con las variables de acción, no descartaremos estos valores, ya que este no es el conjunto de datos al que aplicaremos nuestros algoritmos de aprendizaje automático. Sin embargo, reemplazaremos las cadenas desconocidas con NaN para darle un significado más semántico que podría ser útil en nuestro análisis."
   ]
  },
  {
   "cell_type": "markdown",
   "metadata": {},
   "source": [
    "### Usuarios de Entrenamiento\n",
    "\n",
    "Ahora exploremos el conjunto de datos de entrenamiento que consiste en nuestros usuarios para quienes necesitamos predecir el primer destino."
   ]
  },
  {
   "cell_type": "code",
   "execution_count": 26,
   "metadata": {},
   "outputs": [
    {
     "data": {
      "text/html": [
       "<div>\n",
       "<style scoped>\n",
       "    .dataframe tbody tr th:only-of-type {\n",
       "        vertical-align: middle;\n",
       "    }\n",
       "\n",
       "    .dataframe tbody tr th {\n",
       "        vertical-align: top;\n",
       "    }\n",
       "\n",
       "    .dataframe thead th {\n",
       "        text-align: right;\n",
       "    }\n",
       "</style>\n",
       "<table border=\"1\" class=\"dataframe\">\n",
       "  <thead>\n",
       "    <tr style=\"text-align: right;\">\n",
       "      <th></th>\n",
       "      <th>id</th>\n",
       "      <th>date_account_created</th>\n",
       "      <th>timestamp_first_active</th>\n",
       "      <th>date_first_booking</th>\n",
       "      <th>gender</th>\n",
       "      <th>age</th>\n",
       "      <th>signup_method</th>\n",
       "      <th>signup_flow</th>\n",
       "      <th>language</th>\n",
       "      <th>affiliate_channel</th>\n",
       "      <th>affiliate_provider</th>\n",
       "      <th>first_affiliate_tracked</th>\n",
       "      <th>signup_app</th>\n",
       "      <th>first_device_type</th>\n",
       "      <th>first_browser</th>\n",
       "      <th>country_destination</th>\n",
       "    </tr>\n",
       "  </thead>\n",
       "  <tbody>\n",
       "    <tr>\n",
       "      <th>0</th>\n",
       "      <td>gxn3p5htnn</td>\n",
       "      <td>2010-06-28</td>\n",
       "      <td>20090319043255</td>\n",
       "      <td>NaN</td>\n",
       "      <td>-unknown-</td>\n",
       "      <td>NaN</td>\n",
       "      <td>facebook</td>\n",
       "      <td>0</td>\n",
       "      <td>en</td>\n",
       "      <td>direct</td>\n",
       "      <td>direct</td>\n",
       "      <td>untracked</td>\n",
       "      <td>Web</td>\n",
       "      <td>Mac Desktop</td>\n",
       "      <td>Chrome</td>\n",
       "      <td>NDF</td>\n",
       "    </tr>\n",
       "    <tr>\n",
       "      <th>1</th>\n",
       "      <td>820tgsjxq7</td>\n",
       "      <td>2011-05-25</td>\n",
       "      <td>20090523174809</td>\n",
       "      <td>NaN</td>\n",
       "      <td>MALE</td>\n",
       "      <td>38.0</td>\n",
       "      <td>facebook</td>\n",
       "      <td>0</td>\n",
       "      <td>en</td>\n",
       "      <td>seo</td>\n",
       "      <td>google</td>\n",
       "      <td>untracked</td>\n",
       "      <td>Web</td>\n",
       "      <td>Mac Desktop</td>\n",
       "      <td>Chrome</td>\n",
       "      <td>NDF</td>\n",
       "    </tr>\n",
       "    <tr>\n",
       "      <th>2</th>\n",
       "      <td>4ft3gnwmtx</td>\n",
       "      <td>2010-09-28</td>\n",
       "      <td>20090609231247</td>\n",
       "      <td>2010-08-02</td>\n",
       "      <td>FEMALE</td>\n",
       "      <td>56.0</td>\n",
       "      <td>basic</td>\n",
       "      <td>3</td>\n",
       "      <td>en</td>\n",
       "      <td>direct</td>\n",
       "      <td>direct</td>\n",
       "      <td>untracked</td>\n",
       "      <td>Web</td>\n",
       "      <td>Windows Desktop</td>\n",
       "      <td>IE</td>\n",
       "      <td>US</td>\n",
       "    </tr>\n",
       "    <tr>\n",
       "      <th>3</th>\n",
       "      <td>bjjt8pjhuk</td>\n",
       "      <td>2011-12-05</td>\n",
       "      <td>20091031060129</td>\n",
       "      <td>2012-09-08</td>\n",
       "      <td>FEMALE</td>\n",
       "      <td>42.0</td>\n",
       "      <td>facebook</td>\n",
       "      <td>0</td>\n",
       "      <td>en</td>\n",
       "      <td>direct</td>\n",
       "      <td>direct</td>\n",
       "      <td>untracked</td>\n",
       "      <td>Web</td>\n",
       "      <td>Mac Desktop</td>\n",
       "      <td>Firefox</td>\n",
       "      <td>other</td>\n",
       "    </tr>\n",
       "    <tr>\n",
       "      <th>4</th>\n",
       "      <td>87mebub9p4</td>\n",
       "      <td>2010-09-14</td>\n",
       "      <td>20091208061105</td>\n",
       "      <td>2010-02-18</td>\n",
       "      <td>-unknown-</td>\n",
       "      <td>41.0</td>\n",
       "      <td>basic</td>\n",
       "      <td>0</td>\n",
       "      <td>en</td>\n",
       "      <td>direct</td>\n",
       "      <td>direct</td>\n",
       "      <td>untracked</td>\n",
       "      <td>Web</td>\n",
       "      <td>Mac Desktop</td>\n",
       "      <td>Chrome</td>\n",
       "      <td>US</td>\n",
       "    </tr>\n",
       "  </tbody>\n",
       "</table>\n",
       "</div>"
      ],
      "text/plain": [
       "           id         ...         country_destination\n",
       "0  gxn3p5htnn         ...                         NDF\n",
       "1  820tgsjxq7         ...                         NDF\n",
       "2  4ft3gnwmtx         ...                          US\n",
       "3  bjjt8pjhuk         ...                       other\n",
       "4  87mebub9p4         ...                          US\n",
       "\n",
       "[5 rows x 16 columns]"
      ]
     },
     "execution_count": 26,
     "metadata": {},
     "output_type": "execute_result"
    }
   ],
   "source": [
    "df_train = pd.read_csv('../input/train_users_2.csv')\n",
    "df_train.head()"
   ]
  },
  {
   "cell_type": "code",
   "execution_count": 27,
   "metadata": {},
   "outputs": [
    {
     "data": {
      "text/plain": [
       "(213451, 16)"
      ]
     },
     "execution_count": 27,
     "metadata": {},
     "output_type": "execute_result"
    }
   ],
   "source": [
    "df_train.shape"
   ]
  },
  {
   "cell_type": "code",
   "execution_count": 28,
   "metadata": {},
   "outputs": [],
   "source": [
    "df_train['gender'] = df_train['gender'].replace('-unknown-', np.nan)\n",
    "df_train['first_browser'] = df_train['first_browser'].replace('-unknown-', np.nan)"
   ]
  },
  {
   "cell_type": "code",
   "execution_count": 29,
   "metadata": {},
   "outputs": [
    {
     "data": {
      "text/html": [
       "<div>\n",
       "<style scoped>\n",
       "    .dataframe tbody tr th:only-of-type {\n",
       "        vertical-align: middle;\n",
       "    }\n",
       "\n",
       "    .dataframe tbody tr th {\n",
       "        vertical-align: top;\n",
       "    }\n",
       "\n",
       "    .dataframe thead th {\n",
       "        text-align: right;\n",
       "    }\n",
       "</style>\n",
       "<table border=\"1\" class=\"dataframe\">\n",
       "  <thead>\n",
       "    <tr style=\"text-align: right;\">\n",
       "      <th></th>\n",
       "      <th>id</th>\n",
       "      <th>date_account_created</th>\n",
       "      <th>timestamp_first_active</th>\n",
       "      <th>date_first_booking</th>\n",
       "      <th>gender</th>\n",
       "      <th>age</th>\n",
       "      <th>signup_method</th>\n",
       "      <th>signup_flow</th>\n",
       "      <th>language</th>\n",
       "      <th>affiliate_channel</th>\n",
       "      <th>affiliate_provider</th>\n",
       "      <th>first_affiliate_tracked</th>\n",
       "      <th>signup_app</th>\n",
       "      <th>first_device_type</th>\n",
       "      <th>first_browser</th>\n",
       "      <th>country_destination</th>\n",
       "    </tr>\n",
       "  </thead>\n",
       "  <tbody>\n",
       "  </tbody>\n",
       "</table>\n",
       "</div>"
      ],
      "text/plain": [
       "Empty DataFrame\n",
       "Columns: [id, date_account_created, timestamp_first_active, date_first_booking, gender, age, signup_method, signup_flow, language, affiliate_channel, affiliate_provider, first_affiliate_tracked, signup_app, first_device_type, first_browser, country_destination]\n",
       "Index: []"
      ]
     },
     "execution_count": 29,
     "metadata": {},
     "output_type": "execute_result"
    }
   ],
   "source": [
    "df_train[df_train['first_device_type'].isnull()]"
   ]
  },
  {
   "cell_type": "markdown",
   "metadata": {},
   "source": [
    "Las siguientes características en el conjunto de datos no tienen valores nulos:\n",
    "\n",
    "1. date_account_created\n",
    "2. timestamp_first_active\n",
    "3. signup_method\n",
    "4. signup_flow\n",
    "5. language\n",
    "6. affiliate_channel\n",
    "7. affiliate_provider\n",
    "8. signup_app\n",
    "9. first_device_type\n",
    "\n",
    "Las siguientes características en el conjunto de datos tienen valores nulos:\n",
    "\n",
    "1. date_first_booking\n",
    "2. gender\n",
    "3. age\n",
    "4. first_affiliate_tracked\n",
    "5. first_browser"
   ]
  },
  {
   "cell_type": "code",
   "execution_count": 30,
   "metadata": {},
   "outputs": [
    {
     "data": {
      "text/html": [
       "<div>\n",
       "<style scoped>\n",
       "    .dataframe tbody tr th:only-of-type {\n",
       "        vertical-align: middle;\n",
       "    }\n",
       "\n",
       "    .dataframe tbody tr th {\n",
       "        vertical-align: top;\n",
       "    }\n",
       "\n",
       "    .dataframe thead th {\n",
       "        text-align: right;\n",
       "    }\n",
       "</style>\n",
       "<table border=\"1\" class=\"dataframe\">\n",
       "  <thead>\n",
       "    <tr style=\"text-align: right;\">\n",
       "      <th></th>\n",
       "      <th>id</th>\n",
       "      <th>date_account_created</th>\n",
       "      <th>timestamp_first_active</th>\n",
       "      <th>date_first_booking</th>\n",
       "      <th>gender</th>\n",
       "      <th>age</th>\n",
       "      <th>signup_method</th>\n",
       "      <th>signup_flow</th>\n",
       "      <th>language</th>\n",
       "      <th>affiliate_channel</th>\n",
       "      <th>affiliate_provider</th>\n",
       "      <th>first_affiliate_tracked</th>\n",
       "      <th>signup_app</th>\n",
       "      <th>first_device_type</th>\n",
       "      <th>first_browser</th>\n",
       "      <th>country_destination</th>\n",
       "    </tr>\n",
       "  </thead>\n",
       "  <tbody>\n",
       "    <tr>\n",
       "      <th>388</th>\n",
       "      <td>v2x0ms9c62</td>\n",
       "      <td>2010-04-11</td>\n",
       "      <td>20100411065602</td>\n",
       "      <td>2010-04-13</td>\n",
       "      <td>NaN</td>\n",
       "      <td>2014.0</td>\n",
       "      <td>basic</td>\n",
       "      <td>3</td>\n",
       "      <td>en</td>\n",
       "      <td>other</td>\n",
       "      <td>craigslist</td>\n",
       "      <td>untracked</td>\n",
       "      <td>Web</td>\n",
       "      <td>Windows Desktop</td>\n",
       "      <td>Firefox</td>\n",
       "      <td>FR</td>\n",
       "    </tr>\n",
       "    <tr>\n",
       "      <th>673</th>\n",
       "      <td>umf1wdk9uc</td>\n",
       "      <td>2010-05-25</td>\n",
       "      <td>20100525155541</td>\n",
       "      <td>NaN</td>\n",
       "      <td>FEMALE</td>\n",
       "      <td>2014.0</td>\n",
       "      <td>basic</td>\n",
       "      <td>2</td>\n",
       "      <td>en</td>\n",
       "      <td>other</td>\n",
       "      <td>craigslist</td>\n",
       "      <td>untracked</td>\n",
       "      <td>Web</td>\n",
       "      <td>Mac Desktop</td>\n",
       "      <td>Safari</td>\n",
       "      <td>NDF</td>\n",
       "    </tr>\n",
       "    <tr>\n",
       "      <th>1040</th>\n",
       "      <td>m82epwn7i8</td>\n",
       "      <td>2010-07-14</td>\n",
       "      <td>20100714230556</td>\n",
       "      <td>2010-07-15</td>\n",
       "      <td>MALE</td>\n",
       "      <td>2014.0</td>\n",
       "      <td>facebook</td>\n",
       "      <td>0</td>\n",
       "      <td>en</td>\n",
       "      <td>other</td>\n",
       "      <td>craigslist</td>\n",
       "      <td>untracked</td>\n",
       "      <td>Web</td>\n",
       "      <td>Mac Desktop</td>\n",
       "      <td>Chrome</td>\n",
       "      <td>US</td>\n",
       "    </tr>\n",
       "    <tr>\n",
       "      <th>1177</th>\n",
       "      <td>2th813zdx7</td>\n",
       "      <td>2010-07-25</td>\n",
       "      <td>20100725234419</td>\n",
       "      <td>2010-07-26</td>\n",
       "      <td>MALE</td>\n",
       "      <td>2013.0</td>\n",
       "      <td>facebook</td>\n",
       "      <td>3</td>\n",
       "      <td>en</td>\n",
       "      <td>direct</td>\n",
       "      <td>direct</td>\n",
       "      <td>untracked</td>\n",
       "      <td>Web</td>\n",
       "      <td>Mac Desktop</td>\n",
       "      <td>Chrome</td>\n",
       "      <td>US</td>\n",
       "    </tr>\n",
       "    <tr>\n",
       "      <th>1200</th>\n",
       "      <td>3amf04n3o3</td>\n",
       "      <td>2010-07-27</td>\n",
       "      <td>20100727190447</td>\n",
       "      <td>2010-07-29</td>\n",
       "      <td>FEMALE</td>\n",
       "      <td>2014.0</td>\n",
       "      <td>basic</td>\n",
       "      <td>2</td>\n",
       "      <td>en</td>\n",
       "      <td>direct</td>\n",
       "      <td>direct</td>\n",
       "      <td>untracked</td>\n",
       "      <td>Web</td>\n",
       "      <td>Windows Desktop</td>\n",
       "      <td>IE</td>\n",
       "      <td>US</td>\n",
       "    </tr>\n",
       "  </tbody>\n",
       "</table>\n",
       "</div>"
      ],
      "text/plain": [
       "              id         ...         country_destination\n",
       "388   v2x0ms9c62         ...                          FR\n",
       "673   umf1wdk9uc         ...                         NDF\n",
       "1040  m82epwn7i8         ...                          US\n",
       "1177  2th813zdx7         ...                          US\n",
       "1200  3amf04n3o3         ...                          US\n",
       "\n",
       "[5 rows x 16 columns]"
      ]
     },
     "execution_count": 30,
     "metadata": {},
     "output_type": "execute_result"
    }
   ],
   "source": [
    "df_train[df_train['age'] > 120].head()"
   ]
  },
  {
   "cell_type": "markdown",
   "metadata": {
    "collapsed": true
   },
   "source": [
    "Notamos que hay muestras para las cuales la edad es mucho mayor que 120 (la persona mayor tiene actualmente 114 años). Se trata de datos claramente contaminados y deben ser eliminados. Reemplazemos estos valores con NaN para indicar que no conocemos la edad real de estas personas."
   ]
  },
  {
   "cell_type": "code",
   "execution_count": 31,
   "metadata": {},
   "outputs": [],
   "source": [
    "df_train['age'] = df_train['age'].apply(lambda x: np.nan if x > 120 else x)"
   ]
  },
  {
   "cell_type": "markdown",
   "metadata": {},
   "source": [
    "## Estadística inferencial\n",
    "\n",
    "### Preferencia de género para las reservaciones de Airbnb\n"
   ]
  },
  {
   "cell_type": "markdown",
   "metadata": {
    "collapsed": true
   },
   "source": [
    "En esta sección, aplicaremos herramientas estadísticas para obtener algunas inferencias e ideas sobre el tipo de datos con los que estamos tratando y cómo eliminar las relaciones entre varias características de nuestro conjunto de datos.\n",
    "\n",
    "Para comenzar, verifiquemos si hay una preferencia basada en el género para ciertos países. En otras palabras, ¿el género de una persona afecta al primer país en el que reserva un Airbnb? Para responder a esta pregunta tendremos que probar la relación entre dos variables categóricas: Género y País de destino. Dado que el número de países de destino es multivariado, la ** Prueba de Significación  de Chi Cuadrada**.\n",
    "\n",
    "Antes de comenzar, haremos ciertas suposiciones:\n",
    "* Consideraremos solo a aquellos usuarios que hayan reclutado su género como hombres o mujeres. Desconocidos y otros géneros no se incluyen en este análisis.\n",
    "\n",
    "* No consideramos a los usuarios que nunca han reservado un Airbnb o que han reservado en un país que no está inscrito como clase (NDF y Otro)."
   ]
  },
  {
   "cell_type": "code",
   "execution_count": 32,
   "metadata": {},
   "outputs": [
    {
     "data": {
      "text/html": [
       "<div>\n",
       "<style scoped>\n",
       "    .dataframe tbody tr th:only-of-type {\n",
       "        vertical-align: middle;\n",
       "    }\n",
       "\n",
       "    .dataframe tbody tr th {\n",
       "        vertical-align: top;\n",
       "    }\n",
       "\n",
       "    .dataframe thead th {\n",
       "        text-align: right;\n",
       "    }\n",
       "</style>\n",
       "<table border=\"1\" class=\"dataframe\">\n",
       "  <thead>\n",
       "    <tr style=\"text-align: right;\">\n",
       "      <th></th>\n",
       "      <th>id</th>\n",
       "      <th>gender</th>\n",
       "      <th>country_destination</th>\n",
       "    </tr>\n",
       "  </thead>\n",
       "  <tbody>\n",
       "    <tr>\n",
       "      <th>2</th>\n",
       "      <td>4ft3gnwmtx</td>\n",
       "      <td>FEMALE</td>\n",
       "      <td>US</td>\n",
       "    </tr>\n",
       "    <tr>\n",
       "      <th>6</th>\n",
       "      <td>lsw9q7uk0j</td>\n",
       "      <td>FEMALE</td>\n",
       "      <td>US</td>\n",
       "    </tr>\n",
       "    <tr>\n",
       "      <th>7</th>\n",
       "      <td>0d01nltbrs</td>\n",
       "      <td>FEMALE</td>\n",
       "      <td>US</td>\n",
       "    </tr>\n",
       "    <tr>\n",
       "      <th>8</th>\n",
       "      <td>a1vcnhxeij</td>\n",
       "      <td>FEMALE</td>\n",
       "      <td>US</td>\n",
       "    </tr>\n",
       "    <tr>\n",
       "      <th>10</th>\n",
       "      <td>yuuqmid2rp</td>\n",
       "      <td>FEMALE</td>\n",
       "      <td>US</td>\n",
       "    </tr>\n",
       "  </tbody>\n",
       "</table>\n",
       "</div>"
      ],
      "text/plain": [
       "            id  gender country_destination\n",
       "2   4ft3gnwmtx  FEMALE                  US\n",
       "6   lsw9q7uk0j  FEMALE                  US\n",
       "7   0d01nltbrs  FEMALE                  US\n",
       "8   a1vcnhxeij  FEMALE                  US\n",
       "10  yuuqmid2rp  FEMALE                  US"
      ]
     },
     "execution_count": 32,
     "metadata": {},
     "output_type": "execute_result"
    }
   ],
   "source": [
    "df_inf = df_train[(df_train['country_destination'] != 'NDF') & (df_train['country_destination'] != 'other') & (df_train['gender'] != 'OTHER') & (df_train['gender'].notnull())]\n",
    "df_inf = df_inf[['id', 'gender', 'country_destination']]\n",
    "df_inf.head()"
   ]
  },
  {
   "cell_type": "code",
   "execution_count": 33,
   "metadata": {},
   "outputs": [
    {
     "data": {
      "text/plain": [
       "FEMALE    28833\n",
       "MALE      24278\n",
       "Name: gender, dtype: int64"
      ]
     },
     "execution_count": 33,
     "metadata": {},
     "output_type": "execute_result"
    }
   ],
   "source": [
    "df_inf['gender'].value_counts()"
   ]
  },
  {
   "cell_type": "code",
   "execution_count": 34,
   "metadata": {},
   "outputs": [
    {
     "data": {
      "text/plain": [
       "US    42151\n",
       "FR     3297\n",
       "IT     1790\n",
       "GB     1563\n",
       "ES     1530\n",
       "CA      932\n",
       "DE      774\n",
       "NL      532\n",
       "AU      395\n",
       "PT      147\n",
       "Name: country_destination, dtype: int64"
      ]
     },
     "execution_count": 34,
     "metadata": {},
     "output_type": "execute_result"
    }
   ],
   "source": [
    "df_inf['country_destination'].value_counts()"
   ]
  },
  {
   "cell_type": "markdown",
   "metadata": {},
   "source": [
    "#### Prueba de hipótesis\n",
    "\n",
    "Para la prueba de hipótesis, definimos lo siguiente:\n",
    "\n",
    "* ** Hipótesis nula: ** No existe una relación entre la preferencia del país y el sexo del cliente.\n",
    "* ** Hipótesis alternativa: ** Existe una relación entre la preferencia del país y el sexo del cliente.\n",
    "\n",
    "Asumiremos que nuestro nivel de significación, $ \\ alpha $ sea 0.05."
   ]
  },
  {
   "cell_type": "code",
   "execution_count": 35,
   "metadata": {},
   "outputs": [
    {
     "data": {
      "text/html": [
       "<div>\n",
       "<style scoped>\n",
       "    .dataframe tbody tr th:only-of-type {\n",
       "        vertical-align: middle;\n",
       "    }\n",
       "\n",
       "    .dataframe tbody tr th {\n",
       "        vertical-align: top;\n",
       "    }\n",
       "\n",
       "    .dataframe thead th {\n",
       "        text-align: right;\n",
       "    }\n",
       "</style>\n",
       "<table border=\"1\" class=\"dataframe\">\n",
       "  <thead>\n",
       "    <tr style=\"text-align: right;\">\n",
       "      <th></th>\n",
       "      <th>AU</th>\n",
       "      <th>CA</th>\n",
       "      <th>DE</th>\n",
       "      <th>ES</th>\n",
       "      <th>FR</th>\n",
       "      <th>GB</th>\n",
       "      <th>IT</th>\n",
       "      <th>NL</th>\n",
       "      <th>PT</th>\n",
       "      <th>US</th>\n",
       "    </tr>\n",
       "    <tr>\n",
       "      <th>gender</th>\n",
       "      <th></th>\n",
       "      <th></th>\n",
       "      <th></th>\n",
       "      <th></th>\n",
       "      <th></th>\n",
       "      <th></th>\n",
       "      <th></th>\n",
       "      <th></th>\n",
       "      <th></th>\n",
       "      <th></th>\n",
       "    </tr>\n",
       "  </thead>\n",
       "  <tbody>\n",
       "    <tr>\n",
       "      <th>FEMALE</th>\n",
       "      <td>207</td>\n",
       "      <td>455</td>\n",
       "      <td>358</td>\n",
       "      <td>853</td>\n",
       "      <td>1962</td>\n",
       "      <td>881</td>\n",
       "      <td>1091</td>\n",
       "      <td>254</td>\n",
       "      <td>78</td>\n",
       "      <td>22694</td>\n",
       "    </tr>\n",
       "    <tr>\n",
       "      <th>MALE</th>\n",
       "      <td>188</td>\n",
       "      <td>477</td>\n",
       "      <td>416</td>\n",
       "      <td>677</td>\n",
       "      <td>1335</td>\n",
       "      <td>682</td>\n",
       "      <td>699</td>\n",
       "      <td>278</td>\n",
       "      <td>69</td>\n",
       "      <td>19457</td>\n",
       "    </tr>\n",
       "  </tbody>\n",
       "</table>\n",
       "</div>"
      ],
      "text/plain": [
       "         AU   CA   DE   ES    FR   GB    IT   NL  PT     US\n",
       "gender                                                     \n",
       "FEMALE  207  455  358  853  1962  881  1091  254  78  22694\n",
       "MALE    188  477  416  677  1335  682   699  278  69  19457"
      ]
     },
     "execution_count": 35,
     "metadata": {},
     "output_type": "execute_result"
    }
   ],
   "source": [
    "observed = df_inf.pivot_table('id', ['gender'], 'country_destination', aggfunc='count').reset_index()\n",
    "del observed.columns.name\n",
    "observed = observed.set_index('gender')\n",
    "observed"
   ]
  },
  {
   "cell_type": "code",
   "execution_count": 36,
   "metadata": {},
   "outputs": [],
   "source": [
    "chi2, p, dof, expected = stats.chi2_contingency(observed)"
   ]
  },
  {
   "cell_type": "code",
   "execution_count": 37,
   "metadata": {},
   "outputs": [
    {
     "data": {
      "text/plain": [
       "116.87183139602567"
      ]
     },
     "execution_count": 37,
     "metadata": {},
     "output_type": "execute_result"
    }
   ],
   "source": [
    "chi2"
   ]
  },
  {
   "cell_type": "code",
   "execution_count": 38,
   "metadata": {},
   "outputs": [
    {
     "data": {
      "text/plain": [
       "5.830126955071572e-21"
      ]
     },
     "execution_count": 38,
     "metadata": {},
     "output_type": "execute_result"
    }
   ],
   "source": [
    "p"
   ]
  },
  {
   "cell_type": "markdown",
   "metadata": {},
   "source": [
    "El p-value que hemos obtenido es menor que nuestro nivel de significación elegido. Por lo tanto, rechazamos la hipótesis nula y aceptamos la hipótesis de alteración negativa. ** Existe una relación entre la preferencia de país y el sexo del cliente. ** Esta información puede ser extremadamente útil para nosotros cuando realizamos ingeniería de características en pasos posteriores.\n"
   ]
  },
  {
   "cell_type": "markdown",
   "metadata": {},
   "source": [
    "### Preferencias de registro\n",
    "\n",
    "\n",
    "En esta sección, trataremos de descubrir una relación entre el método de registro y el dispositivo de registro. Una consulta preliminar de nuestro marco de datos nos dice que la mayoría de los usuarios se registran a través del método básico estándar o de Facebook. Además, inician sesión utilizando un navegador de escritorio, un navegador móvil o una aplicación móvil.\n",
    "\n",
    "¿El tipo de dispositivo (móvil o computadora) afecta el método de registro en Airbnb? Intentaremos responder a esta pregunta aquí. Una vez más, como antes, haremos ciertas suposiciones.\n",
    "* Ignoraremos el método de registro de Google ya que hay muy pocas instancias de él.\n",
    "* Consideraremos que iOs, Moweb y Android son del tipo de dispositivo móvil."
   ]
  },
  {
   "cell_type": "code",
   "execution_count": 39,
   "metadata": {},
   "outputs": [
    {
     "data": {
      "text/html": [
       "<div>\n",
       "<style scoped>\n",
       "    .dataframe tbody tr th:only-of-type {\n",
       "        vertical-align: middle;\n",
       "    }\n",
       "\n",
       "    .dataframe tbody tr th {\n",
       "        vertical-align: top;\n",
       "    }\n",
       "\n",
       "    .dataframe thead th {\n",
       "        text-align: right;\n",
       "    }\n",
       "</style>\n",
       "<table border=\"1\" class=\"dataframe\">\n",
       "  <thead>\n",
       "    <tr style=\"text-align: right;\">\n",
       "      <th></th>\n",
       "      <th>id</th>\n",
       "      <th>signup_method</th>\n",
       "      <th>signup_app</th>\n",
       "      <th>device</th>\n",
       "    </tr>\n",
       "  </thead>\n",
       "  <tbody>\n",
       "    <tr>\n",
       "      <th>0</th>\n",
       "      <td>gxn3p5htnn</td>\n",
       "      <td>facebook</td>\n",
       "      <td>Web</td>\n",
       "      <td>Computer</td>\n",
       "    </tr>\n",
       "    <tr>\n",
       "      <th>1</th>\n",
       "      <td>820tgsjxq7</td>\n",
       "      <td>facebook</td>\n",
       "      <td>Web</td>\n",
       "      <td>Computer</td>\n",
       "    </tr>\n",
       "    <tr>\n",
       "      <th>2</th>\n",
       "      <td>4ft3gnwmtx</td>\n",
       "      <td>basic</td>\n",
       "      <td>Web</td>\n",
       "      <td>Computer</td>\n",
       "    </tr>\n",
       "    <tr>\n",
       "      <th>3</th>\n",
       "      <td>bjjt8pjhuk</td>\n",
       "      <td>facebook</td>\n",
       "      <td>Web</td>\n",
       "      <td>Computer</td>\n",
       "    </tr>\n",
       "    <tr>\n",
       "      <th>4</th>\n",
       "      <td>87mebub9p4</td>\n",
       "      <td>basic</td>\n",
       "      <td>Web</td>\n",
       "      <td>Computer</td>\n",
       "    </tr>\n",
       "  </tbody>\n",
       "</table>\n",
       "</div>"
      ],
      "text/plain": [
       "           id signup_method signup_app    device\n",
       "0  gxn3p5htnn      facebook        Web  Computer\n",
       "1  820tgsjxq7      facebook        Web  Computer\n",
       "2  4ft3gnwmtx         basic        Web  Computer\n",
       "3  bjjt8pjhuk      facebook        Web  Computer\n",
       "4  87mebub9p4         basic        Web  Computer"
      ]
     },
     "execution_count": 39,
     "metadata": {},
     "output_type": "execute_result"
    }
   ],
   "source": [
    "df_signup = df_train[(df_train['signup_method'] != 'google')][['id', 'signup_method', 'signup_app']]\n",
    "df_signup['device'] = df_signup['signup_app'].apply(lambda x: 'Computer' if x == 'Web' else 'Mobile')\n",
    "df_signup.head()"
   ]
  },
  {
   "cell_type": "code",
   "execution_count": 40,
   "metadata": {},
   "outputs": [
    {
     "data": {
      "text/plain": [
       "basic       152897\n",
       "facebook     60008\n",
       "Name: signup_method, dtype: int64"
      ]
     },
     "execution_count": 40,
     "metadata": {},
     "output_type": "execute_result"
    }
   ],
   "source": [
    "df_signup['signup_method'].value_counts()"
   ]
  },
  {
   "cell_type": "code",
   "execution_count": 41,
   "metadata": {},
   "outputs": [
    {
     "data": {
      "text/plain": [
       "Computer    182717\n",
       "Mobile       30188\n",
       "Name: device, dtype: int64"
      ]
     },
     "execution_count": 41,
     "metadata": {},
     "output_type": "execute_result"
    }
   ],
   "source": [
    "df_signup['device'].value_counts()"
   ]
  },
  {
   "cell_type": "markdown",
   "metadata": {},
   "source": [
    "#### Prueba de hipótesis\n",
    "\n",
    "Vamos a configurar ahora nuestra prueba de hipótesis. Definiremos lo siguiente:\n",
    "\n",
    "* ** Hipótesis nula: ** No existe una relación entre el tipo de dispositivo y el método de registro.\n",
    "* ** Hipótesis alternativa: ** Existe una relación entre el tipo de dispositivo y el método de registro.\n",
    "\n",
    "Suponga que el nivel de significación $ \\ alpha $ está en 0.05.\n",
    "\n",
    "Realizaremos la misma prueba de hipótesis utilizando dos herramientas estadísticas diferentes: la prueba de significación de Chi cuadrado y la prueba de estadística Z. Si se realiza correctamente, ambas pruebas deben darnos los mismos resultados."
   ]
  },
  {
   "cell_type": "code",
   "execution_count": 42,
   "metadata": {},
   "outputs": [
    {
     "data": {
      "text/html": [
       "<div>\n",
       "<style scoped>\n",
       "    .dataframe tbody tr th:only-of-type {\n",
       "        vertical-align: middle;\n",
       "    }\n",
       "\n",
       "    .dataframe tbody tr th {\n",
       "        vertical-align: top;\n",
       "    }\n",
       "\n",
       "    .dataframe thead th {\n",
       "        text-align: right;\n",
       "    }\n",
       "</style>\n",
       "<table border=\"1\" class=\"dataframe\">\n",
       "  <thead>\n",
       "    <tr style=\"text-align: right;\">\n",
       "      <th></th>\n",
       "      <th>Basic</th>\n",
       "      <th>Facebook</th>\n",
       "    </tr>\n",
       "  </thead>\n",
       "  <tbody>\n",
       "    <tr>\n",
       "      <th>Computer</th>\n",
       "      <td>131237</td>\n",
       "      <td>51480</td>\n",
       "    </tr>\n",
       "    <tr>\n",
       "      <th>Mobile</th>\n",
       "      <td>21660</td>\n",
       "      <td>8528</td>\n",
       "    </tr>\n",
       "  </tbody>\n",
       "</table>\n",
       "</div>"
      ],
      "text/plain": [
       "           Basic  Facebook\n",
       "Computer  131237     51480\n",
       "Mobile     21660      8528"
      ]
     },
     "execution_count": 42,
     "metadata": {},
     "output_type": "execute_result"
    }
   ],
   "source": [
    "df_signup = df_signup.pivot_table('id', ['device'], 'signup_method', aggfunc='count')\n",
    "df_signup.index = ['Computer', 'Mobile']\n",
    "df_signup.columns = ['Basic', 'Facebook']\n",
    "df_signup"
   ]
  },
  {
   "cell_type": "markdown",
   "metadata": {},
   "source": [
    "#### Prueba Chi Cuadrado"
   ]
  },
  {
   "cell_type": "code",
   "execution_count": 43,
   "metadata": {},
   "outputs": [],
   "source": [
    "chi2, p, dof, expected = stats.chi2_contingency(df_signup, correction=False)"
   ]
  },
  {
   "cell_type": "code",
   "execution_count": 44,
   "metadata": {},
   "outputs": [
    {
     "data": {
      "text/plain": [
       "0.07183824273421707"
      ]
     },
     "execution_count": 44,
     "metadata": {},
     "output_type": "execute_result"
    }
   ],
   "source": [
    "chi2"
   ]
  },
  {
   "cell_type": "code",
   "execution_count": 45,
   "metadata": {},
   "outputs": [
    {
     "data": {
      "text/plain": [
       "0.7886788661023779"
      ]
     },
     "execution_count": 45,
     "metadata": {},
     "output_type": "execute_result"
    }
   ],
   "source": [
    "p"
   ]
  },
  {
   "cell_type": "markdown",
   "metadata": {},
   "source": [
    "El p-value obtenido es más alto que nuestro nivel de significación elegido. Por lo tanto, no estamos en posición de rechazar la hipótesis nula. Se destaca. ** No existe una relación entre el tipo de dispositivo y el método de registro. ** Realicemos la misma prueba de hipótesis utilizando la Prueba Z y comparemos los resultados y el p-value obtenido."
   ]
  },
  {
   "cell_type": "markdown",
   "metadata": {},
   "source": [
    "#### Prueba de significancia de dos muestras\n",
    "\n",
    "Ahora hagamos la misma prueba de hipótesis utilizando la prueba de significación de dos muestras para proporciones."
   ]
  },
  {
   "cell_type": "code",
   "execution_count": 46,
   "metadata": {},
   "outputs": [
    {
     "data": {
      "text/html": [
       "<div>\n",
       "<style scoped>\n",
       "    .dataframe tbody tr th:only-of-type {\n",
       "        vertical-align: middle;\n",
       "    }\n",
       "\n",
       "    .dataframe tbody tr th {\n",
       "        vertical-align: top;\n",
       "    }\n",
       "\n",
       "    .dataframe thead th {\n",
       "        text-align: right;\n",
       "    }\n",
       "</style>\n",
       "<table border=\"1\" class=\"dataframe\">\n",
       "  <thead>\n",
       "    <tr style=\"text-align: right;\">\n",
       "      <th></th>\n",
       "      <th>Basic</th>\n",
       "      <th>Facebook</th>\n",
       "      <th>Total</th>\n",
       "    </tr>\n",
       "  </thead>\n",
       "  <tbody>\n",
       "    <tr>\n",
       "      <th>Computer</th>\n",
       "      <td>131237</td>\n",
       "      <td>51480</td>\n",
       "      <td>182717</td>\n",
       "    </tr>\n",
       "    <tr>\n",
       "      <th>Mobile</th>\n",
       "      <td>21660</td>\n",
       "      <td>8528</td>\n",
       "      <td>30188</td>\n",
       "    </tr>\n",
       "    <tr>\n",
       "      <th>Total</th>\n",
       "      <td>152897</td>\n",
       "      <td>60008</td>\n",
       "      <td>212905</td>\n",
       "    </tr>\n",
       "  </tbody>\n",
       "</table>\n",
       "</div>"
      ],
      "text/plain": [
       "           Basic  Facebook   Total\n",
       "Computer  131237     51480  182717\n",
       "Mobile     21660      8528   30188\n",
       "Total     152897     60008  212905"
      ]
     },
     "execution_count": 46,
     "metadata": {},
     "output_type": "execute_result"
    }
   ],
   "source": [
    "df_signup.loc['Total'] = [ df_signup['Basic'].sum(), df_signup['Facebook'].sum()]\n",
    "df_signup['Total'] = df_signup['Basic'] + df_signup['Facebook']\n",
    "df_signup"
   ]
  },
  {
   "cell_type": "code",
   "execution_count": 47,
   "metadata": {},
   "outputs": [
    {
     "data": {
      "text/plain": [
       "(0.14211438474870017, 0.3491674188640724)"
      ]
     },
     "execution_count": 47,
     "metadata": {},
     "output_type": "execute_result"
    }
   ],
   "source": [
    "fb_prop = df_signup.loc['Mobile', 'Facebook']/df_signup.loc['Total', 'Facebook']\n",
    "fb_std = df_signup.loc['Mobile', 'Facebook'] * ((1 - fb_prop) ** 2) + df_signup.loc['Computer', 'Facebook'] * ((0 - fb_prop) ** 2)\n",
    "fb_std = np.sqrt(fb_std/df_signup.loc['Total', 'Facebook'])\n",
    "\n",
    "fb_prop, fb_std"
   ]
  },
  {
   "cell_type": "code",
   "execution_count": 48,
   "metadata": {},
   "outputs": [
    {
     "data": {
      "text/plain": [
       "(0.14166399602346677, 0.34870518816635054)"
      ]
     },
     "execution_count": 48,
     "metadata": {},
     "output_type": "execute_result"
    }
   ],
   "source": [
    "basic_prop = df_signup.loc['Mobile', 'Basic']/df_signup.loc['Total', 'Basic']\n",
    "basic_std = df_signup.loc['Mobile', 'Basic'] * ((1 - basic_prop) ** 2) + df_signup.loc['Computer', 'Basic'] * ((0 - basic_prop) ** 2)\n",
    "basic_std = np.sqrt(basic_std/df_signup.loc['Total', 'Basic'])\n",
    "\n",
    "basic_prop, basic_std"
   ]
  },
  {
   "cell_type": "code",
   "execution_count": 49,
   "metadata": {},
   "outputs": [
    {
     "data": {
      "text/plain": [
       "(0.0004503887252333971, 0.001680388342245922)"
      ]
     },
     "execution_count": 49,
     "metadata": {},
     "output_type": "execute_result"
    }
   ],
   "source": [
    "h0_prop = 0\n",
    "\n",
    "prop_diff = fb_prop - basic_prop\n",
    "p_hat = (df_signup.loc['Mobile', 'Basic'] + df_signup.loc['Mobile', 'Facebook'])/(df_signup.loc['Total', 'Basic'] + df_signup.loc['Total', 'Facebook']) \n",
    "var_diff = p_hat * (1- p_hat) * (1/df_signup.loc['Total', 'Basic'] + 1/df_signup.loc['Total', 'Facebook'])\n",
    "sigma_diff = np.sqrt(var_diff)\n",
    "\n",
    "prop_diff, sigma_diff"
   ]
  },
  {
   "cell_type": "code",
   "execution_count": 50,
   "metadata": {},
   "outputs": [
    {
     "data": {
      "text/plain": [
       "0.2680265709481359"
      ]
     },
     "execution_count": 50,
     "metadata": {},
     "output_type": "execute_result"
    }
   ],
   "source": [
    "z = (prop_diff - h0_prop) / sigma_diff\n",
    "z"
   ]
  },
  {
   "cell_type": "code",
   "execution_count": 51,
   "metadata": {},
   "outputs": [
    {
     "data": {
      "text/plain": [
       "0.7886788661023794"
      ]
     },
     "execution_count": 51,
     "metadata": {},
     "output_type": "execute_result"
    }
   ],
   "source": [
    "p = (1-stats.norm.cdf(z))*2\n",
    "p"
   ]
  },
  {
   "cell_type": "markdown",
   "metadata": {},
   "source": [
    "El p-value obtenido es más alto que nuestro nivel de significancia elegido. Por lo tanto, no estamos en posición de rechazar la hipótesis nula. Se destaca. ** No existe una relación entre el tipo de dispositivo y el método de registro. **\n",
    "\n",
    "También tenga en cuenta que los p-value obtenidos para la Prueba de Significación de Dos Muestras y la Prueba de Significación de Chi Cuadrado (sin corrección) son ** exactamente iguales. ** Ahora estamos en condiciones de resumir y presentar nuestros resultados en función del análisis estadístico realizado.\n",
    "\n",
    "### Conclusiones\n",
    "\n",
    "* Hay ** una relación ** entre género y Airbnb Country Destination. En otras palabras, el género influye en el país de su elección.\n",
    "* No hay ** relación ** entre el tipo de dispositivo y el método de registro. Las dos variables son independientes entre sí.\n",
    "* Los resultados obtenidos de la Prueba de Significación de Chi Cuadrado y la Prueba de Significación de Dos Muestras son ** exactamente los mismos **."
   ]
  },
  {
   "cell_type": "markdown",
   "metadata": {
    "collapsed": true
   },
   "source": [
    "## Análisis exploratorio de datos\n",
    "\n",
    "En esta sección, intentaremos visualizar y resumir nuestros datos para extraer nuevos conocimientos sobre las características individuales y la relación que comparten con las otras características. Primero intentemos y visualicemos las estadísticas de edad y género de varios países.\n",
    "\n"
   ]
  },
  {
   "cell_type": "markdown",
   "metadata": {},
   "source": [
    "### Estadísticas de País"
   ]
  },
  {
   "cell_type": "code",
   "execution_count": 52,
   "metadata": {},
   "outputs": [
    {
     "data": {
      "text/plain": [
       "<matplotlib.axes._subplots.AxesSubplot at 0x7fa93a0de198>"
      ]
     },
     "execution_count": 52,
     "metadata": {},
     "output_type": "execute_result"
    },
    {
     "data": {
      "image/png": "[encoded data removed]",
      "text/plain": [
       "<Figure size 1440x576 with 1 Axes>"
      ]
     },
     "metadata": {},
     "output_type": "display_data"
    }
   ],
   "source": [
    "plt.figure(figsize=(20,8))\n",
    "sns.barplot(x='mean_age', y='population_in_thousands', hue='gender', data=df_agb, ci=None)"
   ]
  },
  {
   "cell_type": "markdown",
   "metadata": {},
   "source": [
    "**#### Observaciones\n",
    "\n",
    "* Los países que están representados en esta estadística consisten en gran parte de un ** envejecimiento de la población **. Los grupos más grandes son personas con ** edad media de 47 años y 52 años **.\n",
    "* La distribución se asemeja a una curva de campana sesgada. Las personas de mediana edad ocupan la mayor parte de la población, seguidas de cerca por los jóvenes y, finalmente, por los ancianos.\n",
    "* Los conteos poblacionales de personas jóvenes y de mediana edad son bastante comparables. Pero a medida que hacemos la transición hacia la vejez (edad> 57 años), el conteo de la población para cada grupo sucesivo disminuye constantemente.\n",
    "* Una cosa muy interesante a tener en cuenta (aunque puede no ser relevante para nuestro análisis) es que la proporción de sexos se inclina hacia los hombres para los grupos de edad más jóvenes, pero a medida que aumenta la edad media, la proporción se inclina más hacia las mujeres. ** Las mujeres de hecho viven más que los hombres. **\n",
    "\n",
    "A continuación, tratemos de graficar el conteo de la población en cada país."
   ]
  },
  {
   "cell_type": "code",
   "execution_count": 53,
   "metadata": {},
   "outputs": [
    {
     "data": {
      "text/plain": [
       "<matplotlib.axes._subplots.AxesSubplot at 0x7fa9375a32e8>"
      ]
     },
     "execution_count": 53,
     "metadata": {},
     "output_type": "execute_result"
    },
    {
     "data": {
      "image/png": "[encoded data removed]",
      "text/plain": [
       "<Figure size 720x504 with 1 Axes>"
      ]
     },
     "metadata": {},
     "output_type": "display_data"
    }
   ],
   "source": [
    "sns.set_style('whitegrid')\n",
    "plt.figure(figsize=(10,7))\n",
    "pop_stats = df_agb.groupby('country_destination')['population_in_thousands'].sum()\n",
    "sns.barplot(x=pop_stats.index, y=pop_stats)"
   ]
  },
  {
   "cell_type": "markdown",
   "metadata": {},
   "source": [
    "** Los Estados Unidos de América ** son claramente la nación más poblada entre los países de destino con una población de más de ** 300 millones **. Todos los demás países de la lista tienen una población ** inferior a 100 millones. **\n",
    "\n",
    "A continuación, vamos a crear un gráfico de barras de la distancia del país desde el país de origen (Estados Unidos de América). Luego, construiremos un diagrama de dispersión entre la frecuencia de reserva en un país y la distancia del país. Mi intuición inicial es que cuanto más lejos esté un país, menos probabilidades habrá de que la gente visite ese país en particular. Debe haber al menos una pequeña correlación megativa entre estas dos cantidades."
   ]
  },
  {
   "cell_type": "code",
   "execution_count": 54,
   "metadata": {},
   "outputs": [
    {
     "data": {
      "text/plain": [
       "<matplotlib.axes._subplots.AxesSubplot at 0x7fa937545f28>"
      ]
     },
     "execution_count": 54,
     "metadata": {},
     "output_type": "execute_result"
    },
    {
     "data": {
      "image/png": "[encoded data removed]",
      "text/plain": [
       "<Figure size 720x504 with 1 Axes>"
      ]
     },
     "metadata": {},
     "output_type": "display_data"
    }
   ],
   "source": [
    "sns.set_style('whitegrid')\n",
    "plt.figure(figsize=(10,7))\n",
    "sns.barplot(x='country_destination', y='distance_km', data=df_con)"
   ]
  },
  {
   "cell_type": "code",
   "execution_count": 55,
   "metadata": {},
   "outputs": [],
   "source": [
    "country_popularity = df_train[(df_train['country_destination'] != 'NDF') & (df_train['country_destination'] != 'other')]['country_destination'].value_counts()"
   ]
  },
  {
   "cell_type": "code",
   "execution_count": 56,
   "metadata": {},
   "outputs": [],
   "source": [
    "country_distance = pd.Series(df_con['distance_km'])\n",
    "country_distance.index = df_con['country_destination']"
   ]
  },
  {
   "cell_type": "code",
   "execution_count": 57,
   "metadata": {},
   "outputs": [],
   "source": [
    "language_distance = pd.Series(df_con['language_levenshtein_distance'])\n",
    "language_distance.index = df_con['country_destination']"
   ]
  },
  {
   "cell_type": "code",
   "execution_count": 58,
   "metadata": {},
   "outputs": [],
   "source": [
    "country_area = pd.Series(df_con['destination_km2'])\n",
    "country_area.index = df_con['country_destination']"
   ]
  },
  {
   "cell_type": "code",
   "execution_count": 59,
   "metadata": {},
   "outputs": [
    {
     "name": "stderr",
     "output_type": "stream",
     "text": [
      "/opt/conda/lib/python3.6/site-packages/ipykernel_launcher.py:1: FutureWarning: Sorting because non-concatenation axis is not aligned. A future version\n",
      "of pandas will change to not sort by default.\n",
      "\n",
      "To accept the future behavior, pass 'sort=False'.\n",
      "\n",
      "To retain the current behavior and silence the warning, pass 'sort=True'.\n",
      "\n",
      "  \"\"\"Entry point for launching an IPython kernel.\n",
      "/opt/conda/lib/python3.6/site-packages/scipy/stats/stats.py:1713: FutureWarning: Using a non-tuple sequence for multidimensional indexing is deprecated; use `arr[tuple(seq)]` instead of `arr[seq]`. In the future this will be interpreted as an array index, `arr[np.array(seq)]`, which will result either in an error or a different result.\n",
      "  return np.add.reduce(sorted[indexer] * weights, axis=axis) / sumval\n"
     ]
    },
    {
     "data": {
      "text/plain": [
       "<seaborn.axisgrid.JointGrid at 0x7fa937454a58>"
      ]
     },
     "execution_count": 59,
     "metadata": {},
     "output_type": "execute_result"
    },
    {
     "data": {
      "image/png": "[encoded data removed]",
      "text/plain": [
       "<Figure size 432x432 with 3 Axes>"
      ]
     },
     "metadata": {},
     "output_type": "display_data"
    }
   ],
   "source": [
    "df_dp = pd.concat([country_popularity, country_distance, language_distance, country_area], axis=1)\n",
    "df_dp.columns = ['count', 'distance_km', 'language', 'area']\n",
    "sns.jointplot(x='count', y='distance_km', data=df_dp)"
   ]
  },
  {
   "cell_type": "markdown",
   "metadata": {},
   "source": [
    "Hay una ** fuerte correlación negativa de -0.65. ** La gente prefiere abrumadoramente reservar en los Estados Unidos que cualquier otro país del mundo. Podemos atribuir esta preferencia a la distancia. Verifiquemos si esto también es válido para los países internacionales."
   ]
  },
  {
   "cell_type": "code",
   "execution_count": 60,
   "metadata": {},
   "outputs": [
    {
     "name": "stderr",
     "output_type": "stream",
     "text": [
      "/opt/conda/lib/python3.6/site-packages/scipy/stats/stats.py:1713: FutureWarning: Using a non-tuple sequence for multidimensional indexing is deprecated; use `arr[tuple(seq)]` instead of `arr[seq]`. In the future this will be interpreted as an array index, `arr[np.array(seq)]`, which will result either in an error or a different result.\n",
      "  return np.add.reduce(sorted[indexer] * weights, axis=axis) / sumval\n"
     ]
    },
    {
     "data": {
      "text/plain": [
       "<seaborn.axisgrid.JointGrid at 0x7fa9375255f8>"
      ]
     },
     "execution_count": 60,
     "metadata": {},
     "output_type": "execute_result"
    },
    {
     "data": {
      "image/png": "[encoded data removed]",
      "text/plain": [
       "<Figure size 432x432 with 3 Axes>"
      ]
     },
     "metadata": {},
     "output_type": "display_data"
    }
   ],
   "source": [
    "sns.jointplot(x='count', y='distance_km', data=df_dp.drop('US'))"
   ]
  },
  {
   "cell_type": "markdown",
   "metadata": {},
   "source": [
    "La correlación, con Estados Unidos fuera de la ecuación, ** es mucho menor en -0.18. ** Sin embargo, todavía hay una correlación negativa entre las dos cantidades.\n",
    "\n",
    "A continuación, verifiquemos si el idioma que se habla en un país en particular influye en el número de reservas en ese país. Para calcular esta métrica, utilizaremos el ** Idioma Levenshtein Distance ** del idioma oficial de cada país desde el inglés. Estos datos ya están disponibles para nosotros por Airbnb. Una vez más, al igual que la distancia física, mi conjetura es que a menor distancia de levenshtein, mayor es el número de reservas en ese país."
   ]
  },
  {
   "cell_type": "code",
   "execution_count": 61,
   "metadata": {},
   "outputs": [
    {
     "name": "stderr",
     "output_type": "stream",
     "text": [
      "/opt/conda/lib/python3.6/site-packages/scipy/stats/stats.py:1713: FutureWarning: Using a non-tuple sequence for multidimensional indexing is deprecated; use `arr[tuple(seq)]` instead of `arr[seq]`. In the future this will be interpreted as an array index, `arr[np.array(seq)]`, which will result either in an error or a different result.\n",
      "  return np.add.reduce(sorted[indexer] * weights, axis=axis) / sumval\n"
     ]
    },
    {
     "data": {
      "text/plain": [
       "<seaborn.axisgrid.JointGrid at 0x7fa9322952b0>"
      ]
     },
     "execution_count": 61,
     "metadata": {},
     "output_type": "execute_result"
    },
    {
     "data": {
      "image/png": "[encoded data removed]",
      "text/plain": [
       "<Figure size 432x432 with 3 Axes>"
      ]
     },
     "metadata": {},
     "output_type": "display_data"
    }
   ],
   "source": [
    "sns.jointplot(x='count', y='language', data=df_dp)"
   ]
  },
  {
   "cell_type": "markdown",
   "metadata": {},
   "source": [
    "Parece que hay una ** correlación media negativa de -0.38 ** entre las dos cantidades. Esto sugiere que las personas prefieren los países que hablan inglés. ¿Pero es ese el caso realmente? Eliminemos una vez más Estados Unidos, el país de origen y recalcularemos nuestro coeficiente de correlación."
   ]
  },
  {
   "cell_type": "code",
   "execution_count": 62,
   "metadata": {},
   "outputs": [
    {
     "name": "stderr",
     "output_type": "stream",
     "text": [
      "/opt/conda/lib/python3.6/site-packages/scipy/stats/stats.py:1713: FutureWarning: Using a non-tuple sequence for multidimensional indexing is deprecated; use `arr[tuple(seq)]` instead of `arr[seq]`. In the future this will be interpreted as an array index, `arr[np.array(seq)]`, which will result either in an error or a different result.\n",
      "  return np.add.reduce(sorted[indexer] * weights, axis=axis) / sumval\n"
     ]
    },
    {
     "data": {
      "text/plain": [
       "<seaborn.axisgrid.JointGrid at 0x7fa92011b048>"
      ]
     },
     "execution_count": 62,
     "metadata": {},
     "output_type": "execute_result"
    },
    {
     "data": {
      "image/png": "[encoded data removed]",
      "text/plain": [
       "<Figure size 432x432 with 3 Axes>"
      ]
     },
     "metadata": {},
     "output_type": "display_data"
    }
   ],
   "source": [
    "sns.jointplot(x='count', y='language', data=df_dp.drop('US'))"
   ]
  },
  {
   "cell_type": "markdown",
   "metadata": {},
   "source": [
    "El resultado de esta visualización es extremadamente interesante.\n",
    "\n",
    "* Vemos que cuando se elimina a Estados Unidos de la lista de países, en realidad existe ** una correlación positiva ** entre la distancia de idioma y la frecuencia de reserva.\n",
    "* A primera vista, esto puede sugerir que las personas prefieren países con diferentes idiomas (y, por lo tanto, cultura) cuando viajan al extranjero.\n",
    "* Otra forma de verlo sería que ** Europa es un destino de viaje muy popular para los estadounidenses ** y tienden a preferirlo a otros países de habla inglesa como Canadá y Australia. Entonces, esto puede no tener nada que ver con la diferencia de idioma, ya que puede tener que ver con la preferencia de destino.\n",
    "\n",
    "Finalmente, en esta sección, verifiquemos si el tamaño del país tiene algo que ver con la preferencia de reserva. Al igual que en los dos casos anteriores, tenemos datos sobre el tamaño de cada país."
   ]
  },
  {
   "cell_type": "code",
   "execution_count": 63,
   "metadata": {},
   "outputs": [
    {
     "name": "stderr",
     "output_type": "stream",
     "text": [
      "/opt/conda/lib/python3.6/site-packages/scipy/stats/stats.py:1713: FutureWarning: Using a non-tuple sequence for multidimensional indexing is deprecated; use `arr[tuple(seq)]` instead of `arr[seq]`. In the future this will be interpreted as an array index, `arr[np.array(seq)]`, which will result either in an error or a different result.\n",
      "  return np.add.reduce(sorted[indexer] * weights, axis=axis) / sumval\n"
     ]
    },
    {
     "data": {
      "text/plain": [
       "<seaborn.axisgrid.JointGrid at 0x7fa92018b908>"
      ]
     },
     "execution_count": 63,
     "metadata": {},
     "output_type": "execute_result"
    },
    {
     "data": {
      "image/png": "[encoded data removed]",
      "text/plain": [
       "<Figure size 432x432 with 3 Axes>"
      ]
     },
     "metadata": {},
     "output_type": "display_data"
    }
   ],
   "source": [
    "sns.jointplot(x='count', y='area', data=df_dp)"
   ]
  },
  {
   "cell_type": "code",
   "execution_count": 64,
   "metadata": {},
   "outputs": [
    {
     "name": "stderr",
     "output_type": "stream",
     "text": [
      "/opt/conda/lib/python3.6/site-packages/scipy/stats/stats.py:1713: FutureWarning: Using a non-tuple sequence for multidimensional indexing is deprecated; use `arr[tuple(seq)]` instead of `arr[seq]`. In the future this will be interpreted as an array index, `arr[np.array(seq)]`, which will result either in an error or a different result.\n",
      "  return np.add.reduce(sorted[indexer] * weights, axis=axis) / sumval\n"
     ]
    },
    {
     "data": {
      "text/plain": [
       "<seaborn.axisgrid.JointGrid at 0x7fa91feb16a0>"
      ]
     },
     "execution_count": 64,
     "metadata": {},
     "output_type": "execute_result"
    },
    {
     "data": {
      "image/png": "[encoded data removed]",
      "text/plain": [
       "<Figure size 432x432 with 3 Axes>"
      ]
     },
     "metadata": {},
     "output_type": "display_data"
    }
   ],
   "source": [
    "sns.jointplot(x='count', y='area', data=df_dp.drop('US'))"
   ]
  },
  {
   "cell_type": "markdown",
   "metadata": {},
   "source": [
    "Los resultados con el área se asemejan mucho a lo que hemos obtenido de nuestras pruebas de distancia de idioma. En general, existe una correlación positiva entre el tamaño del país y la preferencia de reserva. Esto se debe principalmente a que Estados Unidos es un país grande (el segundo más grande en esta lista).\n",
    "\n",
    "Sin embargo, cuando se eliminan los EE. UU., Los datos ** muestran una correlación negativa. ** Nuevamente, como en el caso del idioma, esto puede no tener nada que ver con el tamaño del país sino con la preferencia de destino. Los países europeos son generalmente pequeños en tamaño pero extremadamente populares entre los turistas estadounidenses."
   ]
  },
  {
   "cell_type": "markdown",
   "metadata": {},
   "source": [
    "### Estadísticas de Sesión\n",
    "\n",
    "En esta sección, trataremos de visualizar algunas de las estadísticas de sesión que se nos dieron. Primero, como ya lo hemos hecho antes, representemos la distribución de la cantidad de tiempo que los usuarios dedicaron a cada sesión.\n"
   ]
  },
  {
   "cell_type": "code",
   "execution_count": 65,
   "metadata": {},
   "outputs": [
    {
     "name": "stderr",
     "output_type": "stream",
     "text": [
      "/opt/conda/lib/python3.6/site-packages/scipy/stats/stats.py:1713: FutureWarning: Using a non-tuple sequence for multidimensional indexing is deprecated; use `arr[tuple(seq)]` instead of `arr[seq]`. In the future this will be interpreted as an array index, `arr[np.array(seq)]`, which will result either in an error or a different result.\n",
      "  return np.add.reduce(sorted[indexer] * weights, axis=axis) / sumval\n"
     ]
    },
    {
     "data": {
      "text/plain": [
       "<matplotlib.axes._subplots.AxesSubplot at 0x7fa91ff000f0>"
      ]
     },
     "execution_count": 65,
     "metadata": {},
     "output_type": "execute_result"
    },
    {
     "data": {
      "image/png": "[encoded data removed]",
      "text/plain": [
       "<Figure size 432x288 with 1 Axes>"
      ]
     },
     "metadata": {},
     "output_type": "display_data"
    }
   ],
   "source": [
    "sns.distplot(df_ses[df_ses['secs_elapsed'].notnull()]['secs_elapsed'])"
   ]
  },
  {
   "cell_type": "markdown",
   "metadata": {},
   "source": [
    "Parece que casi todas las sesiones duraron menos de 5000 segundos. Echemos un vistazo más profundo en estas sesiones."
   ]
  },
  {
   "cell_type": "code",
   "execution_count": 66,
   "metadata": {},
   "outputs": [
    {
     "name": "stderr",
     "output_type": "stream",
     "text": [
      "/opt/conda/lib/python3.6/site-packages/scipy/stats/stats.py:1713: FutureWarning: Using a non-tuple sequence for multidimensional indexing is deprecated; use `arr[tuple(seq)]` instead of `arr[seq]`. In the future this will be interpreted as an array index, `arr[np.array(seq)]`, which will result either in an error or a different result.\n",
      "  return np.add.reduce(sorted[indexer] * weights, axis=axis) / sumval\n"
     ]
    },
    {
     "data": {
      "text/plain": [
       "<matplotlib.axes._subplots.AxesSubplot at 0x7fa91fd32160>"
      ]
     },
     "execution_count": 66,
     "metadata": {},
     "output_type": "execute_result"
    },
    {
     "data": {
      "image/png": "[encoded data removed]",
      "text/plain": [
       "<Figure size 432x288 with 1 Axes>"
      ]
     },
     "metadata": {},
     "output_type": "display_data"
    }
   ],
   "source": [
    "sns.distplot(df_ses[(df_ses['secs_elapsed'].notnull()) & (df_ses['secs_elapsed'] < 5000)]['secs_elapsed'])"
   ]
  },
  {
   "cell_type": "markdown",
   "metadata": {},
   "source": [
    "Podemos ver que la mayoría del número de sesiones de más de 1000 segundos disminuye casi exponencialmente. Es justo suponer que la mayoría de las sesiones duraron menos de 1000 segundos. Para verificar esto, veamos su participación en el número total de sesiones."
   ]
  },
  {
   "cell_type": "code",
   "execution_count": 67,
   "metadata": {},
   "outputs": [
    {
     "data": {
      "text/plain": [
       "0.4672638049186879"
      ]
     },
     "execution_count": 67,
     "metadata": {},
     "output_type": "execute_result"
    }
   ],
   "source": [
    "len(df_ses[df_ses['secs_elapsed'] < 1000])/len(df_ses[df_ses['secs_elapsed'].notnull()])"
   ]
  },
  {
   "cell_type": "markdown",
   "metadata": {},
   "source": [
    "** Casi el 47% de todas las sesiones duraron menos de 1000 segundos. ** Esto sugiere fuertemente una distribución exponencial decreciente de los segundos transcurridos en cada sesión. En otras palabras, a medida que aumenta la cantidad de segundos, la cantidad de instancias de sesiones que requieren ese tiempo disminuye exponencialmente.\n",
    "\n",
    "Finalmente, en esta sección, construiremos un diagrama de barras de todos los dispositivos utilizados por varios usuarios para interactuar con el sitio web y la aplicación de Airbnb."
   ]
  },
  {
   "cell_type": "code",
   "execution_count": 68,
   "metadata": {},
   "outputs": [
    {
     "data": {
      "text/plain": [
       "<matplotlib.axes._subplots.AxesSubplot at 0x7fa937406d30>"
      ]
     },
     "execution_count": 68,
     "metadata": {},
     "output_type": "execute_result"
    },
    {
     "data": {
      "image/png": "[encoded data removed]",
      "text/plain": [
       "<Figure size 864x504 with 1 Axes>"
      ]
     },
     "metadata": {},
     "output_type": "display_data"
    }
   ],
   "source": [
    "plt.figure(figsize=(12,7))\n",
    "sns.countplot(y='device_type', data=df_ses)"
   ]
  },
  {
   "cell_type": "markdown",
   "metadata": {},
   "source": [
    "El ** Mac Desktop ** es el dispositivo más popular entre los usuarios de Airbnb, seguido por el ** Windows Desktop. ** Un dato interesante es que ** los productos de Apple son extremadamente populares entre los usuarios de Airbnb. ** El iPhone, el iPad y el Todos los Mac aparecen en la lista de los 5 dispositivos más populares."
   ]
  },
  {
   "cell_type": "markdown",
   "metadata": {},
   "source": [
    "### Estadísticas de usuarios de entrenamiento\n",
    "\n",
    "En esta sección, intentaremos obtener información sobre nuestro conjunto de datos principal: el conjunto de datos de capacitación. Estas ideas se aplicarán directamente en los pasos posteriores de la ingeniería de características y el aprendizaje automático.\n",
    "\n",
    "El primer paso es trazar la frecuencia de cada clase."
   ]
  },
  {
   "cell_type": "code",
   "execution_count": 69,
   "metadata": {},
   "outputs": [
    {
     "data": {
      "image/png": "[encoded data removed]",
      "text/plain": [
       "<Figure size 720x360 with 1 Axes>"
      ]
     },
     "metadata": {},
     "output_type": "display_data"
    }
   ],
   "source": [
    "plt.figure(figsize=(10,5))\n",
    "country_share = df_train['country_destination'].value_counts() / df_train.shape[0] * 100\n",
    "country_share.plot(kind='bar',color='#FD5C64', rot=0)\n",
    "plt.xlabel('Destination Country')\n",
    "plt.ylabel('Percentage')\n",
    "sns.despine()"
   ]
  },
  {
   "cell_type": "markdown",
   "metadata": {},
   "source": [
    "Como se puede ver arriba, cerca del ** 60% de los usuarios nunca han reservado un Airbnb. ** Entre los usuarios que lo han hecho, han elegido abrumadoramente ** Estados Unidos como su primer destino. ** Al entrenar nuestro modelo de aprendizaje automático, Nos interesa separar a los bookers de los no bookers. La clasificación subsiguiente entre los bookers daría una gran precisión, ya que podríamos usar el desequilibrio de clases a nuestro favor."
   ]
  },
  {
   "cell_type": "markdown",
   "metadata": {},
   "source": [
    "Como se puede ver arriba, cerca del ** 60% de los usuarios nunca han reservado un Airbnb. ** Entre los usuarios que lo han hecho, han elegido abrumadoramente ** Estados Unidos como su primer destino. ** Al entrenar nuestro modelo de aprendizaje automático, Nos interesa separar a los bookers de los no bookers. La clasificación subsiguiente entre los bookers daría una gran precisión, ya que podríamos usar el desequilibrio de clases a nuestro favor."
   ]
  },
  {
   "cell_type": "code",
   "execution_count": 70,
   "metadata": {},
   "outputs": [],
   "source": [
    "classes = ['NDF','US','other','FR','IT','GB','ES','CA','DE','NL','AU','PT']"
   ]
  },
  {
   "cell_type": "markdown",
   "metadata": {},
   "source": [
    "#### La visualización de barras apiladas\n",
    "\n",
    "El gráfico de barras apiladas será la principal herramienta de visualización en la EDA. La idea se tomó de la excelente libreta de notas de kevinwu06 sobre el análisis exploratorio de Airbnb.\n",
    "\n",
    "El gráfico de barras apiladas nos proporciona una colección de barras de colores proporcionales donde cada color representa una clase (o el destino). Como hay más de 10 clases, elegí renunciar a la leyenda. Los colores que nos interesan son ** azul oscuro (barra inferior) que corresponde a la clase NDF ** y ** azul (segunda barra inferior) que corresponde a la clase US **. Como ya hemos visto, estas dos clases forman la mayoría y, por lo tanto, ocuparán la mayor parte del área de cada barra. Cada barra ha sido normalizada con respecto a su tamaño.\n",
    "\n",
    "Lo que intentaremos deducir es la proporción de la barra que pertenece a la clase de no reserva (azul oscuro). Si es grande, significa que es poco probable que un segmento en particular reserve un Airbnb. Si son pequeños, significa que están más inclinados a hacerlo."
   ]
  },
  {
   "cell_type": "code",
   "execution_count": 71,
   "metadata": {},
   "outputs": [],
   "source": [
    "def stacked_bar(feature):\n",
    "    ctab = pd.crosstab([df_train[feature].fillna('Unknown')], df_train.country_destination, dropna=False).apply(lambda x: x/x.sum(), axis=1)\n",
    "    ctab[classes].plot(kind='bar', stacked=True, colormap='terrain', legend=False)"
   ]
  },
  {
   "cell_type": "markdown",
   "metadata": {},
   "source": [
    "#### Género"
   ]
  },
  {
   "cell_type": "code",
   "execution_count": 72,
   "metadata": {},
   "outputs": [
    {
     "data": {
      "text/plain": [
       "<matplotlib.axes._subplots.AxesSubplot at 0x7fa91fb0ccf8>"
      ]
     },
     "execution_count": 72,
     "metadata": {},
     "output_type": "execute_result"
    },
    {
     "data": {
      "image/png": "[encoded data removed]",
      "text/plain": [
       "<Figure size 432x288 with 1 Axes>"
      ]
     },
     "metadata": {},
     "output_type": "display_data"
    }
   ],
   "source": [
    "sns.countplot(df_train['gender'].fillna('Unknown'))"
   ]
  },
  {
   "cell_type": "code",
   "execution_count": 73,
   "metadata": {},
   "outputs": [
    {
     "data": {
      "image/png": "[encoded data removed]",
      "text/plain": [
       "<Figure size 432x288 with 1 Axes>"
      ]
     },
     "metadata": {},
     "output_type": "display_data"
    }
   ],
   "source": [
    "stacked_bar('gender')"
   ]
  },
  {
   "cell_type": "markdown",
   "metadata": {},
   "source": [
    "Vemos que los usuarios cuyo género es desconocido forman la mayoría. De los usuarios cuyo sexo se conoce, ** hay más mujeres que hombres. ** Esto puede sugerir dos cosas:\n",
    "1. Hay más usuarios femeninos de Airbnb que hombres\n",
    "2. Las mujeres tienen más probabilidades de revelar su género que los hombres.\n",
    "\n",
    "Un punto muy interesante a destacar es que ** las personas que no han marcado su género tienen menos probabilidades de reservar un Airbnb. ** Además, las personas que se han marcado a sí mismas como ** 'otras' son más probables ** que cualquier otro grupo para hacer una reserva. Esto podría no ser una idea muy potente ya que el otro grupo es una proporción insignificante de la población."
   ]
  },
  {
   "cell_type": "markdown",
   "metadata": {},
   "source": [
    "#### Edad\n",
    "\n",
    "Estudiemos ahora las edades de los usuarios y tratemos de obtener información sobre ello. Como vimos en una sección anterior, no tenemos los datos de edad de una parte considerable de los usuarios. Intentemos trazar la distribución de los que hacemos."
   ]
  },
  {
   "cell_type": "code",
   "execution_count": 74,
   "metadata": {},
   "outputs": [
    {
     "name": "stderr",
     "output_type": "stream",
     "text": [
      "/opt/conda/lib/python3.6/site-packages/scipy/stats/stats.py:1713: FutureWarning: Using a non-tuple sequence for multidimensional indexing is deprecated; use `arr[tuple(seq)]` instead of `arr[seq]`. In the future this will be interpreted as an array index, `arr[np.array(seq)]`, which will result either in an error or a different result.\n",
      "  return np.add.reduce(sorted[indexer] * weights, axis=axis) / sumval\n"
     ]
    },
    {
     "data": {
      "text/plain": [
       "<matplotlib.axes._subplots.AxesSubplot at 0x7fa91fa552e8>"
      ]
     },
     "execution_count": 74,
     "metadata": {},
     "output_type": "execute_result"
    },
    {
     "data": {
      "image/png": "[encoded data removed]",
      "text/plain": [
       "<Figure size 432x288 with 1 Axes>"
      ]
     },
     "metadata": {},
     "output_type": "display_data"
    }
   ],
   "source": [
    "sns.distplot(df_train['age'].dropna())"
   ]
  },
  {
   "cell_type": "markdown",
   "metadata": {},
   "source": [
    "¿Es más probable que algunos grupos de edad reserven en un destino en particular? Para responder a esta pregunta, usaremos el diagrama de caja y observaremos la distribución de edades de los viajeros a un país en particular."
   ]
  },
  {
   "cell_type": "code",
   "execution_count": 75,
   "metadata": {},
   "outputs": [
    {
     "data": {
      "text/plain": [
       "(10, 75)"
      ]
     },
     "execution_count": 75,
     "metadata": {},
     "output_type": "execute_result"
    },
    {
     "data": {
      "image/png": "[encoded data removed]",
      "text/plain": [
       "<Figure size 1080x576 with 1 Axes>"
      ]
     },
     "metadata": {},
     "output_type": "display_data"
    }
   ],
   "source": [
    "fig, ax = plt.subplots(nrows=1, ncols=1,figsize=(15, 8))\n",
    "sns.boxplot(x='country_destination', y='age', data=df_train, palette=\"muted\", ax =ax)\n",
    "ax.set_ylim([10, 75])"
   ]
  },
  {
   "cell_type": "markdown",
   "metadata": {},
   "source": [
    "Desde la gráfica de boxplot, encontramos que la distribución es más o menos la misma para cada país. ** Gran Bretaña ** tiene la edad media más alta de los viajeros y ** España ** es más popular entre los viajeros más jóvenes."
   ]
  },
  {
   "cell_type": "code",
   "execution_count": 76,
   "metadata": {},
   "outputs": [],
   "source": [
    "def set_age_group(x):\n",
    "    if x < 40:\n",
    "        return 'Young'\n",
    "    elif x >=40 and x < 60:\n",
    "        return 'Middle'\n",
    "    elif x >= 60 and x <= 125:\n",
    "        return 'Old'\n",
    "    else:\n",
    "        return 'Unknown'"
   ]
  },
  {
   "cell_type": "code",
   "execution_count": 77,
   "metadata": {},
   "outputs": [],
   "source": [
    "df_train['age_group'] = df_train['age'].apply(set_age_group)"
   ]
  },
  {
   "cell_type": "code",
   "execution_count": 78,
   "metadata": {},
   "outputs": [
    {
     "data": {
      "image/png": "[encoded data removed]",
      "text/plain": [
       "<Figure size 432x288 with 1 Axes>"
      ]
     },
     "metadata": {},
     "output_type": "display_data"
    }
   ],
   "source": [
    "stacked_bar('age_group')"
   ]
  },
  {
   "cell_type": "markdown",
   "metadata": {},
   "source": [
    "Definimos una nueva característica ** age_group ** para agrupar a nuestros usuarios en 4 grupos de edad:\n",
    "* Las personas menores de 40 años son etiquetadas como jóvenes.\n",
    "* Las personas con edades comprendidas entre 40 y 60 años son etiquetadas como de mediana edad.\n",
    "* Las personas mayores de 60 años son etiquetadas como viejas.\n",
    "* Las personas con edades desconocidas son etiquetadas como desconocidas.\n",
    "\n",
    "Descubrimos que las personas que no han revelado su edad ** tienen menos probabilidades de reservar un Airbnb. ** De los usuarios cuya edad conocemos, ** las personas de mediana edad tienen más probabilidades de reservar un Airbnb. ** Aunque debe ser señaló que no hay una diferencia muy significativa entre los tres grupos."
   ]
  },
  {
   "cell_type": "markdown",
   "metadata": {},
   "source": [
    "#### Método de registro\n",
    "\n",
    "En una sección anterior, ya establecimos que ** basic ** y ** Facebook ** eran los métodos de registro más populares. ** Google ** rara vez se usaba."
   ]
  },
  {
   "cell_type": "code",
   "execution_count": 79,
   "metadata": {},
   "outputs": [
    {
     "data": {
      "image/png": "[encoded data removed]",
      "text/plain": [
       "<Figure size 432x288 with 1 Axes>"
      ]
     },
     "metadata": {},
     "output_type": "display_data"
    }
   ],
   "source": [
    "stacked_bar('signup_method')"
   ]
  },
  {
   "cell_type": "markdown",
   "metadata": {},
   "source": [
    "Descubrimos que las personas que usan el método de registro ** básico ** tienen más probabilidades de reservar un Airbnb, mientras que las personas que usan ** google ** tienen menos probabilidades de hacer una reserva."
   ]
  },
  {
   "cell_type": "markdown",
   "metadata": {},
   "source": [
    "#### Idioma"
   ]
  },
  {
   "cell_type": "code",
   "execution_count": 80,
   "metadata": {},
   "outputs": [
    {
     "data": {
      "image/png": "[encoded data removed]",
      "text/plain": [
       "<Figure size 432x288 with 1 Axes>"
      ]
     },
     "metadata": {},
     "output_type": "display_data"
    }
   ],
   "source": [
    "stacked_bar('language')"
   ]
  },
  {
   "cell_type": "markdown",
   "metadata": {},
   "source": [
    "Vemos que las personas que hablan ** húngaro ** y ** indonesio ** casi no hacen reservas. Las personas que hablaron ** finlandés ** hicieron la mayoría de las reservas entre todos los idiomas. Sin embargo, dado que los usuarios son estadounidenses, podemos asumir con seguridad que los usuarios que no son ingleses constituyen una minoria."
   ]
  },
  {
   "cell_type": "markdown",
   "metadata": {},
   "source": [
    "#### Canales de afiliados y proveedores"
   ]
  },
  {
   "cell_type": "code",
   "execution_count": 81,
   "metadata": {},
   "outputs": [
    {
     "data": {
      "image/png": "[encoded data removed]",
      "text/plain": [
       "<Figure size 432x288 with 1 Axes>"
      ]
     },
     "metadata": {},
     "output_type": "display_data"
    }
   ],
   "source": [
    "stacked_bar('affiliate_channel')"
   ]
  },
  {
   "cell_type": "code",
   "execution_count": 82,
   "metadata": {},
   "outputs": [
    {
     "data": {
      "text/plain": [
       "<matplotlib.axes._subplots.AxesSubplot at 0x7fa91fa9dc18>"
      ]
     },
     "execution_count": 82,
     "metadata": {},
     "output_type": "execute_result"
    },
    {
     "data": {
      "image/png": "[encoded data removed]",
      "text/plain": [
       "<Figure size 576x288 with 1 Axes>"
      ]
     },
     "metadata": {},
     "output_type": "display_data"
    }
   ],
   "source": [
    "plt.figure(figsize=(8,4))\n",
    "sns.countplot(df_train['affiliate_channel'])"
   ]
  },
  {
   "cell_type": "code",
   "execution_count": 83,
   "metadata": {},
   "outputs": [
    {
     "data": {
      "image/png": "[encoded data removed]",
      "text/plain": [
       "<Figure size 432x288 with 1 Axes>"
      ]
     },
     "metadata": {},
     "output_type": "display_data"
    }
   ],
   "source": [
    "stacked_bar('affiliate_provider')"
   ]
  },
  {
   "cell_type": "code",
   "execution_count": 84,
   "metadata": {},
   "outputs": [
    {
     "data": {
      "text/plain": [
       "<matplotlib.axes._subplots.AxesSubplot at 0x7fa91f737390>"
      ]
     },
     "execution_count": 84,
     "metadata": {},
     "output_type": "execute_result"
    },
    {
     "data": {
      "image/png": "[encoded data removed]",
      "text/plain": [
       "<Figure size 1296x288 with 1 Axes>"
      ]
     },
     "metadata": {},
     "output_type": "display_data"
    }
   ],
   "source": [
    "plt.figure(figsize=(18,4))\n",
    "sns.countplot(df_train['affiliate_provider'])"
   ]
  },
  {
   "cell_type": "code",
   "execution_count": 85,
   "metadata": {},
   "outputs": [
    {
     "data": {
      "image/png": "[encoded data removed]",
      "text/plain": [
       "<Figure size 432x288 with 1 Axes>"
      ]
     },
     "metadata": {},
     "output_type": "display_data"
    }
   ],
   "source": [
    "stacked_bar('first_affiliate_tracked')"
   ]
  },
  {
   "cell_type": "markdown",
   "metadata": {},
   "source": [
    "Algunas observaciones de las visualizaciones anteriores:\n",
    "* El ** Canal Directo ** tiene la mayor cantidad de conversiones a las reservas, mientras que el ** Canal de Contenido ** tiene la menor cantidad.\n",
    "* ** Direct ** y ** Google ** son los proveedores afiliados más populares.\n",
    "* ** Wayn ** tiene el menor porcentaje de conversiones mientras que ** Daum ** tiene el mayor porcentaje. Sin embargo, debemos tomar esto con una pizca de sal, ya que puede ser que el número de puntos de muestra de estas categorías sea extremadamente pequeño (como lo sugiere la gráfica de conteo).\n",
    "* Aparte de lo anterior, ** Google ** y ** Craigslist ** tienen un buen porcentaje de conversiones.\n",
    "* Las personas con ** Marketing ** afiliados eran más propensas a reservar. Las personas cuyo primer afiliado fue registrado como ** Operaciones locales ** o ** Desconocido ** fueron las menos probables."
   ]
  },
  {
   "cell_type": "markdown",
   "metadata": {},
   "source": [
    "#### Flujo de Inscripción"
   ]
  },
  {
   "cell_type": "code",
   "execution_count": 86,
   "metadata": {},
   "outputs": [
    {
     "data": {
      "image/png": "[encoded data removed]",
      "text/plain": [
       "<Figure size 432x288 with 1 Axes>"
      ]
     },
     "metadata": {},
     "output_type": "display_data"
    }
   ],
   "source": [
    "stacked_bar('signup_flow')"
   ]
  },
  {
   "cell_type": "markdown",
   "metadata": {},
   "source": [
    "El gráfico de barras apiladas del flujo de inscripción genera observaciones muy interesantes: ** las personas con flujo de registro 3 ** tienen más probabilidades de reservar un Airbnb. Por el contrario, las personas con flujos de registro ** 4 y 5 tienen menos probabilidades de convertirse. **"
   ]
  },
  {
   "cell_type": "markdown",
   "metadata": {},
   "source": [
    "#### Tipo de dispositivo, navegador y aplicación utilizados"
   ]
  },
  {
   "cell_type": "code",
   "execution_count": 87,
   "metadata": {},
   "outputs": [
    {
     "data": {
      "image/png": "[encoded data removed]",
      "text/plain": [
       "<Figure size 432x288 with 1 Axes>"
      ]
     },
     "metadata": {},
     "output_type": "display_data"
    }
   ],
   "source": [
    "stacked_bar('signup_app')"
   ]
  },
  {
   "cell_type": "code",
   "execution_count": 88,
   "metadata": {},
   "outputs": [
    {
     "data": {
      "image/png": "[encoded data removed]",
      "text/plain": [
       "<Figure size 432x288 with 1 Axes>"
      ]
     },
     "metadata": {},
     "output_type": "display_data"
    }
   ],
   "source": [
    "stacked_bar('first_device_type')"
   ]
  },
  {
   "cell_type": "markdown",
   "metadata": {},
   "source": [
    "Como hay demasiados navegadores, lo ignoraremos por el momento e intentaremos reducir las categorías en un paso posterior. Por ahora, podemos hacer las siguientes observaciones sobre los dispositivos de usuario:\n",
    "* Los usuarios que usan la aplicación web ** tienen más probabilidades de reservar un Airbnb, mientras que ** los usuarios de Android ** tienen menos probabilidades de hacerlo.\n",
    "* ** Las personas con un teléfono Android o cuyos dispositivos eran desconocidos ** compraron menos Airbnbs. La gente en computadoras de escritorio (Mac o de otro tipo) compró más.\n",
    "\n",
    "Esto sugiere fuertemente que los usuarios en su escritorio tendrán más probabilidades de reservar un Airbnb y los Usuarios de Apple son más propensos a comprar en el sitio web, mientras que los Usuarios de Android son los menos."
   ]
  },
  {
   "cell_type": "markdown",
   "metadata": {},
   "source": [
    "#### Fechas"
   ]
  },
  {
   "cell_type": "markdown",
   "metadata": {},
   "source": [
    "Revisemos primero las tendencias acerca de cuándo se crearon las primeras cuentas."
   ]
  },
  {
   "cell_type": "code",
   "execution_count": 89,
   "metadata": {},
   "outputs": [],
   "source": [
    "df_train['date_account_created'] = pd.to_datetime(df_train['date_account_created'])"
   ]
  },
  {
   "cell_type": "code",
   "execution_count": 90,
   "metadata": {},
   "outputs": [
    {
     "data": {
      "text/plain": [
       "<matplotlib.axes._subplots.AxesSubplot at 0x7fa91f7490b8>"
      ]
     },
     "execution_count": 90,
     "metadata": {},
     "output_type": "execute_result"
    },
    {
     "data": {
      "image/png": "[encoded data removed]",
      "text/plain": [
       "<Figure size 864x432 with 1 Axes>"
      ]
     },
     "metadata": {},
     "output_type": "display_data"
    }
   ],
   "source": [
    "sns.set_style(\"whitegrid\", {'axes.edgecolor': '0'})\n",
    "sns.set_context(\"poster\", font_scale=1.1)\n",
    "plt.figure(figsize=(12,6))\n",
    "\n",
    "df_train[df_train['country_destination'] != 'NDF']['date_account_created'].value_counts().plot(kind='line', linewidth=1, color='green')\n",
    "df_train[df_train['country_destination'] == 'NDF']['date_account_created'].value_counts().plot(kind='line', linewidth=1, color='red')"
   ]
  },
  {
   "cell_type": "markdown",
   "metadata": {},
   "source": [
    "El número de usuarios que no reservan ha aumentado más que el número de usuarios que reservan a medida que pasa el tiempo. Esto se puede atribuir al hecho de que más personas están utilizando la plataforma solo para la exploración. Otra razón podría ser que dado que el usuario estuvo en la plataforma por un tiempo más prolongado, era más probable que él / ella siguiera adelante y reservara un espacio. Esto implica directamente que ** cuanto antes el usuario había creado una cuenta en Airbnb, era más probable que hiciera una reserva. **\n",
    "\n",
    "Con todo esto en mente, no podemos continuar con el Paso de ingeniería de características. Las características que aún no hemos explorado en esta sección se explorarán en la siguiente."
   ]
  },
  {
   "cell_type": "markdown",
   "metadata": {
    "collapsed": true
   },
   "source": [
    "## Ingeniería de características\n",
    "\n",
    "Ahora, con todas estas visualizaciones e ideas en nuestro haber, procedamos a desarrollar algunas características nuevas que nos ayudarán a obtener mejores predicciones cuando finalmente capacitemos nuestro modelo de aprendizaje automático. Primero, me gustaría extraer características de nuestro conjunto de datos de sesiones. Además, dado que no hemos hecho demasiada visualización de nuestras sesiones, este sería un buen lugar para hacerlo."
   ]
  },
  {
   "cell_type": "code",
   "execution_count": 91,
   "metadata": {},
   "outputs": [
    {
     "data": {
      "text/html": [
       "<div>\n",
       "<style scoped>\n",
       "    .dataframe tbody tr th:only-of-type {\n",
       "        vertical-align: middle;\n",
       "    }\n",
       "\n",
       "    .dataframe tbody tr th {\n",
       "        vertical-align: top;\n",
       "    }\n",
       "\n",
       "    .dataframe thead th {\n",
       "        text-align: right;\n",
       "    }\n",
       "</style>\n",
       "<table border=\"1\" class=\"dataframe\">\n",
       "  <thead>\n",
       "    <tr style=\"text-align: right;\">\n",
       "      <th></th>\n",
       "      <th>user_id</th>\n",
       "      <th>action</th>\n",
       "      <th>action_type</th>\n",
       "      <th>action_detail</th>\n",
       "      <th>device_type</th>\n",
       "      <th>secs_elapsed</th>\n",
       "    </tr>\n",
       "  </thead>\n",
       "  <tbody>\n",
       "    <tr>\n",
       "      <th>0</th>\n",
       "      <td>d1mm9tcy42</td>\n",
       "      <td>lookup</td>\n",
       "      <td>NaN</td>\n",
       "      <td>NaN</td>\n",
       "      <td>Windows Desktop</td>\n",
       "      <td>319.0</td>\n",
       "    </tr>\n",
       "    <tr>\n",
       "      <th>1</th>\n",
       "      <td>d1mm9tcy42</td>\n",
       "      <td>search_results</td>\n",
       "      <td>click</td>\n",
       "      <td>view_search_results</td>\n",
       "      <td>Windows Desktop</td>\n",
       "      <td>67753.0</td>\n",
       "    </tr>\n",
       "  </tbody>\n",
       "</table>\n",
       "</div>"
      ],
      "text/plain": [
       "      user_id          action     ...           device_type secs_elapsed\n",
       "0  d1mm9tcy42          lookup     ...       Windows Desktop        319.0\n",
       "1  d1mm9tcy42  search_results     ...       Windows Desktop      67753.0\n",
       "\n",
       "[2 rows x 6 columns]"
      ]
     },
     "execution_count": 91,
     "metadata": {},
     "output_type": "execute_result"
    }
   ],
   "source": [
    "df_ses.head(2)"
   ]
  },
  {
   "cell_type": "markdown",
   "metadata": {
    "collapsed": true
   },
   "source": [
    "> ### Características de la sesión\n",
    "\n",
    "La primera característica que quiero diseñar es la cantidad de dispositivos a los que un usuario accede a la aplicación. ** Mi corazonada es que si el usuario usa muchos dispositivos, implica que viaja muy a menudo y, por lo tanto, es probable que reserve un Airbnb. ** Una hipótesis adicional es que si la persona viaja mucho, s / probablemente debe ser un viajero de negocios y, por lo tanto, es probable que esté dispuesto a reservar Airbnbs dentro de los Estados Unidos.\n",
    "\n",
    "La segunda característica que quiero es el ** número total de segundos que el usuario ha gastado en las sesiones de Airbnb. ** Será interesante ver cómo esto se correlaciona con nuestras clases.\n",
    "\n",
    "La tercera característica es ** segundos promedio por sesión. ** Nuevamente, no tengo mucha intuición detrás de este paso, pero tengo la sensación de que esta característica puede ser útil.\n",
    "\n",
    "La cuarta característica es ** el número total de sesiones. ** Al igual que con los segundos totales, esto podría indicar un mayor interés. Además, también construiremos una característica de ** número de tipos de sesión ** para cuantificar aún más el interés y el compromiso del usuario.\n",
    "\n",
    "La última característica que quiero ver es ** número de sesiones cortas. ** Estas son sesiones de menos de 300 segundos de duración. Construiremos un ** número de sesiones largas ** al restarlo del número total de sesiones."
   ]
  },
  {
   "cell_type": "code",
   "execution_count": 92,
   "metadata": {},
   "outputs": [],
   "source": [
    "def session_features(df):\n",
    "    df['total_seconds'] = df['id'].apply(lambda x: total_seconds[x] if x in total_seconds else 0)\n",
    "    df['average_seconds'] = df['id'].apply(lambda x: average_seconds[x] if x in average_seconds else 0)\n",
    "    df['total_sessions'] = df['id'].apply(lambda x: total_sessions[x] if x in total_sessions else 0)\n",
    "    df['distinct_sessions'] = df['id'].apply(lambda x: distinct_sessions[x] if x in distinct_sessions else 0)\n",
    "    df['num_short_sessions'] = df['id'].apply(lambda x: num_short_sessions[x] if x in num_short_sessions else 0)\n",
    "    df['num_long_sessions'] = df['id'].apply(lambda x: num_long_sessions[x] if x in num_long_sessions else 0)\n",
    "    df['num_devices'] = df['id'].apply(lambda x: num_devices[x] if x in num_devices else 0)\n",
    "    return df"
   ]
  },
  {
   "cell_type": "code",
   "execution_count": 93,
   "metadata": {},
   "outputs": [],
   "source": [
    "def browsers(df):\n",
    "    df['first_browser'] = df['first_browser'].apply(lambda x: \"Mobile_Safari\" if x == \"Mobile Safari\" else x)\n",
    "    major_browsers = ['Chrome', 'Safari', 'Firefox', 'IE', 'Mobile_Safari']\n",
    "    df['first_browser'] = df['first_browser'].apply(lambda x: 'Other' if x not in major_browsers else x)\n",
    "    return df"
   ]
  },
  {
   "cell_type": "code",
   "execution_count": 94,
   "metadata": {},
   "outputs": [],
   "source": [
    "def classify_device(x):\n",
    "    if x.find('Desktop') != -1:\n",
    "        return 'Desktop'\n",
    "    elif x.find('Tablet') != -1 or x.find('iPad') != -1:\n",
    "        return 'Tablet'\n",
    "    elif x.find('Phone') != -1:\n",
    "        return 'Phone'\n",
    "    else:\n",
    "        return 'Unknown'"
   ]
  },
  {
   "cell_type": "code",
   "execution_count": 95,
   "metadata": {},
   "outputs": [],
   "source": [
    "def devices(df):\n",
    "    df['first_device_type'] = df['first_device_type'].apply(classify_device)\n",
    "    return df"
   ]
  },
  {
   "cell_type": "code",
   "execution_count": 96,
   "metadata": {},
   "outputs": [],
   "source": [
    "def affiliate_tracked(df):\n",
    "    df['first_affiliate_tracked'] = df['first_affiliate_tracked'].fillna('Unknown')\n",
    "    df['first_affiliate_tracked'] = df['first_affiliate_tracked'].apply(lambda x: 'Other' if x != 'Unknown' and x != 'untracked' else x)\n",
    "    return df"
   ]
  },
  {
   "cell_type": "code",
   "execution_count": 97,
   "metadata": {},
   "outputs": [],
   "source": [
    "def affiliate_provider(df):\n",
    "    df['affiliate_provider'] = df['affiliate_provider'].apply(lambda x: 'rest' if x not in ['direct', 'google', 'other'] else x)\n",
    "    return df"
   ]
  },
  {
   "cell_type": "code",
   "execution_count": 98,
   "metadata": {},
   "outputs": [],
   "source": [
    "def affiliate_channel(df):\n",
    "    df['affiliate_channel'] = df['affiliate_channel'].apply(lambda x: 'other' if x  not in ['direct', 'content'] else x)\n",
    "    return df"
   ]
  },
  {
   "cell_type": "code",
   "execution_count": 99,
   "metadata": {},
   "outputs": [],
   "source": [
    "def languages(df):\n",
    "    df['language'] = df['language'].apply(lambda x: 'foreign' if x != 'en' else x)\n",
    "    return df"
   ]
  },
  {
   "cell_type": "code",
   "execution_count": 100,
   "metadata": {},
   "outputs": [],
   "source": [
    "def first_booking(df):\n",
    "    df = df.drop('date_first_booking', axis=1)\n",
    "    return df"
   ]
  },
  {
   "cell_type": "code",
   "execution_count": 101,
   "metadata": {},
   "outputs": [],
   "source": [
    "def account_created(df):\n",
    "    df = df.drop('date_account_created', axis=1)\n",
    "    return df"
   ]
  },
  {
   "cell_type": "code",
   "execution_count": 102,
   "metadata": {},
   "outputs": [],
   "source": [
    "def feature_engineering(df):\n",
    "    df = session_features(df)\n",
    "    df = df.drop('age', axis=1)\n",
    "    df = browsers(df)\n",
    "    df =devices(df)\n",
    "    df =affiliate_tracked(df)\n",
    "    df = affiliate_provider(df)\n",
    "    df = affiliate_channel(df)\n",
    "    df = languages(df)\n",
    "    df['is_3'] = df['signup_flow'].apply(lambda x: 1 if x==3 else 0)\n",
    "    df = first_booking(df)\n",
    "    df = df.drop('timestamp_first_active', axis=1)\n",
    "    df = account_created(df)\n",
    "    df = df.set_index('id')\n",
    "    df = pd.get_dummies(df, prefix='is')\n",
    "    return df"
   ]
  },
  {
   "cell_type": "code",
   "execution_count": 103,
   "metadata": {},
   "outputs": [],
   "source": [
    "total_seconds = df_ses.groupby('user_id')['secs_elapsed'].sum()"
   ]
  },
  {
   "cell_type": "code",
   "execution_count": 104,
   "metadata": {},
   "outputs": [],
   "source": [
    "average_seconds = df_ses.groupby('user_id')['secs_elapsed'].mean()"
   ]
  },
  {
   "cell_type": "code",
   "execution_count": 105,
   "metadata": {},
   "outputs": [],
   "source": [
    "total_sessions = df_ses.groupby('user_id')['action'].count()"
   ]
  },
  {
   "cell_type": "code",
   "execution_count": 106,
   "metadata": {},
   "outputs": [],
   "source": [
    "distinct_sessions = df_ses.groupby('user_id')['action'].nunique()"
   ]
  },
  {
   "cell_type": "code",
   "execution_count": 107,
   "metadata": {},
   "outputs": [],
   "source": [
    "num_short_sessions = df_ses[df_ses['secs_elapsed'] <= 300].groupby('user_id')['action'].count()\n",
    "num_long_sessions = df_ses[df_ses['secs_elapsed'] >= 2000].groupby('user_id')['action'].count()"
   ]
  },
  {
   "cell_type": "code",
   "execution_count": 108,
   "metadata": {},
   "outputs": [],
   "source": [
    "num_devices = df_ses.groupby('user_id')['device_type'].nunique()"
   ]
  },
  {
   "cell_type": "code",
   "execution_count": 109,
   "metadata": {},
   "outputs": [],
   "source": [
    "df_train = session_features(df_train)"
   ]
  },
  {
   "cell_type": "markdown",
   "metadata": {},
   "source": [
    "Since we already have our age groups, we can drop the age feature."
   ]
  },
  {
   "cell_type": "code",
   "execution_count": 110,
   "metadata": {},
   "outputs": [],
   "source": [
    "df_train = df_train.drop('age', axis=1)"
   ]
  },
  {
   "cell_type": "markdown",
   "metadata": {},
   "source": [
    "Hay más de 50 categorías de navegadores, aunque la mayoría utiliza solo 5. Por lo tanto, agruparemos todos los exploradores menores en la categoría 'Otros'.\n",
    "\n",
    "Luego, de nuestra visualización anterior, vimos que los usuarios de computadoras de escritorio tenían más probabilidades de reservar Airbnbs, seguidos por los usuarios de Tabletas, usuarios de teléfonos y finalmente personas cuyos dispositivos eran desconocidos. Vamos a reducir first_device_type en estas categorías."
   ]
  },
  {
   "cell_type": "code",
   "execution_count": 111,
   "metadata": {},
   "outputs": [],
   "source": [
    "df_train = browsers(df_train)"
   ]
  },
  {
   "cell_type": "code",
   "execution_count": 112,
   "metadata": {},
   "outputs": [],
   "source": [
    "df_train = devices(df_train)"
   ]
  },
  {
   "cell_type": "markdown",
   "metadata": {},
   "source": [
    "Hagamos lo mismo con los afiliados."
   ]
  },
  {
   "cell_type": "code",
   "execution_count": 113,
   "metadata": {},
   "outputs": [],
   "source": [
    "df_train = affiliate_tracked(df_train)"
   ]
  },
  {
   "cell_type": "code",
   "execution_count": 114,
   "metadata": {},
   "outputs": [],
   "source": [
    "df_train = affiliate_provider(df_train)"
   ]
  },
  {
   "cell_type": "code",
   "execution_count": 115,
   "metadata": {},
   "outputs": [],
   "source": [
    "df_train = affiliate_channel(df_train)"
   ]
  },
  {
   "cell_type": "markdown",
   "metadata": {},
   "source": [
    "El idioma utilizado es mayoritariamente el inglés. Por lo tanto, tiene sentido apilar a los demás."
   ]
  },
  {
   "cell_type": "code",
   "execution_count": 116,
   "metadata": {},
   "outputs": [],
   "source": [
    "df_train = languages(df_train)"
   ]
  },
  {
   "cell_type": "markdown",
   "metadata": {},
   "source": [
    "En nuestra sección de EDA, notamos que las personas con flujo de registro 3 tuvieron un número desproporcionado de conversiones. Por lo tanto, definiremos una característica adicional que identifique a estos usuarios. También revertiremos nuestra fatiga de género al rellenar los NaN con Desconocido ya que deducimos que esto llevará a una mejora en la predicción."
   ]
  },
  {
   "cell_type": "code",
   "execution_count": 117,
   "metadata": {},
   "outputs": [],
   "source": [
    "df_train['is_3'] = df_train['signup_flow'].apply(lambda x: 1 if x==3 else 0)\n",
    "df_train['gender'] = df_train['gender'].fillna('Unknown')"
   ]
  },
  {
   "cell_type": "markdown",
   "metadata": {},
   "source": [
    "Vamos a soltar las características de first_bookings y timsestamp. Esto se debe a que no agregan ningún valor cuando finalmente prueban el modelo con el conjunto de pruebas. Todos nuestros usuarios de prueba tienen NaN como primera reserva y la marca de tiempo no tiene importancia."
   ]
  },
  {
   "cell_type": "code",
   "execution_count": 118,
   "metadata": {},
   "outputs": [],
   "source": [
    "df_train = first_booking(df_train)"
   ]
  },
  {
   "cell_type": "code",
   "execution_count": 119,
   "metadata": {},
   "outputs": [],
   "source": [
    "df_train = df_train.drop('timestamp_first_active', axis=1)"
   ]
  },
  {
   "cell_type": "markdown",
   "metadata": {},
   "source": [
    "Finalmente, eliminaremos la función de cuentas creadas, ya que nuestros conjuntos de entrenamiento y prueba se separaron a mediados de 2014. Como resultado, todos los usuarios de prueba se registraron solo en 2014."
   ]
  },
  {
   "cell_type": "code",
   "execution_count": 120,
   "metadata": {},
   "outputs": [],
   "source": [
    "df_train = account_created(df_train)"
   ]
  },
  {
   "cell_type": "code",
   "execution_count": 121,
   "metadata": {},
   "outputs": [],
   "source": [
    "df_train = df_train.set_index('id')"
   ]
  },
  {
   "cell_type": "markdown",
   "metadata": {},
   "source": [
    "Nuestro conjunto de datos ahora está en posición de tener una codificación activa realizada en él. Separemos ahora nuestros datos de X y de y."
   ]
  },
  {
   "cell_type": "code",
   "execution_count": 122,
   "metadata": {},
   "outputs": [],
   "source": [
    "class_dict = {\n",
    "    'NDF': 0,\n",
    "    'US': 1,\n",
    "    'other': 2,\n",
    "    'FR': 3,\n",
    "    'CA': 4,\n",
    "    'GB': 5,\n",
    "    'ES': 6,\n",
    "    'IT': 7,\n",
    "    'PT': 8,\n",
    "    'NL': 9,\n",
    "    'DE': 10,\n",
    "    'AU': 11\n",
    "}"
   ]
  },
  {
   "cell_type": "code",
   "execution_count": 123,
   "metadata": {},
   "outputs": [],
   "source": [
    "X, y = df_train.drop('country_destination', axis=1), df_train['country_destination'].apply(lambda x: class_dict[x])"
   ]
  },
  {
   "cell_type": "code",
   "execution_count": 124,
   "metadata": {},
   "outputs": [],
   "source": [
    "X = pd.get_dummies(X, prefix='is')"
   ]
  },
  {
   "cell_type": "code",
   "execution_count": 125,
   "metadata": {},
   "outputs": [
    {
     "name": "stderr",
     "output_type": "stream",
     "text": [
      "/opt/conda/lib/python3.6/site-packages/sklearn/model_selection/_split.py:2179: FutureWarning: From version 0.21, test_size will always complement train_size unless both are specified.\n",
      "  FutureWarning)\n"
     ]
    }
   ],
   "source": [
    "train_X, test_X, train_y, test_y = train_test_split(X, y, train_size=0.75, stratify=y)"
   ]
  },
  {
   "cell_type": "markdown",
   "metadata": {},
   "source": [
    "## Aprendizaje automático\n",
    "\n",
    "\n",
    "El siguiente paso es construir un clasificador para entrenar nuestros datos y luego probar su rendimiento con los datos de prueba. Con toda la ingeniería de características ya realizada en el paso anterior, la aplicación del aprendizaje automático debe ser bastante concisa.\n",
    "\n",
    "### Selección de modelo\n",
    "\n",
    "Sin embargo, debemos crear un clasificador que tenga el mejor rendimiento, dadas las características. En tales competiciones, Ensemble Methods dan los mejores resultados. Entrenaremos a nuestro modelo utilizando tres clasificadores: ** Incremento de gradiente **, ** Regresión logística ** y ** Bosque aleatorio ** y elegiremos el que tenga la mejor precisión."
   ]
  },
  {
   "cell_type": "code",
   "execution_count": 126,
   "metadata": {},
   "outputs": [],
   "source": [
    "#classifiers = [RandomForestClassifier(verbose=1), LogisticRegression(verbose=1), GradientBoostingClassifier(verbose=True)]\n",
    "\n",
    "#for classifier in classifiers:\n",
    "#    classifier.fit(train_X, train_y)\n",
    "#    print(\"Score: \" + str(classifier.score(test_X, test_y)))"
   ]
  },
  {
   "cell_type": "markdown",
   "metadata": {},
   "source": [
    "Los siguientes resultados fueron obtenidos:\n",
    "* ** Regresión logística ** es el clasificador menos preciso con una precisión registrada inferior al 60%.\n",
    "* En promedio, el ** Clasificador de aumento de gradiente ** obtuvo el mejor rendimiento con una precisión cercana al 65%.\n",
    "\n",
    "Por supuesto, hay otros clasificadores que pueden probarse en este paso, pero me detendré aquí y elegiré ** el Clasificador de refuerzo de gradiente ** como mi modelo de elección."
   ]
  },
  {
   "cell_type": "markdown",
   "metadata": {},
   "source": [
    "Este clasificador tiene una precisión de ** aproximadamente el 65% **. Intentemos y mejoremos esto utilizando el ajuste de hiperparámetro usando la validación cruzada de búsqueda de cuadrícula. Afortunadamente, como siempre, scikit-learn tiene las herramientas disponibles para nosotros que reducen la cantidad de código al mínimo."
   ]
  },
  {
   "cell_type": "markdown",
   "metadata": {},
   "source": [
    "### Ajuste del hiperparámetro usando Grid Search Cross Validation"
   ]
  },
  {
   "cell_type": "code",
   "execution_count": 127,
   "metadata": {},
   "outputs": [],
   "source": [
    "parameters = {\n",
    "    'n_estimators': [100,200],\n",
    "    'max_features': ['auto', 'log2'],\n",
    "    'max_depth': [3,5]\n",
    "}"
   ]
  },
  {
   "cell_type": "code",
   "execution_count": 128,
   "metadata": {},
   "outputs": [],
   "source": [
    "#clf = GridSearchCV(GradientBoostingClassifier(), parameters, verbose=100)\n",
    "#clf.fit(train_X, train_y)"
   ]
  },
  {
   "cell_type": "code",
   "execution_count": 129,
   "metadata": {},
   "outputs": [],
   "source": [
    "#clf.best_params_"
   ]
  },
  {
   "cell_type": "markdown",
   "metadata": {},
   "source": [
    "Los mejores parámetros obtenidos por Grid Search se pueden ver arriba. Cambiaremos la tasa de aprendizaje a 200 para obtener mejores resultados."
   ]
  },
  {
   "cell_type": "markdown",
   "metadata": {},
   "source": [
    "### Pruebas y envío final\n",
    "\n",
    "Ahora que tenemos un clasificador que ha sido optimizado para obtener mejores resultados, podemos proceder a hacer predicciones para nuestros usuarios de prueba y crear el archivo de envío final."
   ]
  },
  {
   "cell_type": "code",
   "execution_count": 130,
   "metadata": {},
   "outputs": [
    {
     "data": {
      "text/html": [
       "<div>\n",
       "<style scoped>\n",
       "    .dataframe tbody tr th:only-of-type {\n",
       "        vertical-align: middle;\n",
       "    }\n",
       "\n",
       "    .dataframe tbody tr th {\n",
       "        vertical-align: top;\n",
       "    }\n",
       "\n",
       "    .dataframe thead th {\n",
       "        text-align: right;\n",
       "    }\n",
       "</style>\n",
       "<table border=\"1\" class=\"dataframe\">\n",
       "  <thead>\n",
       "    <tr style=\"text-align: right;\">\n",
       "      <th></th>\n",
       "      <th>id</th>\n",
       "      <th>date_account_created</th>\n",
       "      <th>timestamp_first_active</th>\n",
       "      <th>date_first_booking</th>\n",
       "      <th>gender</th>\n",
       "      <th>age</th>\n",
       "      <th>signup_method</th>\n",
       "      <th>signup_flow</th>\n",
       "      <th>language</th>\n",
       "      <th>affiliate_channel</th>\n",
       "      <th>affiliate_provider</th>\n",
       "      <th>first_affiliate_tracked</th>\n",
       "      <th>signup_app</th>\n",
       "      <th>first_device_type</th>\n",
       "      <th>first_browser</th>\n",
       "      <th>age_group</th>\n",
       "    </tr>\n",
       "  </thead>\n",
       "  <tbody>\n",
       "    <tr>\n",
       "      <th>0</th>\n",
       "      <td>5uwns89zht</td>\n",
       "      <td>2014-07-01</td>\n",
       "      <td>20140701000006</td>\n",
       "      <td>NaN</td>\n",
       "      <td>FEMALE</td>\n",
       "      <td>35.0</td>\n",
       "      <td>facebook</td>\n",
       "      <td>0</td>\n",
       "      <td>en</td>\n",
       "      <td>direct</td>\n",
       "      <td>direct</td>\n",
       "      <td>untracked</td>\n",
       "      <td>Moweb</td>\n",
       "      <td>iPhone</td>\n",
       "      <td>Mobile Safari</td>\n",
       "      <td>Young</td>\n",
       "    </tr>\n",
       "    <tr>\n",
       "      <th>1</th>\n",
       "      <td>jtl0dijy2j</td>\n",
       "      <td>2014-07-01</td>\n",
       "      <td>20140701000051</td>\n",
       "      <td>NaN</td>\n",
       "      <td>Unknown</td>\n",
       "      <td>NaN</td>\n",
       "      <td>basic</td>\n",
       "      <td>0</td>\n",
       "      <td>en</td>\n",
       "      <td>direct</td>\n",
       "      <td>direct</td>\n",
       "      <td>untracked</td>\n",
       "      <td>Moweb</td>\n",
       "      <td>iPhone</td>\n",
       "      <td>Mobile Safari</td>\n",
       "      <td>Unknown</td>\n",
       "    </tr>\n",
       "    <tr>\n",
       "      <th>2</th>\n",
       "      <td>xx0ulgorjt</td>\n",
       "      <td>2014-07-01</td>\n",
       "      <td>20140701000148</td>\n",
       "      <td>NaN</td>\n",
       "      <td>Unknown</td>\n",
       "      <td>NaN</td>\n",
       "      <td>basic</td>\n",
       "      <td>0</td>\n",
       "      <td>en</td>\n",
       "      <td>direct</td>\n",
       "      <td>direct</td>\n",
       "      <td>linked</td>\n",
       "      <td>Web</td>\n",
       "      <td>Windows Desktop</td>\n",
       "      <td>Chrome</td>\n",
       "      <td>Unknown</td>\n",
       "    </tr>\n",
       "    <tr>\n",
       "      <th>3</th>\n",
       "      <td>6c6puo6ix0</td>\n",
       "      <td>2014-07-01</td>\n",
       "      <td>20140701000215</td>\n",
       "      <td>NaN</td>\n",
       "      <td>Unknown</td>\n",
       "      <td>NaN</td>\n",
       "      <td>basic</td>\n",
       "      <td>0</td>\n",
       "      <td>en</td>\n",
       "      <td>direct</td>\n",
       "      <td>direct</td>\n",
       "      <td>linked</td>\n",
       "      <td>Web</td>\n",
       "      <td>Windows Desktop</td>\n",
       "      <td>IE</td>\n",
       "      <td>Unknown</td>\n",
       "    </tr>\n",
       "    <tr>\n",
       "      <th>4</th>\n",
       "      <td>czqhjk3yfe</td>\n",
       "      <td>2014-07-01</td>\n",
       "      <td>20140701000305</td>\n",
       "      <td>NaN</td>\n",
       "      <td>Unknown</td>\n",
       "      <td>NaN</td>\n",
       "      <td>basic</td>\n",
       "      <td>0</td>\n",
       "      <td>en</td>\n",
       "      <td>direct</td>\n",
       "      <td>direct</td>\n",
       "      <td>untracked</td>\n",
       "      <td>Web</td>\n",
       "      <td>Mac Desktop</td>\n",
       "      <td>Safari</td>\n",
       "      <td>Unknown</td>\n",
       "    </tr>\n",
       "  </tbody>\n",
       "</table>\n",
       "</div>"
      ],
      "text/plain": [
       "           id date_account_created    ...      first_browser  age_group\n",
       "0  5uwns89zht           2014-07-01    ...      Mobile Safari      Young\n",
       "1  jtl0dijy2j           2014-07-01    ...      Mobile Safari    Unknown\n",
       "2  xx0ulgorjt           2014-07-01    ...             Chrome    Unknown\n",
       "3  6c6puo6ix0           2014-07-01    ...                 IE    Unknown\n",
       "4  czqhjk3yfe           2014-07-01    ...             Safari    Unknown\n",
       "\n",
       "[5 rows x 16 columns]"
      ]
     },
     "execution_count": 130,
     "metadata": {},
     "output_type": "execute_result"
    }
   ],
   "source": [
    "df_test = pd.read_csv('../input/test_users.csv')\n",
    "df_test['gender'] = df_test['gender'].replace('-unknown-', 'Unknown')\n",
    "df_test['age_group'] = df_test['age'].apply(set_age_group)\n",
    "df_test.head()"
   ]
  },
  {
   "cell_type": "code",
   "execution_count": 131,
   "metadata": {},
   "outputs": [],
   "source": [
    "#df_test = feature_engineering(df_test)\n",
    "#df_test = df_test.drop('is_weibo', axis=1)"
   ]
  },
  {
   "cell_type": "code",
   "execution_count": 132,
   "metadata": {},
   "outputs": [],
   "source": [
    "#df_test.columns"
   ]
  },
  {
   "cell_type": "code",
   "execution_count": 133,
   "metadata": {
    "scrolled": true
   },
   "outputs": [],
   "source": [
    "#X.columns"
   ]
  },
  {
   "cell_type": "code",
   "execution_count": 134,
   "metadata": {},
   "outputs": [],
   "source": [
    "#pred_prob = clf.predict_proba(df_test)"
   ]
  },
  {
   "cell_type": "code",
   "execution_count": 135,
   "metadata": {},
   "outputs": [],
   "source": [
    "#pred_prob = pd.DataFrame(pred_prob, index=df_test.index)\n",
    "#pred_prob.head()"
   ]
  },
  {
   "cell_type": "code",
   "execution_count": 136,
   "metadata": {},
   "outputs": [],
   "source": [
    "#inv_classes = {v: k for k, v in class_dict.items()}\n",
    "#inv_classes"
   ]
  },
  {
   "cell_type": "code",
   "execution_count": 137,
   "metadata": {},
   "outputs": [],
   "source": [
    "def get_top(s):\n",
    "    indexes = [i for i in range(0,12)]\n",
    "    lst = list(zip(indexes, s))\n",
    "    top_five = sorted(lst, key=lambda x: x[1], reverse=True)[:5]\n",
    "    top_five = [inv_classes[i[0]] for i in top_five]\n",
    "    return str(top_five)"
   ]
  },
  {
   "cell_type": "code",
   "execution_count": 138,
   "metadata": {},
   "outputs": [],
   "source": [
    "#pred_prob['get_top'] = pred_prob.apply(get_top, axis=1)\n",
    "#pred_prob.head()"
   ]
  },
  {
   "cell_type": "code",
   "execution_count": 139,
   "metadata": {},
   "outputs": [],
   "source": [
    "#import ast\n",
    "#pred_prob['get_top'] = pred_prob['get_top'].apply(lambda x: ast.literal_eval(x))"
   ]
  },
  {
   "cell_type": "code",
   "execution_count": 140,
   "metadata": {},
   "outputs": [],
   "source": [
    "#s = pred_prob.apply(lambda x: pd.Series(x['get_top']),axis=1).stack().reset_index(level=1, drop=True)\n",
    "#s.name = 'country'"
   ]
  },
  {
   "cell_type": "code",
   "execution_count": 141,
   "metadata": {},
   "outputs": [],
   "source": [
    "#submission = pred_prob.drop([i for i in range(0,12)] + ['get_top'], axis=1).join(s)\n",
    "#submission.head()"
   ]
  },
  {
   "cell_type": "code",
   "execution_count": 142,
   "metadata": {},
   "outputs": [],
   "source": [
    "#submission.to_csv('submission.csv')"
   ]
  },
  {
   "cell_type": "markdown",
   "metadata": {},
   "source": [
    "## Recomendaciones de negocios\n",
    "\n",
    "En función del análisis exploratorio de datos y el modelado predictivo realizados, podemos hacer las siguientes sugerencias a nuestro cliente (Airbnb):\n",
    "\n",
    "* La mayoría de los usuarios de Airbnb están en dispositivos Apple. Además, los usuarios de Android son la minoría y no reservan tan a menudo. ** Es lógico para los negocios invertir más recursos en mejorar la experiencia de usuario de las aplicaciones iOS. ** Por otro lado, Airbnb también podría investigar el menor índice de conversión de los usuarios de Android e intentar deducir cierta correlación con ciertas peculiaridades del Aplicación de Android Airbnb.\n",
    "* Los usuarios de escritorio reservan con mucha más frecuencia que otros usuarios de dispositivos. ** Esto podría significar que la gente use dispositivos más pequeños para navegar y explorar, y escritorios para hacer la reserva real. ** La experiencia del usuario para las aplicaciones en diferentes dispositivos debe ajustarse en consecuencia para lograr los mejores resultados.\n",
    "* La mayoría de los usuarios de Airbnb tienden a reservar un Airbnb dentro del país. ** Por lo tanto, tiene más sentido ofrecer a los usuarios más recomendaciones que sean endémicas del país. ** Los usuarios estadounidenses deben obtener más recomendaciones de Experiencia y Hospedaje dentro de los EE. UU. Este no es el caso con el sitio actual de Airbnb, donde la mayoría de las recomendaciones son lugares exóticos en lugares lejanos.\n",
    "* Las personas que no han completado su información, como Edad y Género, tienen menos probabilidades de reservar Airbnbs. Esto probablemente se deba al hecho de que solo se encuentran en la etapa de exploración. ** El máximo esfuerzo de marketing debe estar dirigido a estas personas y se les debe hacer las ofertas más atractivas pero asequibles para aumentar su tasa de conversión. **"
   ]
  },
  {
   "cell_type": "markdown",
   "metadata": {},
   "source": [
    "## Conclusión"
   ]
  },
  {
   "cell_type": "markdown",
   "metadata": {},
   "source": [
    "Este cuaderno demostró todos los pasos principales que tienen lugar en el análisis de datos de desempeño y el modelado predictivo en un problema típico de la ciencia de datos. Los datos fueron manipulados y limpiados. Esto fue seguido por algunas estadísticas inferenciales para deducir las relaciones entre las características. Se realizó una EDA extensa para obtener información sobre los datos y se usaron para extraer e diseñar nuevas características.\n",
    "\n",
    "Finalmente, se consideraron varios clasificadores y se seleccionó el ** Gradient Boosting Classfier ** y se ajustaron sus parámetros. Este clasificador se utilizó para predecir el destino de nuestros usuarios de prueba y se creó un archivo de envío en el formato sugerido por Airbnb.\n",
    "\n",
    "El puntaje oficial de Kaggle obtenido fue ** 0,86527. ** Este puntaje puede, por supuesto, mejorarse a través de un ajuste más hiperparamétrico y una ingeniería de funciones más avanzada, pero la mejora es extremadamente mínima. Por lo tanto voy a concluir este cuaderno aquí. ¡Gracias!"
   ]
  }
 ],
 "metadata": {
  "kernelspec": {
   "display_name": "Python 3",
   "language": "python",
   "name": "python3"
  },
  "language_info": {
   "codemirror_mode": {
    "name": "ipython",
    "version": 3
   },
   "file_extension": ".py",
   "mimetype": "text/x-python",
   "name": "python",
   "nbconvert_exporter": "python",
   "pygments_lexer": "ipython3",
   "version": "3.6.0"
  }
 },
 "nbformat": 4,
 "nbformat_minor": 1
}
