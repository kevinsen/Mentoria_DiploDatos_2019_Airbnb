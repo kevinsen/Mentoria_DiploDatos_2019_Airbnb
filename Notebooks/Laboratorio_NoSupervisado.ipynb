{
 "cells": [
  {
   "cell_type": "markdown",
   "metadata": {},
   "source": [
    "# Laboratorio + Trabajo Final: Aprendizaje No Supervisado"
   ]
  },
  {
   "cell_type": "markdown",
   "metadata": {},
   "source": [
    "## ¿A dónde realizan su primera reserva los nuevos usuarios de Airbnb?\n",
    "\n",
    "Durante este práctico vamos a trabajar con todos los datos provistos por [Airbnb New User Bookings](https://www.kaggle.com/c/airbnb-recruiting-new-user-bookings/data) en Kaggle.\n",
    "\n",
    "## Objetivo y alcance:\n",
    "\n",
    "En este laboratorio vamos a aplicar todo lo aprendido en las materias previas y lo vamos a complementar con lo aprendido en la materia de __Aprendizaje No Supervisado__. \n",
    "\n",
    "## Estructura del informe:\n",
    "\n",
    "  * Jupyter Notebook con el análisis realizado.\n",
    "  \n",
    "---"
   ]
  },
  {
   "cell_type": "markdown",
   "metadata": {},
   "source": [
    "## Tareas:"
   ]
  },
  {
   "cell_type": "markdown",
   "metadata": {},
   "source": [
    "1. __Segmentación de las destinos__: Realizar una segmentación de los diferentes destinos junto con las diferentes variables disponibles y hacer un análisis de los grupos obtenidos (__data.csv__). Podría utilizarse un algoritmo como *K-Means* con algún método de optimización de número de clusters como *Elbow method*. \n",
    "\n",
    "\n",
    "2. __Sistema de recomendación de destinos__: Armar un pequeño sistema de recomendación, por ejemplo: si utilizan el set de datos __age_gender_bkts.csv__, se puede hacer un recomendador de destinos en base a la edad y el género de un usuario, etc. \n",
    "\n",
    "\n",
    "3. __Trabajo Final de la Diplomatura__: Como hablamos durante nuestra primera reunión, la idea de los profes de teoría es poder armar un trabajo final de la mentoría, donde ustedes puedan mostrar un poco de todo lo aprendido. A mi se me ocurrió la idea de armar un sistema de recomendación completo que incluya: el algoritmo de recomendación propiamente dicho, la interfaz gráfica, API, almacenamiento en la nube, etc. Para ello se puede hacer uso de un framework de python llamado *Flask* (les dejo algunos links abajo)."
   ]
  },
  {
   "cell_type": "markdown",
   "metadata": {},
   "source": [
    "## Documentación para Trabajo Final:\n",
    "\n",
    "[Web de Flask](http://flask.pocoo.org/)\n",
    "\n",
    "[Doc de Flask](http://flask.pocoo.org/docs/1.0/)\n",
    "\n",
    "[Github de Flask](https://github.com/pallets/flask)\n",
    "\n",
    "[Crear un API y una aplicación web con Flask](https://blog.nearsoftjobs.com/crear-un-api-y-una-aplicaci%C3%B3n-web-con-flask-6a76b8bf5383)"
   ]
  }
 ],
 "metadata": {
  "kernelspec": {
   "display_name": "Python 3",
   "language": "python",
   "name": "python3"
  },
  "language_info": {
   "codemirror_mode": {
    "name": "ipython",
    "version": 3
   },
   "file_extension": ".py",
   "mimetype": "text/x-python",
   "name": "python",
   "nbconvert_exporter": "python",
   "pygments_lexer": "ipython3",
   "version": "3.6.8"
  }
 },
 "nbformat": 4,
 "nbformat_minor": 2
}
