{
 "cells": [
  {
   "cell_type": "markdown",
   "metadata": {
    "_uuid": "567bad467c89d9545b7d9f6e15515f2b5a3228b6"
   },
   "source": [
    "**AirBnB - Cleaning and First Look @ Data**\n",
    "\n",
    "Sumary of Steps Taken in Kernel\n",
    "\n",
    "Age: \n",
    "1. Drop null values\n",
    "2. Change outliers\n",
    "3. Visualize age across entire dataset\n",
    "\n",
    "Gender:\n",
    "1. Convert to accepted values\n",
    "2. Analyze and visualize destination/gender trends\n",
    "\n",
    "Dates:\n",
    "1. Transform all to datetime notation\n",
    "2. Examine average lengths between important dates\n",
    "3. Examine discrepancies in recorded dates\n",
    "4. Visualize account creation & booking dates\n",
    "\n",
    "Categorical Variables:\n",
    "1. Visualize trends between signup_method, signup_app and country destination\n",
    "2. Summarize first_device_type and language data\n"
   ]
  },
  {
   "cell_type": "code",
   "execution_count": 1,
   "metadata": {
    "_cell_guid": "b1076dfc-b9ad-4769-8c92-a6c4dae69d19",
    "_uuid": "8f2839f25d086af736a60e9eeb907d3b93b6e0e5",
    "collapsed": true
   },
   "outputs": [],
   "source": [
    "import numpy as np\n",
    "import pandas as pd\n",
    "import matplotlib.pyplot as plt\n",
    "import seaborn as sns\n",
    "\n",
    "# Draw inline\n",
    "%matplotlib inline"
   ]
  },
  {
   "cell_type": "code",
   "execution_count": 2,
   "metadata": {
    "_uuid": "809b6304b0551196f54caf03f78e001472cfcdf2",
    "collapsed": true
   },
   "outputs": [],
   "source": [
    "#load users\n",
    "users = pd.read_csv('../Datos/train_users_2.csv')"
   ]
  },
  {
   "cell_type": "markdown",
   "metadata": {
    "_uuid": "76b51bcb6932dcf0e7452855d997125bd8ec6a01"
   },
   "source": [
    "First, clean data. How many elements are NaN? Do you need to drop any columns with missing values? Are there are any other values that are missing?"
   ]
  },
  {
   "cell_type": "code",
   "execution_count": 3,
   "metadata": {
    "_uuid": "04a43b343ee904caa6afc1fe1d9481829f86e3db"
   },
   "outputs": [
    {
     "data": {
      "text/plain": [
       "id                              0\n",
       "date_account_created            0\n",
       "timestamp_first_active          0\n",
       "date_first_booking         124543\n",
       "gender                          0\n",
       "age                         87990\n",
       "signup_method                   0\n",
       "signup_flow                     0\n",
       "language                        0\n",
       "affiliate_channel               0\n",
       "affiliate_provider              0\n",
       "first_affiliate_tracked      6065\n",
       "signup_app                      0\n",
       "first_device_type               0\n",
       "first_browser                   0\n",
       "country_destination             0\n",
       "dtype: int64"
      ]
     },
     "execution_count": 3,
     "metadata": {},
     "output_type": "execute_result"
    }
   ],
   "source": [
    "users.isnull().sum()"
   ]
  },
  {
   "cell_type": "markdown",
   "metadata": {
    "_uuid": "6658d916b2575dc67a9461eea2532fce6ad6de21"
   },
   "source": [
    "**date_first_booking** is NaN for 124543 users; that makes sense as those are the users who did not book a trip anywhere"
   ]
  },
  {
   "cell_type": "markdown",
   "metadata": {
    "_uuid": "4db3b0127086457b52f09cd7704d1ab5dfd6d21a"
   },
   "source": [
    "**age** is NaN for 87990 users; that's not great as that seems like it would be an important variable"
   ]
  },
  {
   "cell_type": "code",
   "execution_count": 4,
   "metadata": {
    "_uuid": "dab0f90c8abd2ea1185505bfd5f59fc9d8086d6a"
   },
   "outputs": [
    {
     "data": {
      "image/png": "[encoded data removed]",
      "text/plain": [
       "<Figure size 432x288 with 1 Axes>"
      ]
     },
     "metadata": {},
     "output_type": "display_data"
    }
   ],
   "source": [
    "#examining age\n",
    "users['age'] = users['age'].dropna()\n",
    "\n",
    "age_plot = sns.countplot(users['age'])\n",
    "\n",
    "#limiting tick frequency for ease of readability \n",
    "for ind, label in enumerate(age_plot.get_xticklabels()):\n",
    "    if ind % 15 == 0:\n",
    "        label.set_visible(True)\n",
    "    else:\n",
    "        label.set_visible(False)\n"
   ]
  },
  {
   "cell_type": "code",
   "execution_count": 5,
   "metadata": {
    "_uuid": "98265924d7503b8f44c7404e7ec85d6cd242397e"
   },
   "outputs": [
    {
     "data": {
      "text/plain": [
       "count    125461.000000\n",
       "mean         49.668335\n",
       "std         155.666612\n",
       "min           1.000000\n",
       "25%          28.000000\n",
       "50%          34.000000\n",
       "75%          43.000000\n",
       "max        2014.000000\n",
       "Name: age, dtype: float64"
      ]
     },
     "execution_count": 5,
     "metadata": {},
     "output_type": "execute_result"
    }
   ],
   "source": [
    "#looks like there are ages at 1 and above 100?\n",
    "\n",
    "users['age'].describe()"
   ]
  },
  {
   "cell_type": "code",
   "execution_count": 6,
   "metadata": {
    "_uuid": "ff1de92708b606b6f6c22b56be40b49f6bbd2eb2",
    "collapsed": true
   },
   "outputs": [],
   "source": [
    "#transform outliers into NaN\n",
    "\n",
    "users.loc[users['age'] < 15, 'age'] = np.NaN\n",
    "users.loc[users['age'] > 100, 'age'] = np.NaN"
   ]
  },
  {
   "cell_type": "markdown",
   "metadata": {
    "_uuid": "efc00ebc57e180ae14e0ff010acf7bdc30f07c9d"
   },
   "source": [
    "Next, we can evaluate gender in the dataset."
   ]
  },
  {
   "cell_type": "code",
   "execution_count": 7,
   "metadata": {
    "_uuid": "2f0771dc45da4d052e536770ae209a15b75e6657"
   },
   "outputs": [
    {
     "data": {
      "text/plain": [
       "<matplotlib.axes._subplots.AxesSubplot at 0x7f96c96092b0>"
      ]
     },
     "execution_count": 7,
     "metadata": {},
     "output_type": "execute_result"
    },
    {
     "data": {
      "image/png": "[encoded data removed]",
      "text/plain": [
       "<Figure size 432x288 with 1 Axes>"
      ]
     },
     "metadata": {},
     "output_type": "display_data"
    }
   ],
   "source": [
    "sns.countplot(users['gender'], palette = \"deep\")"
   ]
  },
  {
   "cell_type": "code",
   "execution_count": 8,
   "metadata": {
    "_uuid": "5c54d2380232117eec998ee3a54611cfe9c63214"
   },
   "outputs": [
    {
     "data": {
      "text/plain": [
       "<matplotlib.axes._subplots.AxesSubplot at 0x7f96875b0128>"
      ]
     },
     "execution_count": 8,
     "metadata": {},
     "output_type": "execute_result"
    },
    {
     "data": {
      "image/png": "[encoded data removed]",
      "text/plain": [
       "<Figure size 432x288 with 1 Axes>"
      ]
     },
     "metadata": {},
     "output_type": "display_data"
    }
   ],
   "source": [
    "#change unknowns to NaN\n",
    "users.loc[users['gender'] == '-unknown-', 'gender'] = np.NaN\n",
    "sns.countplot(users['gender'],  palette = \"deep\")"
   ]
  },
  {
   "cell_type": "code",
   "execution_count": 9,
   "metadata": {
    "_uuid": "b2ea8f33317fc01b2b1da743f167a224e7d9b4ef"
   },
   "outputs": [
    {
     "name": "stdout",
     "output_type": "stream",
     "text": [
      "There are 63041 women and 54440 men in this dataset.\n"
     ]
    }
   ],
   "source": [
    "women = sum(users['gender'] == 'FEMALE')\n",
    "men = sum(users['gender'] == 'MALE')\n",
    "print('There are', women, 'women and', men, 'men in this dataset.')"
   ]
  },
  {
   "cell_type": "code",
   "execution_count": 10,
   "metadata": {
    "_uuid": "5fadd1ecb5b7dc4a7de51b39b75f63c26c39c1f8"
   },
   "outputs": [
    {
     "data": {
      "text/html": [
       "<div>\n",
       "<style scoped>\n",
       "    .dataframe tbody tr th:only-of-type {\n",
       "        vertical-align: middle;\n",
       "    }\n",
       "\n",
       "    .dataframe tbody tr th {\n",
       "        vertical-align: top;\n",
       "    }\n",
       "\n",
       "    .dataframe thead th {\n",
       "        text-align: right;\n",
       "    }\n",
       "</style>\n",
       "<table border=\"1\" class=\"dataframe\">\n",
       "  <thead>\n",
       "    <tr style=\"text-align: right;\">\n",
       "      <th></th>\n",
       "      <th>na gender countries</th>\n",
       "      <th>complete gender countries</th>\n",
       "    </tr>\n",
       "  </thead>\n",
       "  <tbody>\n",
       "    <tr>\n",
       "      <th>NDF</th>\n",
       "      <td>69.674358</td>\n",
       "      <td>49.143619</td>\n",
       "    </tr>\n",
       "    <tr>\n",
       "      <th>US</th>\n",
       "      <td>21.015174</td>\n",
       "      <td>35.891579</td>\n",
       "    </tr>\n",
       "    <tr>\n",
       "      <th>other</th>\n",
       "      <td>3.625324</td>\n",
       "      <td>5.625706</td>\n",
       "    </tr>\n",
       "    <tr>\n",
       "      <th>FR</th>\n",
       "      <td>1.790193</td>\n",
       "      <td>2.810730</td>\n",
       "    </tr>\n",
       "    <tr>\n",
       "      <th>IT</th>\n",
       "      <td>1.086866</td>\n",
       "      <td>1.524248</td>\n",
       "    </tr>\n",
       "    <tr>\n",
       "      <th>GB</th>\n",
       "      <td>0.792158</td>\n",
       "      <td>1.329789</td>\n",
       "    </tr>\n",
       "    <tr>\n",
       "      <th>ES</th>\n",
       "      <td>0.747220</td>\n",
       "      <td>1.302616</td>\n",
       "    </tr>\n",
       "    <tr>\n",
       "      <th>CA</th>\n",
       "      <td>0.513126</td>\n",
       "      <td>0.795666</td>\n",
       "    </tr>\n",
       "    <tr>\n",
       "      <th>DE</th>\n",
       "      <td>0.296798</td>\n",
       "      <td>0.659800</td>\n",
       "    </tr>\n",
       "    <tr>\n",
       "      <th>NL</th>\n",
       "      <td>0.237229</td>\n",
       "      <td>0.454302</td>\n",
       "    </tr>\n",
       "    <tr>\n",
       "      <th>AU</th>\n",
       "      <td>0.149444</td>\n",
       "      <td>0.336269</td>\n",
       "    </tr>\n",
       "    <tr>\n",
       "      <th>PT</th>\n",
       "      <td>0.072109</td>\n",
       "      <td>0.125676</td>\n",
       "    </tr>\n",
       "  </tbody>\n",
       "</table>\n",
       "</div>"
      ],
      "text/plain": [
       "       na gender countries  complete gender countries\n",
       "NDF              69.674358                  49.143619\n",
       "US               21.015174                  35.891579\n",
       "other             3.625324                   5.625706\n",
       "FR                1.790193                   2.810730\n",
       "IT                1.086866                   1.524248\n",
       "GB                0.792158                   1.329789\n",
       "ES                0.747220                   1.302616\n",
       "CA                0.513126                   0.795666\n",
       "DE                0.296798                   0.659800\n",
       "NL                0.237229                   0.454302\n",
       "AU                0.149444                   0.336269\n",
       "PT                0.072109                   0.125676"
      ]
     },
     "execution_count": 10,
     "metadata": {},
     "output_type": "execute_result"
    }
   ],
   "source": [
    "#any trend in country destinations in users who put NaN as their gender?\n",
    "\n",
    "#total number who have NaN genders, and their destinations (proportional)\n",
    "na_genders = users.loc[users['gender'].isna(), 'country_destination'].value_counts().sum()\n",
    "na_gender_countries = users.loc[users['gender'].isna(), 'country_destination'].value_counts() / na_genders * 100\n",
    "\n",
    "#non NaN country destinations (proportional)\n",
    "complete_genders = users.loc[users['gender'].notnull(), 'country_destination'].value_counts().sum()\n",
    "complete_gender_countries = users.loc[users['gender'].notnull(), 'country_destination'].value_counts() / complete_genders * 100\n",
    "\n",
    "compared_na_genders = pd.concat([na_gender_countries, complete_gender_countries], axis = 1)\n",
    "compared_na_genders.columns = ['na gender countries', 'complete gender countries']\n",
    "compared_na_genders\n",
    "\n",
    "#so definitely greater proportion of folks who have NaN as a gender don't book a trip anywhere"
   ]
  },
  {
   "cell_type": "code",
   "execution_count": 11,
   "metadata": {
    "_uuid": "9ab03f9daed9a2cd4ea2e3758823662576df0495"
   },
   "outputs": [
    {
     "data": {
      "text/html": [
       "<div>\n",
       "<style scoped>\n",
       "    .dataframe tbody tr th:only-of-type {\n",
       "        vertical-align: middle;\n",
       "    }\n",
       "\n",
       "    .dataframe tbody tr th {\n",
       "        vertical-align: top;\n",
       "    }\n",
       "\n",
       "    .dataframe thead th {\n",
       "        text-align: right;\n",
       "    }\n",
       "</style>\n",
       "<table border=\"1\" class=\"dataframe\">\n",
       "  <thead>\n",
       "    <tr style=\"text-align: right;\">\n",
       "      <th></th>\n",
       "      <th>female destinations</th>\n",
       "      <th>male destinations</th>\n",
       "    </tr>\n",
       "  </thead>\n",
       "  <tbody>\n",
       "    <tr>\n",
       "      <th>NDF</th>\n",
       "      <td>49.250488</td>\n",
       "      <td>49.079721</td>\n",
       "    </tr>\n",
       "    <tr>\n",
       "      <th>US</th>\n",
       "      <td>35.998794</td>\n",
       "      <td>35.740265</td>\n",
       "    </tr>\n",
       "    <tr>\n",
       "      <th>other</th>\n",
       "      <td>5.012611</td>\n",
       "      <td>6.324394</td>\n",
       "    </tr>\n",
       "    <tr>\n",
       "      <th>FR</th>\n",
       "      <td>3.112260</td>\n",
       "      <td>2.452241</td>\n",
       "    </tr>\n",
       "    <tr>\n",
       "      <th>IT</th>\n",
       "      <td>1.730620</td>\n",
       "      <td>1.283982</td>\n",
       "    </tr>\n",
       "    <tr>\n",
       "      <th>GB</th>\n",
       "      <td>1.397503</td>\n",
       "      <td>1.252755</td>\n",
       "    </tr>\n",
       "    <tr>\n",
       "      <th>ES</th>\n",
       "      <td>1.353088</td>\n",
       "      <td>1.243571</td>\n",
       "    </tr>\n",
       "    <tr>\n",
       "      <th>CA</th>\n",
       "      <td>0.721753</td>\n",
       "      <td>0.876194</td>\n",
       "    </tr>\n",
       "    <tr>\n",
       "      <th>DE</th>\n",
       "      <td>0.567884</td>\n",
       "      <td>0.764144</td>\n",
       "    </tr>\n",
       "    <tr>\n",
       "      <th>NL</th>\n",
       "      <td>0.402912</td>\n",
       "      <td>0.510654</td>\n",
       "    </tr>\n",
       "    <tr>\n",
       "      <th>AU</th>\n",
       "      <td>0.328358</td>\n",
       "      <td>0.345334</td>\n",
       "    </tr>\n",
       "    <tr>\n",
       "      <th>PT</th>\n",
       "      <td>0.123729</td>\n",
       "      <td>0.126745</td>\n",
       "    </tr>\n",
       "  </tbody>\n",
       "</table>\n",
       "</div>"
      ],
      "text/plain": [
       "       female destinations  male destinations\n",
       "NDF              49.250488          49.079721\n",
       "US               35.998794          35.740265\n",
       "other             5.012611           6.324394\n",
       "FR                3.112260           2.452241\n",
       "IT                1.730620           1.283982\n",
       "GB                1.397503           1.252755\n",
       "ES                1.353088           1.243571\n",
       "CA                0.721753           0.876194\n",
       "DE                0.567884           0.764144\n",
       "NL                0.402912           0.510654\n",
       "AU                0.328358           0.345334\n",
       "PT                0.123729           0.126745"
      ]
     },
     "execution_count": 11,
     "metadata": {},
     "output_type": "execute_result"
    }
   ],
   "source": [
    "#Is there an initial trend in where (filled out) genders are going?\n",
    "\n",
    "#find number of female and male users\n",
    "\n",
    "female = users.loc[users['gender'] == 'FEMALE', 'country_destination'].value_counts().sum()\n",
    "male = users.loc[users['gender'] == 'MALE', 'country_destination'].value_counts().sum()\n",
    "\n",
    "#scale according to total numbers of female and male users\n",
    "\n",
    "female_destinations = users.loc[users['gender'] == 'FEMALE', 'country_destination'].value_counts() / female * 100\n",
    "male_destinations = users.loc[users['gender'] == 'MALE', 'country_destination'].value_counts() / male * 100\n",
    "\n",
    "gender_dest = pd.concat([female_destinations, male_destinations], axis=1)\n",
    "gender_dest.columns = ['female destinations', 'male destinations']\n",
    "gender_dest"
   ]
  },
  {
   "cell_type": "code",
   "execution_count": 12,
   "metadata": {
    "_uuid": "cedb78cfeb23a257ec3f86e3a8f06dfad4f159cf"
   },
   "outputs": [
    {
     "data": {
      "text/plain": [
       "Text(0,0.5,'Percentage')"
      ]
     },
     "execution_count": 12,
     "metadata": {},
     "output_type": "execute_result"
    },
    {
     "data": {
      "image/png": "[encoded data removed]",
      "text/plain": [
       "<Figure size 432x288 with 1 Axes>"
      ]
     },
     "metadata": {},
     "output_type": "display_data"
    }
   ],
   "source": [
    "ax = gender_dest.plot.bar(colormap = 'jet', title = 'Percentage of Gender Per Destination')\n",
    "ax.set_xlabel(\"Country Destination\")\n",
    "ax.set_ylabel(\"Percentage\")\n",
    "\n",
    "# Looks just about the same for both groups - nothing stands out here"
   ]
  },
  {
   "cell_type": "markdown",
   "metadata": {
    "_uuid": "f826e267cf82b08919a1193e4f80a4e0b66ff87c"
   },
   "source": [
    "Now, let's handle the dates - are they all in the correct format?"
   ]
  },
  {
   "cell_type": "code",
   "execution_count": 13,
   "metadata": {
    "_uuid": "14d56aad8675fb282e0b3936d44e635112b4ffb6"
   },
   "outputs": [
    {
     "name": "stdout",
     "output_type": "stream",
     "text": [
      "Date Account Created \n",
      " 177448    2014-04-18\n",
      "96598     2013-08-05\n",
      "203138    2014-06-11\n",
      "Name: date_account_created, dtype: object\n",
      "\n",
      "\n",
      "Date of First Booking \n",
      " 141238           NaN\n",
      "210282           NaN\n",
      "123091    2014-09-29\n",
      "Name: date_first_booking, dtype: object\n"
     ]
    }
   ],
   "source": [
    "#checking what format the dates are in, as they're not in timestamp form (from users.dtypes)\n",
    "\n",
    "print(\"Date Account Created\",\"\\n\", users['date_account_created'].sample(3))\n",
    "print(\"\\n\")\n",
    "print(\"Date of First Booking\", \"\\n\", users['date_first_booking'].sample(3))"
   ]
  },
  {
   "cell_type": "code",
   "execution_count": 14,
   "metadata": {
    "_uuid": "9a1bb02cd15e8ef3eea6ae3c1b2733c98d24e37c",
    "collapsed": true
   },
   "outputs": [],
   "source": [
    "#convert dates to proper datetime notation\n",
    "\n",
    "users['date_account_created'] = pd.to_datetime(users['date_account_created'], format = '%Y-%m-%d', errors='coerce')\n",
    "users['date_first_booking'] = pd.to_datetime(users['date_first_booking'], format = '%Y-%m-%d', errors='coerce')"
   ]
  },
  {
   "cell_type": "code",
   "execution_count": 15,
   "metadata": {
    "_uuid": "1c4d0d68d69f30d73930862e39e4a719028301ca"
   },
   "outputs": [
    {
     "data": {
      "text/plain": [
       "count                  213451\n",
       "unique                   1634\n",
       "top       2014-05-13 00:00:00\n",
       "freq                      674\n",
       "first     2010-01-01 00:00:00\n",
       "last      2014-06-30 00:00:00\n",
       "Name: date_account_created, dtype: object"
      ]
     },
     "execution_count": 15,
     "metadata": {},
     "output_type": "execute_result"
    }
   ],
   "source": [
    "users['date_account_created'].describe()"
   ]
  },
  {
   "cell_type": "code",
   "execution_count": 16,
   "metadata": {
    "_uuid": "90f394988f0e273d8349252ee2a78e0f33ba6a81"
   },
   "outputs": [
    {
     "data": {
      "text/plain": [
       "count                   88908\n",
       "unique                   1976\n",
       "top       2014-05-22 00:00:00\n",
       "freq                      248\n",
       "first     2010-01-02 00:00:00\n",
       "last      2015-06-29 00:00:00\n",
       "Name: date_first_booking, dtype: object"
      ]
     },
     "execution_count": 16,
     "metadata": {},
     "output_type": "execute_result"
    }
   ],
   "source": [
    "users['date_first_booking'].describe()"
   ]
  },
  {
   "cell_type": "code",
   "execution_count": 17,
   "metadata": {
    "_uuid": "c16608500fcb8410c6ada1a2f727a0b17bfdd768",
    "collapsed": true
   },
   "outputs": [],
   "source": [
    "#finding the average lengh between account created and first booking\n",
    "\n",
    "import datetime as dt"
   ]
  },
  {
   "cell_type": "code",
   "execution_count": 18,
   "metadata": {
    "_uuid": "31c6fed8f54e69ab4cb906562307a09408be9d61"
   },
   "outputs": [
    {
     "name": "stdout",
     "output_type": "stream",
     "text": [
      "Average length between account creation & first booking: 44 days 08:41:59.854231\n"
     ]
    }
   ],
   "source": [
    "users['Difference'] = users['date_first_booking'] - users['date_account_created']\n",
    "print(\"Average length between account creation & first booking:\", users['Difference'].mean())\n"
   ]
  },
  {
   "cell_type": "code",
   "execution_count": 19,
   "metadata": {
    "_uuid": "9166a6a036f7e0b559049ca8f533a4f1e3c6aaba"
   },
   "outputs": [
    {
     "data": {
      "text/plain": [
       "count                      88908\n",
       "mean     44 days 08:41:59.854231\n",
       "std      87 days 11:59:22.090141\n",
       "min          -349 days +00:00:00\n",
       "25%              1 days 00:00:00\n",
       "50%              3 days 00:00:00\n",
       "75%             29 days 00:00:00\n",
       "max            365 days 00:00:00\n",
       "Name: Difference, dtype: object"
      ]
     },
     "execution_count": 19,
     "metadata": {},
     "output_type": "execute_result"
    }
   ],
   "source": [
    "users['Difference'].describe()\n",
    "\n",
    "#How are there negative days between account creation & first booking?"
   ]
  },
  {
   "cell_type": "code",
   "execution_count": 20,
   "metadata": {
    "_uuid": "dfa2c42ae20652d05c7dab1b6fe1bec0f752d032"
   },
   "outputs": [
    {
     "data": {
      "text/html": [
       "<div>\n",
       "<style scoped>\n",
       "    .dataframe tbody tr th:only-of-type {\n",
       "        vertical-align: middle;\n",
       "    }\n",
       "\n",
       "    .dataframe tbody tr th {\n",
       "        vertical-align: top;\n",
       "    }\n",
       "\n",
       "    .dataframe thead th {\n",
       "        text-align: right;\n",
       "    }\n",
       "</style>\n",
       "<table border=\"1\" class=\"dataframe\">\n",
       "  <thead>\n",
       "    <tr style=\"text-align: right;\">\n",
       "      <th></th>\n",
       "      <th>id</th>\n",
       "      <th>date_account_created</th>\n",
       "      <th>timestamp_first_active</th>\n",
       "      <th>date_first_booking</th>\n",
       "      <th>gender</th>\n",
       "      <th>age</th>\n",
       "      <th>signup_method</th>\n",
       "      <th>signup_flow</th>\n",
       "      <th>language</th>\n",
       "      <th>affiliate_channel</th>\n",
       "      <th>affiliate_provider</th>\n",
       "      <th>first_affiliate_tracked</th>\n",
       "      <th>signup_app</th>\n",
       "      <th>first_device_type</th>\n",
       "      <th>first_browser</th>\n",
       "      <th>country_destination</th>\n",
       "      <th>Difference</th>\n",
       "    </tr>\n",
       "  </thead>\n",
       "  <tbody>\n",
       "    <tr>\n",
       "      <th>11277</th>\n",
       "      <td>s8m22bdef5</td>\n",
       "      <td>2012-08-16</td>\n",
       "      <td>20111017225441</td>\n",
       "      <td>2011-10-26</td>\n",
       "      <td>MALE</td>\n",
       "      <td>52.0</td>\n",
       "      <td>basic</td>\n",
       "      <td>0</td>\n",
       "      <td>en</td>\n",
       "      <td>direct</td>\n",
       "      <td>direct</td>\n",
       "      <td>omg</td>\n",
       "      <td>Web</td>\n",
       "      <td>Mac Desktop</td>\n",
       "      <td>Firefox</td>\n",
       "      <td>US</td>\n",
       "      <td>-295 days</td>\n",
       "    </tr>\n",
       "    <tr>\n",
       "      <th>12654</th>\n",
       "      <td>zrt9c49q6s</td>\n",
       "      <td>2011-11-19</td>\n",
       "      <td>20111115231053</td>\n",
       "      <td>2011-11-16</td>\n",
       "      <td>MALE</td>\n",
       "      <td>57.0</td>\n",
       "      <td>basic</td>\n",
       "      <td>3</td>\n",
       "      <td>en</td>\n",
       "      <td>direct</td>\n",
       "      <td>direct</td>\n",
       "      <td>untracked</td>\n",
       "      <td>Web</td>\n",
       "      <td>Windows Desktop</td>\n",
       "      <td>IE</td>\n",
       "      <td>US</td>\n",
       "      <td>-3 days</td>\n",
       "    </tr>\n",
       "    <tr>\n",
       "      <th>1182</th>\n",
       "      <td>ujd35792qs</td>\n",
       "      <td>2011-07-15</td>\n",
       "      <td>20100726044253</td>\n",
       "      <td>2010-09-20</td>\n",
       "      <td>FEMALE</td>\n",
       "      <td>55.0</td>\n",
       "      <td>facebook</td>\n",
       "      <td>0</td>\n",
       "      <td>en</td>\n",
       "      <td>sem-brand</td>\n",
       "      <td>google</td>\n",
       "      <td>linked</td>\n",
       "      <td>Web</td>\n",
       "      <td>Mac Desktop</td>\n",
       "      <td>Safari</td>\n",
       "      <td>IT</td>\n",
       "      <td>-298 days</td>\n",
       "    </tr>\n",
       "    <tr>\n",
       "      <th>12739</th>\n",
       "      <td>ienz1o0vty</td>\n",
       "      <td>2012-05-02</td>\n",
       "      <td>20111117120432</td>\n",
       "      <td>2011-11-17</td>\n",
       "      <td>NaN</td>\n",
       "      <td>NaN</td>\n",
       "      <td>basic</td>\n",
       "      <td>0</td>\n",
       "      <td>en</td>\n",
       "      <td>direct</td>\n",
       "      <td>direct</td>\n",
       "      <td>linked</td>\n",
       "      <td>Web</td>\n",
       "      <td>Windows Desktop</td>\n",
       "      <td>Firefox</td>\n",
       "      <td>US</td>\n",
       "      <td>-167 days</td>\n",
       "    </tr>\n",
       "    <tr>\n",
       "      <th>6521</th>\n",
       "      <td>7ybpeew6pu</td>\n",
       "      <td>2012-10-04</td>\n",
       "      <td>20110714101218</td>\n",
       "      <td>2012-05-17</td>\n",
       "      <td>FEMALE</td>\n",
       "      <td>47.0</td>\n",
       "      <td>basic</td>\n",
       "      <td>0</td>\n",
       "      <td>en</td>\n",
       "      <td>direct</td>\n",
       "      <td>direct</td>\n",
       "      <td>untracked</td>\n",
       "      <td>Web</td>\n",
       "      <td>Windows Desktop</td>\n",
       "      <td>Chrome</td>\n",
       "      <td>US</td>\n",
       "      <td>-140 days</td>\n",
       "    </tr>\n",
       "  </tbody>\n",
       "</table>\n",
       "</div>"
      ],
      "text/plain": [
       "               id date_account_created  timestamp_first_active  \\\n",
       "11277  s8m22bdef5           2012-08-16          20111017225441   \n",
       "12654  zrt9c49q6s           2011-11-19          20111115231053   \n",
       "1182   ujd35792qs           2011-07-15          20100726044253   \n",
       "12739  ienz1o0vty           2012-05-02          20111117120432   \n",
       "6521   7ybpeew6pu           2012-10-04          20110714101218   \n",
       "\n",
       "      date_first_booking  gender   age signup_method  signup_flow language  \\\n",
       "11277         2011-10-26    MALE  52.0         basic            0       en   \n",
       "12654         2011-11-16    MALE  57.0         basic            3       en   \n",
       "1182          2010-09-20  FEMALE  55.0      facebook            0       en   \n",
       "12739         2011-11-17     NaN   NaN         basic            0       en   \n",
       "6521          2012-05-17  FEMALE  47.0         basic            0       en   \n",
       "\n",
       "      affiliate_channel affiliate_provider first_affiliate_tracked signup_app  \\\n",
       "11277            direct             direct                     omg        Web   \n",
       "12654            direct             direct               untracked        Web   \n",
       "1182          sem-brand             google                  linked        Web   \n",
       "12739            direct             direct                  linked        Web   \n",
       "6521             direct             direct               untracked        Web   \n",
       "\n",
       "      first_device_type first_browser country_destination Difference  \n",
       "11277       Mac Desktop       Firefox                  US  -295 days  \n",
       "12654   Windows Desktop            IE                  US    -3 days  \n",
       "1182        Mac Desktop        Safari                  IT  -298 days  \n",
       "12739   Windows Desktop       Firefox                  US  -167 days  \n",
       "6521    Windows Desktop        Chrome                  US  -140 days  "
      ]
     },
     "execution_count": 20,
     "metadata": {},
     "output_type": "execute_result"
    }
   ],
   "source": [
    "users[users['Difference'] < pd.Timedelta(0)].sample(5)\n",
    "\n",
    "#strange - looks like either AirBnb allows you book before creating an account, or this data has been entered incorrectly\n",
    "#for now, going to disregard - but note the date columns might not be entirely trustworthy\n",
    "#upon futhur research, can replace date values as needed"
   ]
  },
  {
   "cell_type": "code",
   "execution_count": 21,
   "metadata": {
    "_uuid": "99cb52c199893a16afaafb4f6b44916cdd83faa9"
   },
   "outputs": [
    {
     "name": "stderr",
     "output_type": "stream",
     "text": [
      "/home/mgonella/miniconda3/lib/python3.6/site-packages/matplotlib/figure.py:459: UserWarning: matplotlib is currently using a non-GUI backend, so cannot show the figure\n",
      "  \"matplotlib is currently using a non-GUI backend, \"\n"
     ]
    },
    {
     "data": {
      "image/png": "[encoded data removed]",
      "text/plain": [
       "<Figure size 1440x504 with 2 Axes>"
      ]
     },
     "metadata": {},
     "output_type": "display_data"
    }
   ],
   "source": [
    "# visualize dates that accounts are created, and the first booking happens\n",
    "\n",
    "grouped_create_date = users['date_account_created'].dt.year\n",
    "grouped_first_date = users['date_first_booking'].dt.year\n",
    "\n",
    "fig, ax = plt.subplots(1,2, figsize=(20, 7))\n",
    "sns.countplot((grouped_create_date), ax=ax[0], hue = users['country_destination'])\n",
    "sns.countplot((grouped_first_date), ax=ax[1], hue = users['country_destination'])\n",
    "\n",
    "ax[0].set_xlabel('Date of Account Creation')\n",
    "ax[0].set_ylabel('Number of Created Accounts')\n",
    "ax[0].set_title('Accounts Created')\n",
    "\n",
    "ax[1].set_xlabel('Date of First Booking')\n",
    "ax[1].set_ylabel('Number of Bookings')\n",
    "ax[1].set_title('Bookings')\n",
    "\n",
    "fig.show()"
   ]
  },
  {
   "cell_type": "code",
   "execution_count": 22,
   "metadata": {
    "_uuid": "7091a3485652f51d6e7ec2c1343e01cf84555c93"
   },
   "outputs": [
    {
     "name": "stdout",
     "output_type": "stream",
     "text": [
      "<class 'numpy.int64'>\n",
      "186373    20140508191300\n",
      "77951     20130519004731\n",
      "Name: timestamp_first_active, dtype: int64\n"
     ]
    }
   ],
   "source": [
    "#now we have to correct the format of 'timestamp_first_active'\n",
    "\n",
    "print(type(users['timestamp_first_active'][0]))\n",
    "print(users['timestamp_first_active'].sample(2))"
   ]
  },
  {
   "cell_type": "code",
   "execution_count": 23,
   "metadata": {
    "_uuid": "58d76c43281eba7b4adf719f0357e431f530bcc4",
    "collapsed": true
   },
   "outputs": [],
   "source": [
    "users['timestamp_first_active'] = pd.to_datetime((users['timestamp_first_active']//1000000), format='%Y%m%d')"
   ]
  },
  {
   "cell_type": "code",
   "execution_count": 24,
   "metadata": {
    "_uuid": "15aabaf61c35960a5e8addbecb0c032ee8ef3ca6"
   },
   "outputs": [
    {
     "name": "stdout",
     "output_type": "stream",
     "text": [
      "Average length between account first active & first booking: 44 days 16:36:44.022135\n",
      "Average length between account first active & date account created: 0 days 05:33:49.162664\n"
     ]
    }
   ],
   "source": [
    "#finding average length between first active day and account creation\n",
    "\n",
    "users['OG_Difference'] = users['date_first_booking'] - users['timestamp_first_active']\n",
    "print(\"Average length between account first active & first booking:\", users['OG_Difference'].mean())\n",
    "\n",
    "#looks to be about the same as account creation & first booking - are account creation & first active very similar same?\n",
    "\n",
    "users['First Lag'] = users['date_account_created'] - users['timestamp_first_active']\n",
    "print(\"Average length between account first active & date account created:\", users['First Lag'].mean())\n",
    "\n",
    "#Looks like most people created their account on the same day they were first active"
   ]
  },
  {
   "cell_type": "code",
   "execution_count": 25,
   "metadata": {
    "_uuid": "821ca6dafaa33d8109bce5303c50883b5db45739"
   },
   "outputs": [
    {
     "data": {
      "text/plain": [
       "count                     213451\n",
       "mean      0 days 05:33:49.162664\n",
       "std      11 days 22:45:41.307539\n",
       "min              0 days 00:00:00\n",
       "25%              0 days 00:00:00\n",
       "50%              0 days 00:00:00\n",
       "75%              0 days 00:00:00\n",
       "max           1456 days 00:00:00\n",
       "Name: First Lag, dtype: object"
      ]
     },
     "execution_count": 25,
     "metadata": {},
     "output_type": "execute_result"
    }
   ],
   "source": [
    "users['First Lag'].describe()\n",
    "\n",
    "#although one user waited 1456 days after they were first active to create an account!"
   ]
  },
  {
   "cell_type": "code",
   "execution_count": 26,
   "metadata": {
    "_uuid": "ef27fe01a47cf803f71103a7bfcca4402ace46b2"
   },
   "outputs": [
    {
     "data": {
      "text/plain": [
       "<matplotlib.legend.Legend at 0x7f968714a5f8>"
      ]
     },
     "execution_count": 26,
     "metadata": {},
     "output_type": "execute_result"
    },
    {
     "data": {
      "image/png": "[encoded data removed]",
      "text/plain": [
       "<Figure size 432x288 with 1 Axes>"
      ]
     },
     "metadata": {},
     "output_type": "display_data"
    }
   ],
   "source": [
    "#explore categorical variables - do any have initial trends?\n",
    "\n",
    "sns.countplot(users['signup_method'], hue = users['country_destination'])\n",
    "\n",
    "#setting legend outside of display box\n",
    "plt.legend(bbox_to_anchor=(1.05, 1), loc=2, borderaxespad=0.)"
   ]
  },
  {
   "cell_type": "code",
   "execution_count": 27,
   "metadata": {
    "_uuid": "02f7b62857098ce12fded4b457102869c31fad83"
   },
   "outputs": [
    {
     "data": {
      "text/plain": [
       "<matplotlib.legend.Legend at 0x7f9684e5d4e0>"
      ]
     },
     "execution_count": 27,
     "metadata": {},
     "output_type": "execute_result"
    },
    {
     "data": {
      "image/png": "[encoded data removed]",
      "text/plain": [
       "<Figure size 432x288 with 1 Axes>"
      ]
     },
     "metadata": {},
     "output_type": "display_data"
    }
   ],
   "source": [
    "sns.countplot(users['signup_app'], hue = users['country_destination'])\n",
    "\n",
    "#setting legend outside of display box\n",
    "plt.legend(bbox_to_anchor=(1.05, 1), loc=2, borderaxespad=0.)"
   ]
  },
  {
   "cell_type": "code",
   "execution_count": 28,
   "metadata": {
    "_uuid": "beeecda8d4acd1a4be8ec10a3d13af40410e5d63"
   },
   "outputs": [
    {
     "data": {
      "text/html": [
       "<div>\n",
       "<style scoped>\n",
       "    .dataframe tbody tr th:only-of-type {\n",
       "        vertical-align: middle;\n",
       "    }\n",
       "\n",
       "    .dataframe tbody tr th {\n",
       "        vertical-align: top;\n",
       "    }\n",
       "\n",
       "    .dataframe thead th {\n",
       "        text-align: right;\n",
       "    }\n",
       "</style>\n",
       "<table border=\"1\" class=\"dataframe\">\n",
       "  <thead>\n",
       "    <tr style=\"text-align: right;\">\n",
       "      <th></th>\n",
       "      <th>Mac Desktop</th>\n",
       "      <th>Windows Desktop</th>\n",
       "      <th>iPhone</th>\n",
       "      <th>iPad</th>\n",
       "      <th>Other/Unknown</th>\n",
       "      <th>Android Phone</th>\n",
       "      <th>Android Tablet</th>\n",
       "      <th>Desktop (Other)</th>\n",
       "      <th>SmartPhone (Other)</th>\n",
       "    </tr>\n",
       "  </thead>\n",
       "  <tbody>\n",
       "    <tr>\n",
       "      <th>first_device_type</th>\n",
       "      <td>89600</td>\n",
       "      <td>72716</td>\n",
       "      <td>20759</td>\n",
       "      <td>14339</td>\n",
       "      <td>10667</td>\n",
       "      <td>2803</td>\n",
       "      <td>1292</td>\n",
       "      <td>1199</td>\n",
       "      <td>76</td>\n",
       "    </tr>\n",
       "  </tbody>\n",
       "</table>\n",
       "</div>"
      ],
      "text/plain": [
       "                   Mac Desktop  Windows Desktop  iPhone   iPad  Other/Unknown  \\\n",
       "first_device_type        89600            72716   20759  14339          10667   \n",
       "\n",
       "                   Android Phone  Android Tablet  Desktop (Other)  \\\n",
       "first_device_type           2803            1292             1199   \n",
       "\n",
       "                   SmartPhone (Other)  \n",
       "first_device_type                  76  "
      ]
     },
     "execution_count": 28,
     "metadata": {},
     "output_type": "execute_result"
    }
   ],
   "source": [
    "first_device_type = users['first_device_type'].value_counts()\n",
    "pd.DataFrame(first_device_type).transpose()"
   ]
  },
  {
   "cell_type": "code",
   "execution_count": 29,
   "metadata": {
    "_uuid": "3afe9ab435c72f73540d1b92a69ee0f93b1efe83"
   },
   "outputs": [
    {
     "data": {
      "text/html": [
       "<div>\n",
       "<style scoped>\n",
       "    .dataframe tbody tr th:only-of-type {\n",
       "        vertical-align: middle;\n",
       "    }\n",
       "\n",
       "    .dataframe tbody tr th {\n",
       "        vertical-align: top;\n",
       "    }\n",
       "\n",
       "    .dataframe thead th {\n",
       "        text-align: right;\n",
       "    }\n",
       "</style>\n",
       "<table border=\"1\" class=\"dataframe\">\n",
       "  <thead>\n",
       "    <tr style=\"text-align: right;\">\n",
       "      <th></th>\n",
       "      <th>en</th>\n",
       "      <th>zh</th>\n",
       "      <th>fr</th>\n",
       "      <th>es</th>\n",
       "      <th>ko</th>\n",
       "      <th>de</th>\n",
       "      <th>it</th>\n",
       "      <th>ru</th>\n",
       "      <th>pt</th>\n",
       "      <th>ja</th>\n",
       "      <th>...</th>\n",
       "      <th>cs</th>\n",
       "      <th>no</th>\n",
       "      <th>th</th>\n",
       "      <th>el</th>\n",
       "      <th>id</th>\n",
       "      <th>hu</th>\n",
       "      <th>fi</th>\n",
       "      <th>ca</th>\n",
       "      <th>is</th>\n",
       "      <th>hr</th>\n",
       "    </tr>\n",
       "  </thead>\n",
       "  <tbody>\n",
       "    <tr>\n",
       "      <th>language</th>\n",
       "      <td>206314</td>\n",
       "      <td>1632</td>\n",
       "      <td>1172</td>\n",
       "      <td>915</td>\n",
       "      <td>747</td>\n",
       "      <td>732</td>\n",
       "      <td>514</td>\n",
       "      <td>389</td>\n",
       "      <td>240</td>\n",
       "      <td>225</td>\n",
       "      <td>...</td>\n",
       "      <td>32</td>\n",
       "      <td>30</td>\n",
       "      <td>24</td>\n",
       "      <td>24</td>\n",
       "      <td>22</td>\n",
       "      <td>18</td>\n",
       "      <td>14</td>\n",
       "      <td>5</td>\n",
       "      <td>5</td>\n",
       "      <td>2</td>\n",
       "    </tr>\n",
       "  </tbody>\n",
       "</table>\n",
       "<p>1 rows × 25 columns</p>\n",
       "</div>"
      ],
      "text/plain": [
       "              en    zh    fr   es   ko   de   it   ru   pt   ja ...  cs  no  \\\n",
       "language  206314  1632  1172  915  747  732  514  389  240  225 ...  32  30   \n",
       "\n",
       "          th  el  id  hu  fi  ca  is  hr  \n",
       "language  24  24  22  18  14   5   5   2  \n",
       "\n",
       "[1 rows x 25 columns]"
      ]
     },
     "execution_count": 29,
     "metadata": {},
     "output_type": "execute_result"
    }
   ],
   "source": [
    "language = users['language'].value_counts()\n",
    "pd.DataFrame(language).transpose()"
   ]
  }
 ],
 "metadata": {
  "kernelspec": {
   "display_name": "Python 3",
   "language": "python",
   "name": "python3"
  },
  "language_info": {
   "codemirror_mode": {
    "name": "ipython",
    "version": 3
   },
   "file_extension": ".py",
   "mimetype": "text/x-python",
   "name": "python",
   "nbconvert_exporter": "python",
   "pygments_lexer": "ipython3",
   "version": "3.6.4"
  }
 },
 "nbformat": 4,
 "nbformat_minor": 2
}
